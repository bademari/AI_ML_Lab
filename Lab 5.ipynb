{
 "cells": [
  {
   "cell_type": "markdown",
   "metadata": {},
   "source": [
    "# Building an SVM Classifier for MNIST with Hyperparameter Tuning and Comparative Analysis"
   ]
  },
  {
   "cell_type": "markdown",
   "metadata": {},
   "source": [
    "## Fetch the Dataset"
   ]
  },
  {
   "cell_type": "code",
   "execution_count": 1,
   "metadata": {},
   "outputs": [],
   "source": [
    "import sklearn\n",
    "from sklearn.datasets import fetch_openml\n",
    "import numpy as np"
   ]
  },
  {
   "cell_type": "code",
   "execution_count": 2,
   "metadata": {},
   "outputs": [
    {
     "name": "stderr",
     "output_type": "stream",
     "text": [
      "C:\\Users\\bademari\\AppData\\Local\\Packages\\PythonSoftwareFoundation.Python.3.10_qbz5n2kfra8p0\\LocalCache\\local-packages\\Python310\\site-packages\\sklearn\\datasets\\_openml.py:1022: FutureWarning: The default value of `parser` will change from `'liac-arff'` to `'auto'` in 1.4. You can set `parser='auto'` to silence this warning. Therefore, an `ImportError` will be raised from 1.4 if the dataset is dense and pandas is not installed. Note that the pandas parser may return different data types. See the Notes Section in fetch_openml's API doc for details.\n",
      "  warn(\n"
     ]
    }
   ],
   "source": [
    "mnist = fetch_openml('mnist_784', version=1, as_frame=False)"
   ]
  },
  {
   "cell_type": "code",
   "execution_count": 3,
   "metadata": {},
   "outputs": [
    {
     "data": {
      "text/plain": [
       "(70000,)"
      ]
     },
     "execution_count": 3,
     "metadata": {},
     "output_type": "execute_result"
    }
   ],
   "source": [
    "X, y = mnist[\"data\"], mnist[\"target\"]\n",
    "y = y.astype(np.uint8)\n",
    "y.shape"
   ]
  },
  {
   "cell_type": "code",
   "execution_count": 4,
   "metadata": {},
   "outputs": [],
   "source": [
    "from sklearn.model_selection import train_test_split\n",
    "X_train, X_test, y_train, y_test = X[:60000], X[60000:], y[:60000], y[60000:]\n",
    "X_opt, y_opt = X[:15000], y[:15000]"
   ]
  },
  {
   "cell_type": "code",
   "execution_count": 5,
   "metadata": {},
   "outputs": [],
   "source": [
    "from sklearn.preprocessing import StandardScaler\n",
    "scaler = StandardScaler()\n",
    "X_train_scaled = scaler.fit_transform(X_train)\n",
    "X_test_scaled = scaler.fit_transform(X_test)\n",
    "X_opt_scaled = scaler.fit_transform(X_opt)"
   ]
  },
  {
   "cell_type": "markdown",
   "metadata": {},
   "source": [
    "## Hyperparameter Tuning of the SVM classifier"
   ]
  },
  {
   "cell_type": "markdown",
   "metadata": {},
   "source": [
    "### Random Search"
   ]
  },
  {
   "cell_type": "code",
   "execution_count": 7,
   "metadata": {},
   "outputs": [],
   "source": [
    "from sklearn.svm import SVC\n",
    "svm_classifier = SVC()"
   ]
  },
  {
   "cell_type": "code",
   "execution_count": 8,
   "metadata": {},
   "outputs": [],
   "source": [
    "from sklearn.model_selection import RandomizedSearchCV\n",
    "from scipy.stats import uniform, randint, loguniform\n",
    "param_distributions_poly = {\n",
    "    'kernel': ['poly'],\n",
    "    'degree': randint(2, 6),  \n",
    "    'C': uniform(0.1, 10),    \n",
    "    'coef0': uniform(0, 1)   \n",
    "}\n",
    "\n",
    "\n",
    "param_distributions_rbf = {\n",
    "    'kernel': ['rbf'],\n",
    "    'C': uniform(0.1, 10),   \n",
    "    'gamma': loguniform(1e-4, 1e1)\n",
    "}\n",
    "\n",
    "param_distributions_linear = {\n",
    "    'kernel': ['linear'],\n",
    "    'C': uniform(0.1, 10)\n",
    "}"
   ]
  },
  {
   "cell_type": "code",
   "execution_count": 9,
   "metadata": {},
   "outputs": [],
   "source": [
    "random_search_svm_poly = RandomizedSearchCV(\n",
    "    estimator=svm_classifier,\n",
    "    param_distributions=param_distributions_poly,\n",
    "    n_iter=20,                \n",
    "    scoring='accuracy',       \n",
    "    cv=3,                     \n",
    "    random_state=42,\n",
    "    verbose=3\n",
    ")"
   ]
  },
  {
   "cell_type": "code",
   "execution_count": 10,
   "metadata": {},
   "outputs": [],
   "source": [
    "random_search_svm_rbf = RandomizedSearchCV(\n",
    "    estimator=svm_classifier,\n",
    "    param_distributions=param_distributions_rbf,\n",
    "    n_iter=20,                \n",
    "    scoring='accuracy',      \n",
    "    cv=3,                     \n",
    "    random_state=42,\n",
    "    verbose=3\n",
    ")"
   ]
  },
  {
   "cell_type": "code",
   "execution_count": 11,
   "metadata": {},
   "outputs": [],
   "source": [
    "random_search_svm_linear = RandomizedSearchCV(\n",
    "    estimator=svm_classifier,\n",
    "    param_distributions=param_distributions_linear,\n",
    "    n_iter=20,                \n",
    "    scoring='accuracy',      \n",
    "    cv=3,                     \n",
    "    random_state=42,\n",
    "    verbose=3\n",
    ")"
   ]
  },
  {
   "cell_type": "code",
   "execution_count": 12,
   "metadata": {},
   "outputs": [
    {
     "name": "stdout",
     "output_type": "stream",
     "text": [
      "Fitting 3 folds for each of 20 candidates, totalling 60 fits\n",
      "[CV 1/3] END C=3.845401188473625, coef0=0.9507143064099162, degree=4, kernel=poly;, score=0.964 total time=   7.9s\n",
      "[CV 2/3] END C=3.845401188473625, coef0=0.9507143064099162, degree=4, kernel=poly;, score=0.950 total time=   7.8s\n",
      "[CV 3/3] END C=3.845401188473625, coef0=0.9507143064099162, degree=4, kernel=poly;, score=0.958 total time=   8.6s\n",
      "[CV 1/3] END C=7.896910002727692, coef0=0.596850157946487, degree=3, kernel=poly;, score=0.965 total time=   8.1s\n",
      "[CV 2/3] END C=7.896910002727692, coef0=0.596850157946487, degree=3, kernel=poly;, score=0.951 total time=   8.0s\n",
      "[CV 3/3] END C=7.896910002727692, coef0=0.596850157946487, degree=3, kernel=poly;, score=0.959 total time=   8.0s\n",
      "[CV 1/3] END C=1.6599452033620266, coef0=0.05808361216819946, degree=5, kernel=poly;, score=0.778 total time=  34.6s\n",
      "[CV 2/3] END C=1.6599452033620266, coef0=0.05808361216819946, degree=5, kernel=poly;, score=0.742 total time=  35.1s\n",
      "[CV 3/3] END C=1.6599452033620266, coef0=0.05808361216819946, degree=5, kernel=poly;, score=0.772 total time=  36.0s\n",
      "[CV 1/3] END C=3.4370861113902182, coef0=0.14286681792194078, degree=4, kernel=poly;, score=0.958 total time=  18.4s\n",
      "[CV 2/3] END C=3.4370861113902182, coef0=0.14286681792194078, degree=4, kernel=poly;, score=0.944 total time=  18.0s\n",
      "[CV 3/3] END C=3.4370861113902182, coef0=0.14286681792194078, degree=4, kernel=poly;, score=0.951 total time=  18.4s\n",
      "[CV 1/3] END C=0.30584494295802445, coef0=0.9699098521619943, degree=5, kernel=poly;, score=0.964 total time=  10.5s\n",
      "[CV 2/3] END C=0.30584494295802445, coef0=0.9699098521619943, degree=5, kernel=poly;, score=0.954 total time=   9.9s\n",
      "[CV 3/3] END C=0.30584494295802445, coef0=0.9699098521619943, degree=5, kernel=poly;, score=0.958 total time=   9.8s\n",
      "[CV 1/3] END C=9.485527090157502, coef0=0.0007787658410143283, degree=5, kernel=poly;, score=0.806 total time=  34.8s\n",
      "[CV 2/3] END C=9.485527090157502, coef0=0.0007787658410143283, degree=5, kernel=poly;, score=0.780 total time=  35.2s\n",
      "[CV 3/3] END C=9.485527090157502, coef0=0.0007787658410143283, degree=5, kernel=poly;, score=0.810 total time=  30.9s\n",
      "[CV 1/3] END C=1.9340450985343383, coef0=0.3042422429595377, degree=3, kernel=poly;, score=0.967 total time=  11.0s\n",
      "[CV 2/3] END C=1.9340450985343383, coef0=0.3042422429595377, degree=3, kernel=poly;, score=0.955 total time=  11.0s\n",
      "[CV 3/3] END C=1.9340450985343383, coef0=0.3042422429595377, degree=3, kernel=poly;, score=0.960 total time=  10.4s\n",
      "[CV 1/3] END C=0.17066305219717406, coef0=0.023062425041415757, degree=4, kernel=poly;, score=0.401 total time=  44.5s\n",
      "[CV 2/3] END C=0.17066305219717406, coef0=0.023062425041415757, degree=4, kernel=poly;, score=0.372 total time=  42.6s\n",
      "[CV 3/3] END C=0.17066305219717406, coef0=0.023062425041415757, degree=4, kernel=poly;, score=0.431 total time=  42.3s\n",
      "[CV 1/3] END C=6.218528947223795, coef0=0.13949386065204183, degree=5, kernel=poly;, score=0.944 total time=  21.5s\n",
      "[CV 2/3] END C=6.218528947223795, coef0=0.13949386065204183, degree=5, kernel=poly;, score=0.925 total time=  21.2s\n",
      "[CV 3/3] END C=6.218528947223795, coef0=0.13949386065204183, degree=5, kernel=poly;, score=0.939 total time=  21.5s\n",
      "[CV 1/3] END C=9.83755518841459, coef0=0.23277134043030423, degree=3, kernel=poly;, score=0.968 total time=  10.8s\n",
      "[CV 2/3] END C=9.83755518841459, coef0=0.23277134043030423, degree=3, kernel=poly;, score=0.956 total time=  10.9s\n",
      "[CV 3/3] END C=9.83755518841459, coef0=0.23277134043030423, degree=3, kernel=poly;, score=0.965 total time=  10.4s\n",
      "[CV 1/3] END C=7.951759613930136, coef0=0.19967378215835974, degree=4, kernel=poly;, score=0.968 total time=  14.6s\n",
      "[CV 2/3] END C=7.951759613930136, coef0=0.19967378215835974, degree=4, kernel=poly;, score=0.957 total time=  14.8s\n",
      "[CV 3/3] END C=7.951759613930136, coef0=0.19967378215835974, degree=4, kernel=poly;, score=0.961 total time=  14.5s\n",
      "[CV 1/3] END C=9.932308858067882, coef0=0.4667628932479799, degree=2, kernel=poly;, score=0.962 total time=   7.0s\n",
      "[CV 2/3] END C=9.932308858067882, coef0=0.4667628932479799, degree=2, kernel=poly;, score=0.949 total time=   7.2s\n",
      "[CV 3/3] END C=9.932308858067882, coef0=0.4667628932479799, degree=2, kernel=poly;, score=0.956 total time=   7.0s\n",
      "[CV 1/3] END C=6.175448519014383, coef0=0.17052412368729153, degree=4, kernel=poly;, score=0.966 total time=  15.3s\n",
      "[CV 2/3] END C=6.175448519014383, coef0=0.17052412368729153, degree=4, kernel=poly;, score=0.954 total time=  15.4s\n",
      "[CV 3/3] END C=6.175448519014383, coef0=0.17052412368729153, degree=4, kernel=poly;, score=0.958 total time=  16.6s\n",
      "[CV 1/3] END C=0.2326496115986653, coef0=0.9422017556848528, degree=3, kernel=poly;, score=0.956 total time=   9.7s\n",
      "[CV 2/3] END C=0.2326496115986653, coef0=0.9422017556848528, degree=3, kernel=poly;, score=0.945 total time=   9.4s\n",
      "[CV 3/3] END C=0.2326496115986653, coef0=0.9422017556848528, degree=3, kernel=poly;, score=0.948 total time=   9.1s\n",
      "[CV 1/3] END C=8.18397348116461, coef0=0.3046137691733707, degree=2, kernel=poly;, score=0.965 total time=   7.3s\n",
      "[CV 2/3] END C=8.18397348116461, coef0=0.3046137691733707, degree=2, kernel=poly;, score=0.951 total time=   7.1s\n",
      "[CV 3/3] END C=8.18397348116461, coef0=0.3046137691733707, degree=2, kernel=poly;, score=0.958 total time=   7.0s\n",
      "[CV 1/3] END C=2.40893825622149, coef0=0.24102546602601171, degree=5, kernel=poly;, score=0.954 total time=  18.3s\n",
      "[CV 2/3] END C=2.40893825622149, coef0=0.24102546602601171, degree=5, kernel=poly;, score=0.937 total time=  17.8s\n",
      "[CV 3/3] END C=2.40893825622149, coef0=0.24102546602601171, degree=5, kernel=poly;, score=0.948 total time=  18.3s\n",
      "[CV 1/3] END C=1.3203823484477883, coef0=0.4951769101112702, degree=4, kernel=poly;, score=0.965 total time=  10.5s\n",
      "[CV 2/3] END C=1.3203823484477883, coef0=0.4951769101112702, degree=4, kernel=poly;, score=0.954 total time=  10.4s\n",
      "[CV 3/3] END C=1.3203823484477883, coef0=0.4951769101112702, degree=4, kernel=poly;, score=0.959 total time=  10.1s\n",
      "[CV 1/3] END C=1.833646535077721, coef0=0.3910606075732408, degree=3, kernel=poly;, score=0.966 total time=   9.3s\n",
      "[CV 2/3] END C=1.833646535077721, coef0=0.3910606075732408, degree=3, kernel=poly;, score=0.954 total time=   9.5s\n",
      "[CV 3/3] END C=1.833646535077721, coef0=0.3910606075732408, degree=3, kernel=poly;, score=0.960 total time=   9.5s\n",
      "[CV 1/3] END C=6.72522284353982, coef0=0.31171107608941095, degree=3, kernel=poly;, score=0.967 total time=   9.7s\n",
      "[CV 2/3] END C=6.72522284353982, coef0=0.31171107608941095, degree=3, kernel=poly;, score=0.955 total time=   9.2s\n",
      "[CV 3/3] END C=6.72522284353982, coef0=0.31171107608941095, degree=3, kernel=poly;, score=0.963 total time=   9.5s\n",
      "[CV 1/3] END C=2.179416628681888, coef0=0.5677003278199915, degree=2, kernel=poly;, score=0.960 total time=   7.1s\n",
      "[CV 2/3] END C=2.179416628681888, coef0=0.5677003278199915, degree=2, kernel=poly;, score=0.949 total time=   7.3s\n",
      "[CV 3/3] END C=2.179416628681888, coef0=0.5677003278199915, degree=2, kernel=poly;, score=0.954 total time=   6.8s\n"
     ]
    },
    {
     "data": {
      "text/html": [
       "<style>#sk-container-id-1 {color: black;}#sk-container-id-1 pre{padding: 0;}#sk-container-id-1 div.sk-toggleable {background-color: white;}#sk-container-id-1 label.sk-toggleable__label {cursor: pointer;display: block;width: 100%;margin-bottom: 0;padding: 0.3em;box-sizing: border-box;text-align: center;}#sk-container-id-1 label.sk-toggleable__label-arrow:before {content: \"▸\";float: left;margin-right: 0.25em;color: #696969;}#sk-container-id-1 label.sk-toggleable__label-arrow:hover:before {color: black;}#sk-container-id-1 div.sk-estimator:hover label.sk-toggleable__label-arrow:before {color: black;}#sk-container-id-1 div.sk-toggleable__content {max-height: 0;max-width: 0;overflow: hidden;text-align: left;background-color: #f0f8ff;}#sk-container-id-1 div.sk-toggleable__content pre {margin: 0.2em;color: black;border-radius: 0.25em;background-color: #f0f8ff;}#sk-container-id-1 input.sk-toggleable__control:checked~div.sk-toggleable__content {max-height: 200px;max-width: 100%;overflow: auto;}#sk-container-id-1 input.sk-toggleable__control:checked~label.sk-toggleable__label-arrow:before {content: \"▾\";}#sk-container-id-1 div.sk-estimator input.sk-toggleable__control:checked~label.sk-toggleable__label {background-color: #d4ebff;}#sk-container-id-1 div.sk-label input.sk-toggleable__control:checked~label.sk-toggleable__label {background-color: #d4ebff;}#sk-container-id-1 input.sk-hidden--visually {border: 0;clip: rect(1px 1px 1px 1px);clip: rect(1px, 1px, 1px, 1px);height: 1px;margin: -1px;overflow: hidden;padding: 0;position: absolute;width: 1px;}#sk-container-id-1 div.sk-estimator {font-family: monospace;background-color: #f0f8ff;border: 1px dotted black;border-radius: 0.25em;box-sizing: border-box;margin-bottom: 0.5em;}#sk-container-id-1 div.sk-estimator:hover {background-color: #d4ebff;}#sk-container-id-1 div.sk-parallel-item::after {content: \"\";width: 100%;border-bottom: 1px solid gray;flex-grow: 1;}#sk-container-id-1 div.sk-label:hover label.sk-toggleable__label {background-color: #d4ebff;}#sk-container-id-1 div.sk-serial::before {content: \"\";position: absolute;border-left: 1px solid gray;box-sizing: border-box;top: 0;bottom: 0;left: 50%;z-index: 0;}#sk-container-id-1 div.sk-serial {display: flex;flex-direction: column;align-items: center;background-color: white;padding-right: 0.2em;padding-left: 0.2em;position: relative;}#sk-container-id-1 div.sk-item {position: relative;z-index: 1;}#sk-container-id-1 div.sk-parallel {display: flex;align-items: stretch;justify-content: center;background-color: white;position: relative;}#sk-container-id-1 div.sk-item::before, #sk-container-id-1 div.sk-parallel-item::before {content: \"\";position: absolute;border-left: 1px solid gray;box-sizing: border-box;top: 0;bottom: 0;left: 50%;z-index: -1;}#sk-container-id-1 div.sk-parallel-item {display: flex;flex-direction: column;z-index: 1;position: relative;background-color: white;}#sk-container-id-1 div.sk-parallel-item:first-child::after {align-self: flex-end;width: 50%;}#sk-container-id-1 div.sk-parallel-item:last-child::after {align-self: flex-start;width: 50%;}#sk-container-id-1 div.sk-parallel-item:only-child::after {width: 0;}#sk-container-id-1 div.sk-dashed-wrapped {border: 1px dashed gray;margin: 0 0.4em 0.5em 0.4em;box-sizing: border-box;padding-bottom: 0.4em;background-color: white;}#sk-container-id-1 div.sk-label label {font-family: monospace;font-weight: bold;display: inline-block;line-height: 1.2em;}#sk-container-id-1 div.sk-label-container {text-align: center;}#sk-container-id-1 div.sk-container {/* jupyter's `normalize.less` sets `[hidden] { display: none; }` but bootstrap.min.css set `[hidden] { display: none !important; }` so we also need the `!important` here to be able to override the default hidden behavior on the sphinx rendered scikit-learn.org. See: https://github.com/scikit-learn/scikit-learn/issues/21755 */display: inline-block !important;position: relative;}#sk-container-id-1 div.sk-text-repr-fallback {display: none;}</style><div id=\"sk-container-id-1\" class=\"sk-top-container\"><div class=\"sk-text-repr-fallback\"><pre>RandomizedSearchCV(cv=3, estimator=SVC(), n_iter=20,\n",
       "                   param_distributions={&#x27;C&#x27;: &lt;scipy.stats._distn_infrastructure.rv_continuous_frozen object at 0x000001495E5A2650&gt;,\n",
       "                                        &#x27;coef0&#x27;: &lt;scipy.stats._distn_infrastructure.rv_continuous_frozen object at 0x000001495E5A3280&gt;,\n",
       "                                        &#x27;degree&#x27;: &lt;scipy.stats._distn_infrastructure.rv_discrete_frozen object at 0x000001495E22FE20&gt;,\n",
       "                                        &#x27;kernel&#x27;: [&#x27;poly&#x27;]},\n",
       "                   random_state=42, scoring=&#x27;accuracy&#x27;, verbose=3)</pre><b>In a Jupyter environment, please rerun this cell to show the HTML representation or trust the notebook. <br />On GitHub, the HTML representation is unable to render, please try loading this page with nbviewer.org.</b></div><div class=\"sk-container\" hidden><div class=\"sk-item sk-dashed-wrapped\"><div class=\"sk-label-container\"><div class=\"sk-label sk-toggleable\"><input class=\"sk-toggleable__control sk-hidden--visually\" id=\"sk-estimator-id-1\" type=\"checkbox\" ><label for=\"sk-estimator-id-1\" class=\"sk-toggleable__label sk-toggleable__label-arrow\">RandomizedSearchCV</label><div class=\"sk-toggleable__content\"><pre>RandomizedSearchCV(cv=3, estimator=SVC(), n_iter=20,\n",
       "                   param_distributions={&#x27;C&#x27;: &lt;scipy.stats._distn_infrastructure.rv_continuous_frozen object at 0x000001495E5A2650&gt;,\n",
       "                                        &#x27;coef0&#x27;: &lt;scipy.stats._distn_infrastructure.rv_continuous_frozen object at 0x000001495E5A3280&gt;,\n",
       "                                        &#x27;degree&#x27;: &lt;scipy.stats._distn_infrastructure.rv_discrete_frozen object at 0x000001495E22FE20&gt;,\n",
       "                                        &#x27;kernel&#x27;: [&#x27;poly&#x27;]},\n",
       "                   random_state=42, scoring=&#x27;accuracy&#x27;, verbose=3)</pre></div></div></div><div class=\"sk-parallel\"><div class=\"sk-parallel-item\"><div class=\"sk-item\"><div class=\"sk-label-container\"><div class=\"sk-label sk-toggleable\"><input class=\"sk-toggleable__control sk-hidden--visually\" id=\"sk-estimator-id-2\" type=\"checkbox\" ><label for=\"sk-estimator-id-2\" class=\"sk-toggleable__label sk-toggleable__label-arrow\">estimator: SVC</label><div class=\"sk-toggleable__content\"><pre>SVC()</pre></div></div></div><div class=\"sk-serial\"><div class=\"sk-item\"><div class=\"sk-estimator sk-toggleable\"><input class=\"sk-toggleable__control sk-hidden--visually\" id=\"sk-estimator-id-3\" type=\"checkbox\" ><label for=\"sk-estimator-id-3\" class=\"sk-toggleable__label sk-toggleable__label-arrow\">SVC</label><div class=\"sk-toggleable__content\"><pre>SVC()</pre></div></div></div></div></div></div></div></div></div></div>"
      ],
      "text/plain": [
       "RandomizedSearchCV(cv=3, estimator=SVC(), n_iter=20,\n",
       "                   param_distributions={'C': <scipy.stats._distn_infrastructure.rv_continuous_frozen object at 0x000001495E5A2650>,\n",
       "                                        'coef0': <scipy.stats._distn_infrastructure.rv_continuous_frozen object at 0x000001495E5A3280>,\n",
       "                                        'degree': <scipy.stats._distn_infrastructure.rv_discrete_frozen object at 0x000001495E22FE20>,\n",
       "                                        'kernel': ['poly']},\n",
       "                   random_state=42, scoring='accuracy', verbose=3)"
      ]
     },
     "execution_count": 12,
     "metadata": {},
     "output_type": "execute_result"
    }
   ],
   "source": [
    "random_search_svm_poly.fit(X_opt_scaled, y_opt)"
   ]
  },
  {
   "cell_type": "code",
   "execution_count": 13,
   "metadata": {},
   "outputs": [
    {
     "data": {
      "text/html": [
       "<div>\n",
       "<style scoped>\n",
       "    .dataframe tbody tr th:only-of-type {\n",
       "        vertical-align: middle;\n",
       "    }\n",
       "\n",
       "    .dataframe tbody tr th {\n",
       "        vertical-align: top;\n",
       "    }\n",
       "\n",
       "    .dataframe thead th {\n",
       "        text-align: right;\n",
       "    }\n",
       "</style>\n",
       "<table border=\"1\" class=\"dataframe\">\n",
       "  <thead>\n",
       "    <tr style=\"text-align: right;\">\n",
       "      <th></th>\n",
       "      <th>Score</th>\n",
       "      <th>C</th>\n",
       "      <th>coef0</th>\n",
       "      <th>degree</th>\n",
       "      <th>kernel</th>\n",
       "    </tr>\n",
       "  </thead>\n",
       "  <tbody>\n",
       "    <tr>\n",
       "      <th>9</th>\n",
       "      <td>0.963000</td>\n",
       "      <td>9.837555</td>\n",
       "      <td>0.232771</td>\n",
       "      <td>3</td>\n",
       "      <td>poly</td>\n",
       "    </tr>\n",
       "    <tr>\n",
       "      <th>10</th>\n",
       "      <td>0.961933</td>\n",
       "      <td>7.951760</td>\n",
       "      <td>0.199674</td>\n",
       "      <td>4</td>\n",
       "      <td>poly</td>\n",
       "    </tr>\n",
       "    <tr>\n",
       "      <th>18</th>\n",
       "      <td>0.961400</td>\n",
       "      <td>6.725223</td>\n",
       "      <td>0.311711</td>\n",
       "      <td>3</td>\n",
       "      <td>poly</td>\n",
       "    </tr>\n",
       "    <tr>\n",
       "      <th>6</th>\n",
       "      <td>0.960867</td>\n",
       "      <td>1.934045</td>\n",
       "      <td>0.304242</td>\n",
       "      <td>3</td>\n",
       "      <td>poly</td>\n",
       "    </tr>\n",
       "    <tr>\n",
       "      <th>17</th>\n",
       "      <td>0.960133</td>\n",
       "      <td>1.833647</td>\n",
       "      <td>0.391061</td>\n",
       "      <td>3</td>\n",
       "      <td>poly</td>\n",
       "    </tr>\n",
       "    <tr>\n",
       "      <th>16</th>\n",
       "      <td>0.959667</td>\n",
       "      <td>1.320382</td>\n",
       "      <td>0.495177</td>\n",
       "      <td>4</td>\n",
       "      <td>poly</td>\n",
       "    </tr>\n",
       "    <tr>\n",
       "      <th>12</th>\n",
       "      <td>0.959267</td>\n",
       "      <td>6.175449</td>\n",
       "      <td>0.170524</td>\n",
       "      <td>4</td>\n",
       "      <td>poly</td>\n",
       "    </tr>\n",
       "    <tr>\n",
       "      <th>4</th>\n",
       "      <td>0.958733</td>\n",
       "      <td>0.305845</td>\n",
       "      <td>0.969910</td>\n",
       "      <td>5</td>\n",
       "      <td>poly</td>\n",
       "    </tr>\n",
       "    <tr>\n",
       "      <th>1</th>\n",
       "      <td>0.958200</td>\n",
       "      <td>7.896910</td>\n",
       "      <td>0.596850</td>\n",
       "      <td>3</td>\n",
       "      <td>poly</td>\n",
       "    </tr>\n",
       "    <tr>\n",
       "      <th>14</th>\n",
       "      <td>0.958200</td>\n",
       "      <td>8.183973</td>\n",
       "      <td>0.304614</td>\n",
       "      <td>2</td>\n",
       "      <td>poly</td>\n",
       "    </tr>\n",
       "    <tr>\n",
       "      <th>0</th>\n",
       "      <td>0.957600</td>\n",
       "      <td>3.845401</td>\n",
       "      <td>0.950714</td>\n",
       "      <td>4</td>\n",
       "      <td>poly</td>\n",
       "    </tr>\n",
       "    <tr>\n",
       "      <th>11</th>\n",
       "      <td>0.955667</td>\n",
       "      <td>9.932309</td>\n",
       "      <td>0.466763</td>\n",
       "      <td>2</td>\n",
       "      <td>poly</td>\n",
       "    </tr>\n",
       "    <tr>\n",
       "      <th>19</th>\n",
       "      <td>0.954133</td>\n",
       "      <td>2.179417</td>\n",
       "      <td>0.567700</td>\n",
       "      <td>2</td>\n",
       "      <td>poly</td>\n",
       "    </tr>\n",
       "    <tr>\n",
       "      <th>3</th>\n",
       "      <td>0.950733</td>\n",
       "      <td>3.437086</td>\n",
       "      <td>0.142867</td>\n",
       "      <td>4</td>\n",
       "      <td>poly</td>\n",
       "    </tr>\n",
       "    <tr>\n",
       "      <th>13</th>\n",
       "      <td>0.949667</td>\n",
       "      <td>0.232650</td>\n",
       "      <td>0.942202</td>\n",
       "      <td>3</td>\n",
       "      <td>poly</td>\n",
       "    </tr>\n",
       "    <tr>\n",
       "      <th>15</th>\n",
       "      <td>0.946467</td>\n",
       "      <td>2.408938</td>\n",
       "      <td>0.241025</td>\n",
       "      <td>5</td>\n",
       "      <td>poly</td>\n",
       "    </tr>\n",
       "    <tr>\n",
       "      <th>8</th>\n",
       "      <td>0.935867</td>\n",
       "      <td>6.218529</td>\n",
       "      <td>0.139494</td>\n",
       "      <td>5</td>\n",
       "      <td>poly</td>\n",
       "    </tr>\n",
       "    <tr>\n",
       "      <th>5</th>\n",
       "      <td>0.798733</td>\n",
       "      <td>9.485527</td>\n",
       "      <td>0.000779</td>\n",
       "      <td>5</td>\n",
       "      <td>poly</td>\n",
       "    </tr>\n",
       "    <tr>\n",
       "      <th>2</th>\n",
       "      <td>0.764200</td>\n",
       "      <td>1.659945</td>\n",
       "      <td>0.058084</td>\n",
       "      <td>5</td>\n",
       "      <td>poly</td>\n",
       "    </tr>\n",
       "    <tr>\n",
       "      <th>7</th>\n",
       "      <td>0.401333</td>\n",
       "      <td>0.170663</td>\n",
       "      <td>0.023062</td>\n",
       "      <td>4</td>\n",
       "      <td>poly</td>\n",
       "    </tr>\n",
       "  </tbody>\n",
       "</table>\n",
       "</div>"
      ],
      "text/plain": [
       "       Score         C     coef0  degree kernel\n",
       "9   0.963000  9.837555  0.232771       3   poly\n",
       "10  0.961933  7.951760  0.199674       4   poly\n",
       "18  0.961400  6.725223  0.311711       3   poly\n",
       "6   0.960867  1.934045  0.304242       3   poly\n",
       "17  0.960133  1.833647  0.391061       3   poly\n",
       "16  0.959667  1.320382  0.495177       4   poly\n",
       "12  0.959267  6.175449  0.170524       4   poly\n",
       "4   0.958733  0.305845  0.969910       5   poly\n",
       "1   0.958200  7.896910  0.596850       3   poly\n",
       "14  0.958200  8.183973  0.304614       2   poly\n",
       "0   0.957600  3.845401  0.950714       4   poly\n",
       "11  0.955667  9.932309  0.466763       2   poly\n",
       "19  0.954133  2.179417  0.567700       2   poly\n",
       "3   0.950733  3.437086  0.142867       4   poly\n",
       "13  0.949667  0.232650  0.942202       3   poly\n",
       "15  0.946467  2.408938  0.241025       5   poly\n",
       "8   0.935867  6.218529  0.139494       5   poly\n",
       "5   0.798733  9.485527  0.000779       5   poly\n",
       "2   0.764200  1.659945  0.058084       5   poly\n",
       "7   0.401333  0.170663  0.023062       4   poly"
      ]
     },
     "execution_count": 13,
     "metadata": {},
     "output_type": "execute_result"
    }
   ],
   "source": [
    "import pandas as pd\n",
    "rnd_search_poly_results = random_search_svm_poly.cv_results_\n",
    "results_rnd_poly = [\n",
    "    {'Score': mean_score, **params} \n",
    "    for mean_score, params in zip(rnd_search_poly_results[\"mean_test_score\"], rnd_search_poly_results[\"params\"])\n",
    "]\n",
    "rnd_search_poly_results_df = pd.DataFrame(results_rnd_poly)\n",
    "rnd_search_poly_results_df_sorted = rnd_search_poly_results_df.sort_values(by='Score', ascending=False)\n",
    "rnd_search_poly_results_df_sorted.to_csv('output/rnd_svm_poly_sorted.csv', index=False)\n",
    "rnd_search_poly_results_df_sorted"
   ]
  },
  {
   "cell_type": "code",
   "execution_count": 14,
   "metadata": {},
   "outputs": [
    {
     "name": "stdout",
     "output_type": "stream",
     "text": [
      "Fitting 3 folds for each of 20 candidates, totalling 60 fits\n",
      "[CV 1/3] END C=3.845401188473625, gamma=5.669849511478847, kernel=rbf;, score=0.113 total time= 1.3min\n",
      "[CV 2/3] END C=3.845401188473625, gamma=5.669849511478847, kernel=rbf;, score=0.113 total time= 1.3min\n",
      "[CV 3/3] END C=3.845401188473625, gamma=5.669849511478847, kernel=rbf;, score=0.113 total time= 1.2min\n",
      "[CV 1/3] END C=7.41993941811405, gamma=0.09846738873614563, kernel=rbf;, score=0.178 total time= 1.1min\n",
      "[CV 2/3] END C=7.41993941811405, gamma=0.09846738873614563, kernel=rbf;, score=0.179 total time= 1.1min\n",
      "[CV 3/3] END C=7.41993941811405, gamma=0.09846738873614563, kernel=rbf;, score=0.175 total time= 1.2min\n",
      "[CV 1/3] END C=1.6601864044243653, gamma=0.000602521573620386, kernel=rbf;, score=0.944 total time=  18.0s\n",
      "[CV 2/3] END C=1.6601864044243653, gamma=0.000602521573620386, kernel=rbf;, score=0.932 total time=  18.2s\n",
      "[CV 3/3] END C=1.6601864044243653, gamma=0.000602521573620386, kernel=rbf;, score=0.933 total time=  18.5s\n",
      "[CV 1/3] END C=0.6808361216819946, gamma=2.1423021757741068, kernel=rbf;, score=0.113 total time= 1.3min\n",
      "[CV 2/3] END C=0.6808361216819946, gamma=2.1423021757741068, kernel=rbf;, score=0.113 total time= 1.3min\n",
      "[CV 3/3] END C=0.6808361216819946, gamma=2.1423021757741068, kernel=rbf;, score=0.113 total time= 1.2min\n",
      "[CV 1/3] END C=6.1111501174320875, gamma=0.3470266988650412, kernel=rbf;, score=0.113 total time= 1.1min\n",
      "[CV 2/3] END C=6.1111501174320875, gamma=0.3470266988650412, kernel=rbf;, score=0.113 total time= 1.1min\n",
      "[CV 3/3] END C=6.1111501174320875, gamma=0.3470266988650412, kernel=rbf;, score=0.113 total time= 1.1min\n",
      "[CV 1/3] END C=0.30584494295802445, gamma=7.072114131472227, kernel=rbf;, score=0.113 total time= 1.3min\n",
      "[CV 2/3] END C=0.30584494295802445, gamma=7.072114131472227, kernel=rbf;, score=0.113 total time= 1.2min\n",
      "[CV 3/3] END C=0.30584494295802445, gamma=7.072114131472227, kernel=rbf;, score=0.113 total time= 1.2min\n",
      "[CV 1/3] END C=8.424426408004217, gamma=0.0011526449540315614, kernel=rbf;, score=0.951 total time=  17.5s\n",
      "[CV 2/3] END C=8.424426408004217, gamma=0.0011526449540315614, kernel=rbf;, score=0.945 total time=  17.3s\n",
      "[CV 3/3] END C=8.424426408004217, gamma=0.0011526449540315614, kernel=rbf;, score=0.946 total time=  17.2s\n",
      "[CV 1/3] END C=1.9182496720710063, gamma=0.0008260808399079611, kernel=rbf;, score=0.946 total time=  17.4s\n",
      "[CV 2/3] END C=1.9182496720710063, gamma=0.0008260808399079611, kernel=rbf;, score=0.937 total time=  16.8s\n",
      "[CV 3/3] END C=1.9182496720710063, gamma=0.0008260808399079611, kernel=rbf;, score=0.939 total time=  16.6s\n",
      "[CV 1/3] END C=3.1424224295953773, gamma=0.042051564509138675, kernel=rbf;, score=0.281 total time= 1.1min\n",
      "[CV 2/3] END C=3.1424224295953773, gamma=0.042051564509138675, kernel=rbf;, score=0.295 total time= 1.2min\n",
      "[CV 3/3] END C=3.1424224295953773, gamma=0.042051564509138675, kernel=rbf;, score=0.265 total time= 1.2min\n",
      "[CV 1/3] END C=4.419450186421157, gamma=0.0028585493941961923, kernel=rbf;, score=0.934 total time=  27.2s\n",
      "[CV 2/3] END C=4.419450186421157, gamma=0.0028585493941961923, kernel=rbf;, score=0.935 total time=  26.6s\n",
      "[CV 3/3] END C=4.419450186421157, gamma=0.0028585493941961923, kernel=rbf;, score=0.933 total time=  26.2s\n",
      "[CV 1/3] END C=6.218528947223795, gamma=0.0004982752357076451, kernel=rbf;, score=0.951 total time=  14.7s\n",
      "[CV 2/3] END C=6.218528947223795, gamma=0.0004982752357076451, kernel=rbf;, score=0.939 total time=  14.3s\n",
      "[CV 3/3] END C=6.218528947223795, gamma=0.0004982752357076451, kernel=rbf;, score=0.941 total time=  14.0s\n",
      "[CV 1/3] END C=3.0214464853521816, gamma=0.006789053271698486, kernel=rbf;, score=0.866 total time=  47.8s\n",
      "[CV 2/3] END C=3.0214464853521816, gamma=0.006789053271698486, kernel=rbf;, score=0.863 total time=  48.8s\n",
      "[CV 3/3] END C=3.0214464853521816, gamma=0.006789053271698486, kernel=rbf;, score=0.847 total time=  46.8s\n",
      "[CV 1/3] END C=4.660699842170359, gamma=0.8431013932082461, kernel=rbf;, score=0.113 total time= 1.2min\n",
      "[CV 2/3] END C=4.660699842170359, gamma=0.8431013932082461, kernel=rbf;, score=0.113 total time= 1.2min\n",
      "[CV 3/3] END C=4.660699842170359, gamma=0.8431013932082461, kernel=rbf;, score=0.113 total time= 1.2min\n",
      "[CV 1/3] END C=2.0967378215835972, gamma=0.03725393839578886, kernel=rbf;, score=0.355 total time= 1.1min\n",
      "[CV 2/3] END C=2.0967378215835972, gamma=0.03725393839578886, kernel=rbf;, score=0.364 total time= 1.1min\n",
      "[CV 3/3] END C=2.0967378215835972, gamma=0.03725393839578886, kernel=rbf;, score=0.339 total time= 1.1min\n",
      "[CV 1/3] END C=6.0241456886204245, gamma=0.00017070728830306665, kernel=rbf;, score=0.942 total time=  15.5s\n",
      "[CV 2/3] END C=6.0241456886204245, gamma=0.00017070728830306665, kernel=rbf;, score=0.930 total time=  14.9s\n",
      "[CV 3/3] END C=6.0241456886204245, gamma=0.00017070728830306665, kernel=rbf;, score=0.929 total time=  15.0s\n",
      "[CV 1/3] END C=6.175448519014383, gamma=0.0007122305833333872, kernel=rbf;, score=0.952 total time=  15.1s\n",
      "[CV 2/3] END C=6.175448519014383, gamma=0.0007122305833333872, kernel=rbf;, score=0.944 total time=  15.0s\n",
      "[CV 3/3] END C=6.175448519014383, gamma=0.0007122305833333872, kernel=rbf;, score=0.945 total time=  14.6s\n",
      "[CV 1/3] END C=0.7505159298527951, gamma=5.5517216852447255, kernel=rbf;, score=0.113 total time= 1.3min\n",
      "[CV 2/3] END C=0.7505159298527951, gamma=5.5517216852447255, kernel=rbf;, score=0.113 total time= 1.2min\n",
      "[CV 3/3] END C=0.7505159298527951, gamma=5.5517216852447255, kernel=rbf;, score=0.113 total time= 1.2min\n",
      "[CV 1/3] END C=9.756320330745593, gamma=1.1015056790269626, kernel=rbf;, score=0.113 total time= 1.2min\n",
      "[CV 2/3] END C=9.756320330745593, gamma=1.1015056790269626, kernel=rbf;, score=0.113 total time= 1.3min\n",
      "[CV 3/3] END C=9.756320330745593, gamma=1.1015056790269626, kernel=rbf;, score=0.113 total time= 1.2min\n",
      "[CV 1/3] END C=3.1461376917337067, gamma=0.0003078651783619622, kernel=rbf;, score=0.943 total time=  15.6s\n",
      "[CV 2/3] END C=3.1461376917337067, gamma=0.0003078651783619622, kernel=rbf;, score=0.931 total time=  15.8s\n",
      "[CV 3/3] END C=3.1461376917337067, gamma=0.0003078651783619622, kernel=rbf;, score=0.930 total time=  14.6s\n",
      "[CV 1/3] END C=6.942330265121568, gamma=0.015876781526923997, kernel=rbf;, score=0.676 total time= 1.0min\n",
      "[CV 2/3] END C=6.942330265121568, gamma=0.015876781526923997, kernel=rbf;, score=0.675 total time= 1.0min\n",
      "[CV 3/3] END C=6.942330265121568, gamma=0.015876781526923997, kernel=rbf;, score=0.635 total time= 1.0min\n"
     ]
    },
    {
     "data": {
      "text/html": [
       "<style>#sk-container-id-2 {color: black;}#sk-container-id-2 pre{padding: 0;}#sk-container-id-2 div.sk-toggleable {background-color: white;}#sk-container-id-2 label.sk-toggleable__label {cursor: pointer;display: block;width: 100%;margin-bottom: 0;padding: 0.3em;box-sizing: border-box;text-align: center;}#sk-container-id-2 label.sk-toggleable__label-arrow:before {content: \"▸\";float: left;margin-right: 0.25em;color: #696969;}#sk-container-id-2 label.sk-toggleable__label-arrow:hover:before {color: black;}#sk-container-id-2 div.sk-estimator:hover label.sk-toggleable__label-arrow:before {color: black;}#sk-container-id-2 div.sk-toggleable__content {max-height: 0;max-width: 0;overflow: hidden;text-align: left;background-color: #f0f8ff;}#sk-container-id-2 div.sk-toggleable__content pre {margin: 0.2em;color: black;border-radius: 0.25em;background-color: #f0f8ff;}#sk-container-id-2 input.sk-toggleable__control:checked~div.sk-toggleable__content {max-height: 200px;max-width: 100%;overflow: auto;}#sk-container-id-2 input.sk-toggleable__control:checked~label.sk-toggleable__label-arrow:before {content: \"▾\";}#sk-container-id-2 div.sk-estimator input.sk-toggleable__control:checked~label.sk-toggleable__label {background-color: #d4ebff;}#sk-container-id-2 div.sk-label input.sk-toggleable__control:checked~label.sk-toggleable__label {background-color: #d4ebff;}#sk-container-id-2 input.sk-hidden--visually {border: 0;clip: rect(1px 1px 1px 1px);clip: rect(1px, 1px, 1px, 1px);height: 1px;margin: -1px;overflow: hidden;padding: 0;position: absolute;width: 1px;}#sk-container-id-2 div.sk-estimator {font-family: monospace;background-color: #f0f8ff;border: 1px dotted black;border-radius: 0.25em;box-sizing: border-box;margin-bottom: 0.5em;}#sk-container-id-2 div.sk-estimator:hover {background-color: #d4ebff;}#sk-container-id-2 div.sk-parallel-item::after {content: \"\";width: 100%;border-bottom: 1px solid gray;flex-grow: 1;}#sk-container-id-2 div.sk-label:hover label.sk-toggleable__label {background-color: #d4ebff;}#sk-container-id-2 div.sk-serial::before {content: \"\";position: absolute;border-left: 1px solid gray;box-sizing: border-box;top: 0;bottom: 0;left: 50%;z-index: 0;}#sk-container-id-2 div.sk-serial {display: flex;flex-direction: column;align-items: center;background-color: white;padding-right: 0.2em;padding-left: 0.2em;position: relative;}#sk-container-id-2 div.sk-item {position: relative;z-index: 1;}#sk-container-id-2 div.sk-parallel {display: flex;align-items: stretch;justify-content: center;background-color: white;position: relative;}#sk-container-id-2 div.sk-item::before, #sk-container-id-2 div.sk-parallel-item::before {content: \"\";position: absolute;border-left: 1px solid gray;box-sizing: border-box;top: 0;bottom: 0;left: 50%;z-index: -1;}#sk-container-id-2 div.sk-parallel-item {display: flex;flex-direction: column;z-index: 1;position: relative;background-color: white;}#sk-container-id-2 div.sk-parallel-item:first-child::after {align-self: flex-end;width: 50%;}#sk-container-id-2 div.sk-parallel-item:last-child::after {align-self: flex-start;width: 50%;}#sk-container-id-2 div.sk-parallel-item:only-child::after {width: 0;}#sk-container-id-2 div.sk-dashed-wrapped {border: 1px dashed gray;margin: 0 0.4em 0.5em 0.4em;box-sizing: border-box;padding-bottom: 0.4em;background-color: white;}#sk-container-id-2 div.sk-label label {font-family: monospace;font-weight: bold;display: inline-block;line-height: 1.2em;}#sk-container-id-2 div.sk-label-container {text-align: center;}#sk-container-id-2 div.sk-container {/* jupyter's `normalize.less` sets `[hidden] { display: none; }` but bootstrap.min.css set `[hidden] { display: none !important; }` so we also need the `!important` here to be able to override the default hidden behavior on the sphinx rendered scikit-learn.org. See: https://github.com/scikit-learn/scikit-learn/issues/21755 */display: inline-block !important;position: relative;}#sk-container-id-2 div.sk-text-repr-fallback {display: none;}</style><div id=\"sk-container-id-2\" class=\"sk-top-container\"><div class=\"sk-text-repr-fallback\"><pre>RandomizedSearchCV(cv=3, estimator=SVC(), n_iter=20,\n",
       "                   param_distributions={&#x27;C&#x27;: &lt;scipy.stats._distn_infrastructure.rv_continuous_frozen object at 0x000001495E22FCD0&gt;,\n",
       "                                        &#x27;gamma&#x27;: &lt;scipy.stats._distn_infrastructure.rv_continuous_frozen object at 0x000001495E5A36D0&gt;,\n",
       "                                        &#x27;kernel&#x27;: [&#x27;rbf&#x27;]},\n",
       "                   random_state=42, scoring=&#x27;accuracy&#x27;, verbose=3)</pre><b>In a Jupyter environment, please rerun this cell to show the HTML representation or trust the notebook. <br />On GitHub, the HTML representation is unable to render, please try loading this page with nbviewer.org.</b></div><div class=\"sk-container\" hidden><div class=\"sk-item sk-dashed-wrapped\"><div class=\"sk-label-container\"><div class=\"sk-label sk-toggleable\"><input class=\"sk-toggleable__control sk-hidden--visually\" id=\"sk-estimator-id-4\" type=\"checkbox\" ><label for=\"sk-estimator-id-4\" class=\"sk-toggleable__label sk-toggleable__label-arrow\">RandomizedSearchCV</label><div class=\"sk-toggleable__content\"><pre>RandomizedSearchCV(cv=3, estimator=SVC(), n_iter=20,\n",
       "                   param_distributions={&#x27;C&#x27;: &lt;scipy.stats._distn_infrastructure.rv_continuous_frozen object at 0x000001495E22FCD0&gt;,\n",
       "                                        &#x27;gamma&#x27;: &lt;scipy.stats._distn_infrastructure.rv_continuous_frozen object at 0x000001495E5A36D0&gt;,\n",
       "                                        &#x27;kernel&#x27;: [&#x27;rbf&#x27;]},\n",
       "                   random_state=42, scoring=&#x27;accuracy&#x27;, verbose=3)</pre></div></div></div><div class=\"sk-parallel\"><div class=\"sk-parallel-item\"><div class=\"sk-item\"><div class=\"sk-label-container\"><div class=\"sk-label sk-toggleable\"><input class=\"sk-toggleable__control sk-hidden--visually\" id=\"sk-estimator-id-5\" type=\"checkbox\" ><label for=\"sk-estimator-id-5\" class=\"sk-toggleable__label sk-toggleable__label-arrow\">estimator: SVC</label><div class=\"sk-toggleable__content\"><pre>SVC()</pre></div></div></div><div class=\"sk-serial\"><div class=\"sk-item\"><div class=\"sk-estimator sk-toggleable\"><input class=\"sk-toggleable__control sk-hidden--visually\" id=\"sk-estimator-id-6\" type=\"checkbox\" ><label for=\"sk-estimator-id-6\" class=\"sk-toggleable__label sk-toggleable__label-arrow\">SVC</label><div class=\"sk-toggleable__content\"><pre>SVC()</pre></div></div></div></div></div></div></div></div></div></div>"
      ],
      "text/plain": [
       "RandomizedSearchCV(cv=3, estimator=SVC(), n_iter=20,\n",
       "                   param_distributions={'C': <scipy.stats._distn_infrastructure.rv_continuous_frozen object at 0x000001495E22FCD0>,\n",
       "                                        'gamma': <scipy.stats._distn_infrastructure.rv_continuous_frozen object at 0x000001495E5A36D0>,\n",
       "                                        'kernel': ['rbf']},\n",
       "                   random_state=42, scoring='accuracy', verbose=3)"
      ]
     },
     "execution_count": 14,
     "metadata": {},
     "output_type": "execute_result"
    }
   ],
   "source": [
    "random_search_svm_rbf.fit(X_opt_scaled, y_opt)"
   ]
  },
  {
   "cell_type": "code",
   "execution_count": 15,
   "metadata": {},
   "outputs": [
    {
     "data": {
      "text/html": [
       "<div>\n",
       "<style scoped>\n",
       "    .dataframe tbody tr th:only-of-type {\n",
       "        vertical-align: middle;\n",
       "    }\n",
       "\n",
       "    .dataframe tbody tr th {\n",
       "        vertical-align: top;\n",
       "    }\n",
       "\n",
       "    .dataframe thead th {\n",
       "        text-align: right;\n",
       "    }\n",
       "</style>\n",
       "<table border=\"1\" class=\"dataframe\">\n",
       "  <thead>\n",
       "    <tr style=\"text-align: right;\">\n",
       "      <th></th>\n",
       "      <th>Score</th>\n",
       "      <th>C</th>\n",
       "      <th>gamma</th>\n",
       "      <th>kernel</th>\n",
       "    </tr>\n",
       "  </thead>\n",
       "  <tbody>\n",
       "    <tr>\n",
       "      <th>6</th>\n",
       "      <td>0.947533</td>\n",
       "      <td>8.424426</td>\n",
       "      <td>0.001153</td>\n",
       "      <td>rbf</td>\n",
       "    </tr>\n",
       "    <tr>\n",
       "      <th>15</th>\n",
       "      <td>0.947133</td>\n",
       "      <td>6.175449</td>\n",
       "      <td>0.000712</td>\n",
       "      <td>rbf</td>\n",
       "    </tr>\n",
       "    <tr>\n",
       "      <th>10</th>\n",
       "      <td>0.943667</td>\n",
       "      <td>6.218529</td>\n",
       "      <td>0.000498</td>\n",
       "      <td>rbf</td>\n",
       "    </tr>\n",
       "    <tr>\n",
       "      <th>7</th>\n",
       "      <td>0.940733</td>\n",
       "      <td>1.918250</td>\n",
       "      <td>0.000826</td>\n",
       "      <td>rbf</td>\n",
       "    </tr>\n",
       "    <tr>\n",
       "      <th>2</th>\n",
       "      <td>0.936400</td>\n",
       "      <td>1.660186</td>\n",
       "      <td>0.000603</td>\n",
       "      <td>rbf</td>\n",
       "    </tr>\n",
       "    <tr>\n",
       "      <th>18</th>\n",
       "      <td>0.934800</td>\n",
       "      <td>3.146138</td>\n",
       "      <td>0.000308</td>\n",
       "      <td>rbf</td>\n",
       "    </tr>\n",
       "    <tr>\n",
       "      <th>9</th>\n",
       "      <td>0.934067</td>\n",
       "      <td>4.419450</td>\n",
       "      <td>0.002859</td>\n",
       "      <td>rbf</td>\n",
       "    </tr>\n",
       "    <tr>\n",
       "      <th>14</th>\n",
       "      <td>0.933600</td>\n",
       "      <td>6.024146</td>\n",
       "      <td>0.000171</td>\n",
       "      <td>rbf</td>\n",
       "    </tr>\n",
       "    <tr>\n",
       "      <th>11</th>\n",
       "      <td>0.858400</td>\n",
       "      <td>3.021446</td>\n",
       "      <td>0.006789</td>\n",
       "      <td>rbf</td>\n",
       "    </tr>\n",
       "    <tr>\n",
       "      <th>19</th>\n",
       "      <td>0.662133</td>\n",
       "      <td>6.942330</td>\n",
       "      <td>0.015877</td>\n",
       "      <td>rbf</td>\n",
       "    </tr>\n",
       "    <tr>\n",
       "      <th>13</th>\n",
       "      <td>0.352600</td>\n",
       "      <td>2.096738</td>\n",
       "      <td>0.037254</td>\n",
       "      <td>rbf</td>\n",
       "    </tr>\n",
       "    <tr>\n",
       "      <th>8</th>\n",
       "      <td>0.280133</td>\n",
       "      <td>3.142422</td>\n",
       "      <td>0.042052</td>\n",
       "      <td>rbf</td>\n",
       "    </tr>\n",
       "    <tr>\n",
       "      <th>1</th>\n",
       "      <td>0.177200</td>\n",
       "      <td>7.419939</td>\n",
       "      <td>0.098467</td>\n",
       "      <td>rbf</td>\n",
       "    </tr>\n",
       "    <tr>\n",
       "      <th>12</th>\n",
       "      <td>0.112667</td>\n",
       "      <td>4.660700</td>\n",
       "      <td>0.843101</td>\n",
       "      <td>rbf</td>\n",
       "    </tr>\n",
       "    <tr>\n",
       "      <th>5</th>\n",
       "      <td>0.112667</td>\n",
       "      <td>0.305845</td>\n",
       "      <td>7.072114</td>\n",
       "      <td>rbf</td>\n",
       "    </tr>\n",
       "    <tr>\n",
       "      <th>4</th>\n",
       "      <td>0.112667</td>\n",
       "      <td>6.111150</td>\n",
       "      <td>0.347027</td>\n",
       "      <td>rbf</td>\n",
       "    </tr>\n",
       "    <tr>\n",
       "      <th>16</th>\n",
       "      <td>0.112667</td>\n",
       "      <td>0.750516</td>\n",
       "      <td>5.551722</td>\n",
       "      <td>rbf</td>\n",
       "    </tr>\n",
       "    <tr>\n",
       "      <th>17</th>\n",
       "      <td>0.112667</td>\n",
       "      <td>9.756320</td>\n",
       "      <td>1.101506</td>\n",
       "      <td>rbf</td>\n",
       "    </tr>\n",
       "    <tr>\n",
       "      <th>3</th>\n",
       "      <td>0.112667</td>\n",
       "      <td>0.680836</td>\n",
       "      <td>2.142302</td>\n",
       "      <td>rbf</td>\n",
       "    </tr>\n",
       "    <tr>\n",
       "      <th>0</th>\n",
       "      <td>0.112667</td>\n",
       "      <td>3.845401</td>\n",
       "      <td>5.669850</td>\n",
       "      <td>rbf</td>\n",
       "    </tr>\n",
       "  </tbody>\n",
       "</table>\n",
       "</div>"
      ],
      "text/plain": [
       "       Score         C     gamma kernel\n",
       "6   0.947533  8.424426  0.001153    rbf\n",
       "15  0.947133  6.175449  0.000712    rbf\n",
       "10  0.943667  6.218529  0.000498    rbf\n",
       "7   0.940733  1.918250  0.000826    rbf\n",
       "2   0.936400  1.660186  0.000603    rbf\n",
       "18  0.934800  3.146138  0.000308    rbf\n",
       "9   0.934067  4.419450  0.002859    rbf\n",
       "14  0.933600  6.024146  0.000171    rbf\n",
       "11  0.858400  3.021446  0.006789    rbf\n",
       "19  0.662133  6.942330  0.015877    rbf\n",
       "13  0.352600  2.096738  0.037254    rbf\n",
       "8   0.280133  3.142422  0.042052    rbf\n",
       "1   0.177200  7.419939  0.098467    rbf\n",
       "12  0.112667  4.660700  0.843101    rbf\n",
       "5   0.112667  0.305845  7.072114    rbf\n",
       "4   0.112667  6.111150  0.347027    rbf\n",
       "16  0.112667  0.750516  5.551722    rbf\n",
       "17  0.112667  9.756320  1.101506    rbf\n",
       "3   0.112667  0.680836  2.142302    rbf\n",
       "0   0.112667  3.845401  5.669850    rbf"
      ]
     },
     "execution_count": 15,
     "metadata": {},
     "output_type": "execute_result"
    }
   ],
   "source": [
    "rnd_search_rbf_results = random_search_svm_rbf.cv_results_\n",
    "results_rnd_rbf = [\n",
    "    {'Score': mean_score, **params} \n",
    "    for mean_score, params in zip(rnd_search_rbf_results[\"mean_test_score\"], rnd_search_rbf_results[\"params\"])\n",
    "]\n",
    "rnd_search_rbf_results_df = pd.DataFrame(results_rnd_rbf)\n",
    "rnd_search_rbf_results_df_sorted = rnd_search_rbf_results_df.sort_values(by='Score', ascending=False)\n",
    "rnd_search_rbf_results_df_sorted.to_csv('output/rnd_svm_rbf_sorted.csv', index=False)\n",
    "rnd_search_rbf_results_df_sorted"
   ]
  },
  {
   "cell_type": "code",
   "execution_count": 16,
   "metadata": {},
   "outputs": [
    {
     "name": "stdout",
     "output_type": "stream",
     "text": [
      "Fitting 3 folds for each of 20 candidates, totalling 60 fits\n",
      "[CV 1/3] END C=3.845401188473625, kernel=linear;, score=0.914 total time=   6.0s\n",
      "[CV 2/3] END C=3.845401188473625, kernel=linear;, score=0.910 total time=   5.7s\n",
      "[CV 3/3] END C=3.845401188473625, kernel=linear;, score=0.898 total time=   5.8s\n",
      "[CV 1/3] END .C=9.60714306409916, kernel=linear;, score=0.914 total time=   5.7s\n",
      "[CV 2/3] END .C=9.60714306409916, kernel=linear;, score=0.910 total time=   5.7s\n",
      "[CV 3/3] END .C=9.60714306409916, kernel=linear;, score=0.898 total time=   5.5s\n",
      "[CV 1/3] END .C=7.41993941811405, kernel=linear;, score=0.914 total time=   5.7s\n",
      "[CV 2/3] END .C=7.41993941811405, kernel=linear;, score=0.910 total time=   5.6s\n",
      "[CV 3/3] END .C=7.41993941811405, kernel=linear;, score=0.898 total time=   5.6s\n",
      "[CV 1/3] END C=6.086584841970366, kernel=linear;, score=0.914 total time=   5.7s\n",
      "[CV 2/3] END C=6.086584841970366, kernel=linear;, score=0.910 total time=   5.8s\n",
      "[CV 3/3] END C=6.086584841970366, kernel=linear;, score=0.898 total time=   5.6s\n",
      "[CV 1/3] END C=1.6601864044243653, kernel=linear;, score=0.914 total time=   5.9s\n",
      "[CV 2/3] END C=1.6601864044243653, kernel=linear;, score=0.910 total time=   5.9s\n",
      "[CV 3/3] END C=1.6601864044243653, kernel=linear;, score=0.898 total time=   5.6s\n",
      "[CV 1/3] END C=1.6599452033620266, kernel=linear;, score=0.914 total time=   5.6s\n",
      "[CV 2/3] END C=1.6599452033620266, kernel=linear;, score=0.910 total time=   5.6s\n",
      "[CV 3/3] END C=1.6599452033620266, kernel=linear;, score=0.898 total time=   5.5s\n",
      "[CV 1/3] END C=0.6808361216819946, kernel=linear;, score=0.914 total time=   5.5s\n",
      "[CV 2/3] END C=0.6808361216819946, kernel=linear;, score=0.910 total time=   5.5s\n",
      "[CV 3/3] END C=0.6808361216819946, kernel=linear;, score=0.898 total time=   5.7s\n",
      "[CV 1/3] END C=8.761761457749351, kernel=linear;, score=0.914 total time=   5.6s\n",
      "[CV 2/3] END C=8.761761457749351, kernel=linear;, score=0.910 total time=   5.7s\n",
      "[CV 3/3] END C=8.761761457749351, kernel=linear;, score=0.898 total time=   5.6s\n",
      "[CV 1/3] END C=6.1111501174320875, kernel=linear;, score=0.914 total time=   6.0s\n",
      "[CV 2/3] END C=6.1111501174320875, kernel=linear;, score=0.910 total time=   5.6s\n",
      "[CV 3/3] END C=6.1111501174320875, kernel=linear;, score=0.898 total time=   5.4s\n",
      "[CV 1/3] END C=7.180725777960454, kernel=linear;, score=0.914 total time=   5.6s\n",
      "[CV 2/3] END C=7.180725777960454, kernel=linear;, score=0.910 total time=   5.6s\n",
      "[CV 3/3] END C=7.180725777960454, kernel=linear;, score=0.898 total time=   5.4s\n",
      "[CV 1/3] END C=0.30584494295802445, kernel=linear;, score=0.916 total time=   5.7s\n",
      "[CV 2/3] END C=0.30584494295802445, kernel=linear;, score=0.909 total time=   5.7s\n",
      "[CV 3/3] END C=0.30584494295802445, kernel=linear;, score=0.901 total time=   5.7s\n",
      "[CV 1/3] END C=9.799098521619943, kernel=linear;, score=0.914 total time=   5.6s\n",
      "[CV 2/3] END C=9.799098521619943, kernel=linear;, score=0.910 total time=   5.7s\n",
      "[CV 3/3] END C=9.799098521619943, kernel=linear;, score=0.898 total time=   5.4s\n",
      "[CV 1/3] END C=8.424426408004217, kernel=linear;, score=0.914 total time=   5.6s\n",
      "[CV 2/3] END C=8.424426408004217, kernel=linear;, score=0.910 total time=   5.6s\n",
      "[CV 3/3] END C=8.424426408004217, kernel=linear;, score=0.898 total time=   5.5s\n",
      "[CV 1/3] END C=2.2233911067827616, kernel=linear;, score=0.914 total time=   5.6s\n",
      "[CV 2/3] END C=2.2233911067827616, kernel=linear;, score=0.910 total time=   5.6s\n",
      "[CV 3/3] END C=2.2233911067827616, kernel=linear;, score=0.898 total time=   5.5s\n",
      "[CV 1/3] END C=1.9182496720710063, kernel=linear;, score=0.914 total time=   5.5s\n",
      "[CV 2/3] END C=1.9182496720710063, kernel=linear;, score=0.910 total time=   5.5s\n",
      "[CV 3/3] END C=1.9182496720710063, kernel=linear;, score=0.898 total time=   5.4s\n",
      "[CV 1/3] END C=1.9340450985343383, kernel=linear;, score=0.914 total time=   6.2s\n",
      "[CV 2/3] END C=1.9340450985343383, kernel=linear;, score=0.910 total time=   5.6s\n",
      "[CV 3/3] END C=1.9340450985343383, kernel=linear;, score=0.898 total time=   5.7s\n",
      "[CV 1/3] END C=3.1424224295953773, kernel=linear;, score=0.914 total time=   5.7s\n",
      "[CV 2/3] END C=3.1424224295953773, kernel=linear;, score=0.910 total time=   5.6s\n",
      "[CV 3/3] END C=3.1424224295953773, kernel=linear;, score=0.898 total time=   5.7s\n",
      "[CV 1/3] END C=5.347564316322378, kernel=linear;, score=0.914 total time=   5.6s\n",
      "[CV 2/3] END C=5.347564316322378, kernel=linear;, score=0.910 total time=   5.9s\n",
      "[CV 3/3] END C=5.347564316322378, kernel=linear;, score=0.898 total time=   5.5s\n",
      "[CV 1/3] END C=4.419450186421157, kernel=linear;, score=0.914 total time=   5.6s\n",
      "[CV 2/3] END C=4.419450186421157, kernel=linear;, score=0.910 total time=   5.7s\n",
      "[CV 3/3] END C=4.419450186421157, kernel=linear;, score=0.898 total time=   5.5s\n",
      "[CV 1/3] END C=3.0122914019804194, kernel=linear;, score=0.914 total time=   5.8s\n",
      "[CV 2/3] END C=3.0122914019804194, kernel=linear;, score=0.910 total time=   5.5s\n",
      "[CV 3/3] END C=3.0122914019804194, kernel=linear;, score=0.898 total time=   5.5s\n"
     ]
    },
    {
     "data": {
      "text/html": [
       "<style>#sk-container-id-3 {color: black;}#sk-container-id-3 pre{padding: 0;}#sk-container-id-3 div.sk-toggleable {background-color: white;}#sk-container-id-3 label.sk-toggleable__label {cursor: pointer;display: block;width: 100%;margin-bottom: 0;padding: 0.3em;box-sizing: border-box;text-align: center;}#sk-container-id-3 label.sk-toggleable__label-arrow:before {content: \"▸\";float: left;margin-right: 0.25em;color: #696969;}#sk-container-id-3 label.sk-toggleable__label-arrow:hover:before {color: black;}#sk-container-id-3 div.sk-estimator:hover label.sk-toggleable__label-arrow:before {color: black;}#sk-container-id-3 div.sk-toggleable__content {max-height: 0;max-width: 0;overflow: hidden;text-align: left;background-color: #f0f8ff;}#sk-container-id-3 div.sk-toggleable__content pre {margin: 0.2em;color: black;border-radius: 0.25em;background-color: #f0f8ff;}#sk-container-id-3 input.sk-toggleable__control:checked~div.sk-toggleable__content {max-height: 200px;max-width: 100%;overflow: auto;}#sk-container-id-3 input.sk-toggleable__control:checked~label.sk-toggleable__label-arrow:before {content: \"▾\";}#sk-container-id-3 div.sk-estimator input.sk-toggleable__control:checked~label.sk-toggleable__label {background-color: #d4ebff;}#sk-container-id-3 div.sk-label input.sk-toggleable__control:checked~label.sk-toggleable__label {background-color: #d4ebff;}#sk-container-id-3 input.sk-hidden--visually {border: 0;clip: rect(1px 1px 1px 1px);clip: rect(1px, 1px, 1px, 1px);height: 1px;margin: -1px;overflow: hidden;padding: 0;position: absolute;width: 1px;}#sk-container-id-3 div.sk-estimator {font-family: monospace;background-color: #f0f8ff;border: 1px dotted black;border-radius: 0.25em;box-sizing: border-box;margin-bottom: 0.5em;}#sk-container-id-3 div.sk-estimator:hover {background-color: #d4ebff;}#sk-container-id-3 div.sk-parallel-item::after {content: \"\";width: 100%;border-bottom: 1px solid gray;flex-grow: 1;}#sk-container-id-3 div.sk-label:hover label.sk-toggleable__label {background-color: #d4ebff;}#sk-container-id-3 div.sk-serial::before {content: \"\";position: absolute;border-left: 1px solid gray;box-sizing: border-box;top: 0;bottom: 0;left: 50%;z-index: 0;}#sk-container-id-3 div.sk-serial {display: flex;flex-direction: column;align-items: center;background-color: white;padding-right: 0.2em;padding-left: 0.2em;position: relative;}#sk-container-id-3 div.sk-item {position: relative;z-index: 1;}#sk-container-id-3 div.sk-parallel {display: flex;align-items: stretch;justify-content: center;background-color: white;position: relative;}#sk-container-id-3 div.sk-item::before, #sk-container-id-3 div.sk-parallel-item::before {content: \"\";position: absolute;border-left: 1px solid gray;box-sizing: border-box;top: 0;bottom: 0;left: 50%;z-index: -1;}#sk-container-id-3 div.sk-parallel-item {display: flex;flex-direction: column;z-index: 1;position: relative;background-color: white;}#sk-container-id-3 div.sk-parallel-item:first-child::after {align-self: flex-end;width: 50%;}#sk-container-id-3 div.sk-parallel-item:last-child::after {align-self: flex-start;width: 50%;}#sk-container-id-3 div.sk-parallel-item:only-child::after {width: 0;}#sk-container-id-3 div.sk-dashed-wrapped {border: 1px dashed gray;margin: 0 0.4em 0.5em 0.4em;box-sizing: border-box;padding-bottom: 0.4em;background-color: white;}#sk-container-id-3 div.sk-label label {font-family: monospace;font-weight: bold;display: inline-block;line-height: 1.2em;}#sk-container-id-3 div.sk-label-container {text-align: center;}#sk-container-id-3 div.sk-container {/* jupyter's `normalize.less` sets `[hidden] { display: none; }` but bootstrap.min.css set `[hidden] { display: none !important; }` so we also need the `!important` here to be able to override the default hidden behavior on the sphinx rendered scikit-learn.org. See: https://github.com/scikit-learn/scikit-learn/issues/21755 */display: inline-block !important;position: relative;}#sk-container-id-3 div.sk-text-repr-fallback {display: none;}</style><div id=\"sk-container-id-3\" class=\"sk-top-container\"><div class=\"sk-text-repr-fallback\"><pre>RandomizedSearchCV(cv=3, estimator=SVC(), n_iter=20,\n",
       "                   param_distributions={&#x27;C&#x27;: &lt;scipy.stats._distn_infrastructure.rv_continuous_frozen object at 0x000001495E22FBE0&gt;,\n",
       "                                        &#x27;kernel&#x27;: [&#x27;linear&#x27;]},\n",
       "                   random_state=42, scoring=&#x27;accuracy&#x27;, verbose=3)</pre><b>In a Jupyter environment, please rerun this cell to show the HTML representation or trust the notebook. <br />On GitHub, the HTML representation is unable to render, please try loading this page with nbviewer.org.</b></div><div class=\"sk-container\" hidden><div class=\"sk-item sk-dashed-wrapped\"><div class=\"sk-label-container\"><div class=\"sk-label sk-toggleable\"><input class=\"sk-toggleable__control sk-hidden--visually\" id=\"sk-estimator-id-7\" type=\"checkbox\" ><label for=\"sk-estimator-id-7\" class=\"sk-toggleable__label sk-toggleable__label-arrow\">RandomizedSearchCV</label><div class=\"sk-toggleable__content\"><pre>RandomizedSearchCV(cv=3, estimator=SVC(), n_iter=20,\n",
       "                   param_distributions={&#x27;C&#x27;: &lt;scipy.stats._distn_infrastructure.rv_continuous_frozen object at 0x000001495E22FBE0&gt;,\n",
       "                                        &#x27;kernel&#x27;: [&#x27;linear&#x27;]},\n",
       "                   random_state=42, scoring=&#x27;accuracy&#x27;, verbose=3)</pre></div></div></div><div class=\"sk-parallel\"><div class=\"sk-parallel-item\"><div class=\"sk-item\"><div class=\"sk-label-container\"><div class=\"sk-label sk-toggleable\"><input class=\"sk-toggleable__control sk-hidden--visually\" id=\"sk-estimator-id-8\" type=\"checkbox\" ><label for=\"sk-estimator-id-8\" class=\"sk-toggleable__label sk-toggleable__label-arrow\">estimator: SVC</label><div class=\"sk-toggleable__content\"><pre>SVC()</pre></div></div></div><div class=\"sk-serial\"><div class=\"sk-item\"><div class=\"sk-estimator sk-toggleable\"><input class=\"sk-toggleable__control sk-hidden--visually\" id=\"sk-estimator-id-9\" type=\"checkbox\" ><label for=\"sk-estimator-id-9\" class=\"sk-toggleable__label sk-toggleable__label-arrow\">SVC</label><div class=\"sk-toggleable__content\"><pre>SVC()</pre></div></div></div></div></div></div></div></div></div></div>"
      ],
      "text/plain": [
       "RandomizedSearchCV(cv=3, estimator=SVC(), n_iter=20,\n",
       "                   param_distributions={'C': <scipy.stats._distn_infrastructure.rv_continuous_frozen object at 0x000001495E22FBE0>,\n",
       "                                        'kernel': ['linear']},\n",
       "                   random_state=42, scoring='accuracy', verbose=3)"
      ]
     },
     "execution_count": 16,
     "metadata": {},
     "output_type": "execute_result"
    }
   ],
   "source": [
    "random_search_svm_linear.fit(X_opt_scaled, y_opt)"
   ]
  },
  {
   "cell_type": "code",
   "execution_count": 17,
   "metadata": {},
   "outputs": [
    {
     "data": {
      "text/html": [
       "<div>\n",
       "<style scoped>\n",
       "    .dataframe tbody tr th:only-of-type {\n",
       "        vertical-align: middle;\n",
       "    }\n",
       "\n",
       "    .dataframe tbody tr th {\n",
       "        vertical-align: top;\n",
       "    }\n",
       "\n",
       "    .dataframe thead th {\n",
       "        text-align: right;\n",
       "    }\n",
       "</style>\n",
       "<table border=\"1\" class=\"dataframe\">\n",
       "  <thead>\n",
       "    <tr style=\"text-align: right;\">\n",
       "      <th></th>\n",
       "      <th>Score</th>\n",
       "      <th>C</th>\n",
       "      <th>kernel</th>\n",
       "    </tr>\n",
       "  </thead>\n",
       "  <tbody>\n",
       "    <tr>\n",
       "      <th>10</th>\n",
       "      <td>0.908800</td>\n",
       "      <td>0.305845</td>\n",
       "      <td>linear</td>\n",
       "    </tr>\n",
       "    <tr>\n",
       "      <th>1</th>\n",
       "      <td>0.907533</td>\n",
       "      <td>9.607143</td>\n",
       "      <td>linear</td>\n",
       "    </tr>\n",
       "    <tr>\n",
       "      <th>18</th>\n",
       "      <td>0.907533</td>\n",
       "      <td>4.419450</td>\n",
       "      <td>linear</td>\n",
       "    </tr>\n",
       "    <tr>\n",
       "      <th>17</th>\n",
       "      <td>0.907533</td>\n",
       "      <td>5.347564</td>\n",
       "      <td>linear</td>\n",
       "    </tr>\n",
       "    <tr>\n",
       "      <th>16</th>\n",
       "      <td>0.907533</td>\n",
       "      <td>3.142422</td>\n",
       "      <td>linear</td>\n",
       "    </tr>\n",
       "    <tr>\n",
       "      <th>15</th>\n",
       "      <td>0.907533</td>\n",
       "      <td>1.934045</td>\n",
       "      <td>linear</td>\n",
       "    </tr>\n",
       "    <tr>\n",
       "      <th>14</th>\n",
       "      <td>0.907533</td>\n",
       "      <td>1.918250</td>\n",
       "      <td>linear</td>\n",
       "    </tr>\n",
       "    <tr>\n",
       "      <th>13</th>\n",
       "      <td>0.907533</td>\n",
       "      <td>2.223391</td>\n",
       "      <td>linear</td>\n",
       "    </tr>\n",
       "    <tr>\n",
       "      <th>12</th>\n",
       "      <td>0.907533</td>\n",
       "      <td>8.424426</td>\n",
       "      <td>linear</td>\n",
       "    </tr>\n",
       "    <tr>\n",
       "      <th>11</th>\n",
       "      <td>0.907533</td>\n",
       "      <td>9.799099</td>\n",
       "      <td>linear</td>\n",
       "    </tr>\n",
       "    <tr>\n",
       "      <th>0</th>\n",
       "      <td>0.907533</td>\n",
       "      <td>3.845401</td>\n",
       "      <td>linear</td>\n",
       "    </tr>\n",
       "    <tr>\n",
       "      <th>9</th>\n",
       "      <td>0.907533</td>\n",
       "      <td>7.180726</td>\n",
       "      <td>linear</td>\n",
       "    </tr>\n",
       "    <tr>\n",
       "      <th>8</th>\n",
       "      <td>0.907533</td>\n",
       "      <td>6.111150</td>\n",
       "      <td>linear</td>\n",
       "    </tr>\n",
       "    <tr>\n",
       "      <th>7</th>\n",
       "      <td>0.907533</td>\n",
       "      <td>8.761761</td>\n",
       "      <td>linear</td>\n",
       "    </tr>\n",
       "    <tr>\n",
       "      <th>6</th>\n",
       "      <td>0.907533</td>\n",
       "      <td>0.680836</td>\n",
       "      <td>linear</td>\n",
       "    </tr>\n",
       "    <tr>\n",
       "      <th>5</th>\n",
       "      <td>0.907533</td>\n",
       "      <td>1.659945</td>\n",
       "      <td>linear</td>\n",
       "    </tr>\n",
       "    <tr>\n",
       "      <th>4</th>\n",
       "      <td>0.907533</td>\n",
       "      <td>1.660186</td>\n",
       "      <td>linear</td>\n",
       "    </tr>\n",
       "    <tr>\n",
       "      <th>3</th>\n",
       "      <td>0.907533</td>\n",
       "      <td>6.086585</td>\n",
       "      <td>linear</td>\n",
       "    </tr>\n",
       "    <tr>\n",
       "      <th>2</th>\n",
       "      <td>0.907533</td>\n",
       "      <td>7.419939</td>\n",
       "      <td>linear</td>\n",
       "    </tr>\n",
       "    <tr>\n",
       "      <th>19</th>\n",
       "      <td>0.907533</td>\n",
       "      <td>3.012291</td>\n",
       "      <td>linear</td>\n",
       "    </tr>\n",
       "  </tbody>\n",
       "</table>\n",
       "</div>"
      ],
      "text/plain": [
       "       Score         C  kernel\n",
       "10  0.908800  0.305845  linear\n",
       "1   0.907533  9.607143  linear\n",
       "18  0.907533  4.419450  linear\n",
       "17  0.907533  5.347564  linear\n",
       "16  0.907533  3.142422  linear\n",
       "15  0.907533  1.934045  linear\n",
       "14  0.907533  1.918250  linear\n",
       "13  0.907533  2.223391  linear\n",
       "12  0.907533  8.424426  linear\n",
       "11  0.907533  9.799099  linear\n",
       "0   0.907533  3.845401  linear\n",
       "9   0.907533  7.180726  linear\n",
       "8   0.907533  6.111150  linear\n",
       "7   0.907533  8.761761  linear\n",
       "6   0.907533  0.680836  linear\n",
       "5   0.907533  1.659945  linear\n",
       "4   0.907533  1.660186  linear\n",
       "3   0.907533  6.086585  linear\n",
       "2   0.907533  7.419939  linear\n",
       "19  0.907533  3.012291  linear"
      ]
     },
     "execution_count": 17,
     "metadata": {},
     "output_type": "execute_result"
    }
   ],
   "source": [
    "rnd_search_linear_results = random_search_svm_linear.cv_results_\n",
    "results_rnd_linear = [\n",
    "    {'Score': mean_score, **params} \n",
    "    for mean_score, params in zip(rnd_search_linear_results[\"mean_test_score\"], rnd_search_linear_results[\"params\"])\n",
    "]\n",
    "rnd_search_linear_results_df = pd.DataFrame(results_rnd_linear)\n",
    "rnd_search_linear_results_df_sorted = rnd_search_linear_results_df.sort_values(by='Score', ascending=False)\n",
    "rnd_search_linear_results_df_sorted.to_csv('output/rnd_svm_linear_sorted.csv', index=False)\n",
    "rnd_search_linear_results_df_sorted"
   ]
  },
  {
   "cell_type": "markdown",
   "metadata": {},
   "source": [
    "### Grid Search"
   ]
  },
  {
   "cell_type": "code",
   "execution_count": 22,
   "metadata": {},
   "outputs": [
    {
     "name": "stdout",
     "output_type": "stream",
     "text": [
      "Fitting 5 folds for each of 9 candidates, totalling 45 fits\n",
      "[CV 1/5] END C=10.0, coef0=0.25, degree=3, kernel=poly;, score=0.967 total time=  10.6s\n",
      "[CV 2/5] END C=10.0, coef0=0.25, degree=3, kernel=poly;, score=0.971 total time=  11.4s\n",
      "[CV 3/5] END C=10.0, coef0=0.25, degree=3, kernel=poly;, score=0.959 total time=  11.2s\n",
      "[CV 4/5] END C=10.0, coef0=0.25, degree=3, kernel=poly;, score=0.967 total time=  11.3s\n",
      "[CV 5/5] END C=10.0, coef0=0.25, degree=3, kernel=poly;, score=0.966 total time=  10.6s\n",
      "[CV 1/5] END C=10.0, coef0=0.4, degree=3, kernel=poly;, score=0.962 total time=  10.2s\n",
      "[CV 2/5] END C=10.0, coef0=0.4, degree=3, kernel=poly;, score=0.969 total time=  10.4s\n",
      "[CV 3/5] END C=10.0, coef0=0.4, degree=3, kernel=poly;, score=0.956 total time=  10.0s\n",
      "[CV 4/5] END C=10.0, coef0=0.4, degree=3, kernel=poly;, score=0.966 total time=  10.4s\n",
      "[CV 5/5] END C=10.0, coef0=0.4, degree=3, kernel=poly;, score=0.964 total time=  10.0s\n",
      "[CV 1/5] END C=10.0, coef0=0.5, degree=3, kernel=poly;, score=0.962 total time=   9.2s\n",
      "[CV 2/5] END C=10.0, coef0=0.5, degree=3, kernel=poly;, score=0.967 total time=   9.5s\n",
      "[CV 3/5] END C=10.0, coef0=0.5, degree=3, kernel=poly;, score=0.954 total time=   9.8s\n",
      "[CV 4/5] END C=10.0, coef0=0.5, degree=3, kernel=poly;, score=0.962 total time=   9.6s\n",
      "[CV 5/5] END C=10.0, coef0=0.5, degree=3, kernel=poly;, score=0.961 total time=   9.4s\n",
      "[CV 1/5] END C=25.0, coef0=0.25, degree=3, kernel=poly;, score=0.967 total time=  11.3s\n",
      "[CV 2/5] END C=25.0, coef0=0.25, degree=3, kernel=poly;, score=0.969 total time=  11.3s\n",
      "[CV 3/5] END C=25.0, coef0=0.25, degree=3, kernel=poly;, score=0.960 total time=  11.7s\n",
      "[CV 4/5] END C=25.0, coef0=0.25, degree=3, kernel=poly;, score=0.967 total time=  11.8s\n",
      "[CV 5/5] END C=25.0, coef0=0.25, degree=3, kernel=poly;, score=0.966 total time=  12.3s\n",
      "[CV 1/5] END C=25.0, coef0=0.4, degree=3, kernel=poly;, score=0.962 total time=  10.4s\n",
      "[CV 2/5] END C=25.0, coef0=0.4, degree=3, kernel=poly;, score=0.969 total time=  10.5s\n",
      "[CV 3/5] END C=25.0, coef0=0.4, degree=3, kernel=poly;, score=0.956 total time=  10.1s\n",
      "[CV 4/5] END C=25.0, coef0=0.4, degree=3, kernel=poly;, score=0.965 total time=  10.3s\n",
      "[CV 5/5] END C=25.0, coef0=0.4, degree=3, kernel=poly;, score=0.964 total time=  10.1s\n",
      "[CV 1/5] END C=25.0, coef0=0.5, degree=3, kernel=poly;, score=0.962 total time=   9.8s\n",
      "[CV 2/5] END C=25.0, coef0=0.5, degree=3, kernel=poly;, score=0.967 total time=   9.2s\n",
      "[CV 3/5] END C=25.0, coef0=0.5, degree=3, kernel=poly;, score=0.955 total time=   9.7s\n",
      "[CV 4/5] END C=25.0, coef0=0.5, degree=3, kernel=poly;, score=0.961 total time=   9.5s\n",
      "[CV 5/5] END C=25.0, coef0=0.5, degree=3, kernel=poly;, score=0.961 total time=   9.5s\n",
      "[CV 1/5] END C=50.0, coef0=0.25, degree=3, kernel=poly;, score=0.968 total time=  12.6s\n",
      "[CV 2/5] END C=50.0, coef0=0.25, degree=3, kernel=poly;, score=0.969 total time=  11.5s\n",
      "[CV 3/5] END C=50.0, coef0=0.25, degree=3, kernel=poly;, score=0.960 total time=  12.0s\n",
      "[CV 4/5] END C=50.0, coef0=0.25, degree=3, kernel=poly;, score=0.967 total time=  11.1s\n",
      "[CV 5/5] END C=50.0, coef0=0.25, degree=3, kernel=poly;, score=0.966 total time=  11.2s\n",
      "[CV 1/5] END C=50.0, coef0=0.4, degree=3, kernel=poly;, score=0.963 total time=   9.5s\n",
      "[CV 2/5] END C=50.0, coef0=0.4, degree=3, kernel=poly;, score=0.969 total time=  10.4s\n",
      "[CV 3/5] END C=50.0, coef0=0.4, degree=3, kernel=poly;, score=0.956 total time=  10.0s\n",
      "[CV 4/5] END C=50.0, coef0=0.4, degree=3, kernel=poly;, score=0.965 total time=  10.0s\n",
      "[CV 5/5] END C=50.0, coef0=0.4, degree=3, kernel=poly;, score=0.964 total time=   9.9s\n",
      "[CV 1/5] END C=50.0, coef0=0.5, degree=3, kernel=poly;, score=0.962 total time=   9.6s\n",
      "[CV 2/5] END C=50.0, coef0=0.5, degree=3, kernel=poly;, score=0.967 total time=   9.6s\n",
      "[CV 3/5] END C=50.0, coef0=0.5, degree=3, kernel=poly;, score=0.955 total time=   9.4s\n",
      "[CV 4/5] END C=50.0, coef0=0.5, degree=3, kernel=poly;, score=0.961 total time=   9.0s\n",
      "[CV 5/5] END C=50.0, coef0=0.5, degree=3, kernel=poly;, score=0.961 total time=   8.9s\n"
     ]
    },
    {
     "data": {
      "text/html": [
       "<style>#sk-container-id-6 {color: black;}#sk-container-id-6 pre{padding: 0;}#sk-container-id-6 div.sk-toggleable {background-color: white;}#sk-container-id-6 label.sk-toggleable__label {cursor: pointer;display: block;width: 100%;margin-bottom: 0;padding: 0.3em;box-sizing: border-box;text-align: center;}#sk-container-id-6 label.sk-toggleable__label-arrow:before {content: \"▸\";float: left;margin-right: 0.25em;color: #696969;}#sk-container-id-6 label.sk-toggleable__label-arrow:hover:before {color: black;}#sk-container-id-6 div.sk-estimator:hover label.sk-toggleable__label-arrow:before {color: black;}#sk-container-id-6 div.sk-toggleable__content {max-height: 0;max-width: 0;overflow: hidden;text-align: left;background-color: #f0f8ff;}#sk-container-id-6 div.sk-toggleable__content pre {margin: 0.2em;color: black;border-radius: 0.25em;background-color: #f0f8ff;}#sk-container-id-6 input.sk-toggleable__control:checked~div.sk-toggleable__content {max-height: 200px;max-width: 100%;overflow: auto;}#sk-container-id-6 input.sk-toggleable__control:checked~label.sk-toggleable__label-arrow:before {content: \"▾\";}#sk-container-id-6 div.sk-estimator input.sk-toggleable__control:checked~label.sk-toggleable__label {background-color: #d4ebff;}#sk-container-id-6 div.sk-label input.sk-toggleable__control:checked~label.sk-toggleable__label {background-color: #d4ebff;}#sk-container-id-6 input.sk-hidden--visually {border: 0;clip: rect(1px 1px 1px 1px);clip: rect(1px, 1px, 1px, 1px);height: 1px;margin: -1px;overflow: hidden;padding: 0;position: absolute;width: 1px;}#sk-container-id-6 div.sk-estimator {font-family: monospace;background-color: #f0f8ff;border: 1px dotted black;border-radius: 0.25em;box-sizing: border-box;margin-bottom: 0.5em;}#sk-container-id-6 div.sk-estimator:hover {background-color: #d4ebff;}#sk-container-id-6 div.sk-parallel-item::after {content: \"\";width: 100%;border-bottom: 1px solid gray;flex-grow: 1;}#sk-container-id-6 div.sk-label:hover label.sk-toggleable__label {background-color: #d4ebff;}#sk-container-id-6 div.sk-serial::before {content: \"\";position: absolute;border-left: 1px solid gray;box-sizing: border-box;top: 0;bottom: 0;left: 50%;z-index: 0;}#sk-container-id-6 div.sk-serial {display: flex;flex-direction: column;align-items: center;background-color: white;padding-right: 0.2em;padding-left: 0.2em;position: relative;}#sk-container-id-6 div.sk-item {position: relative;z-index: 1;}#sk-container-id-6 div.sk-parallel {display: flex;align-items: stretch;justify-content: center;background-color: white;position: relative;}#sk-container-id-6 div.sk-item::before, #sk-container-id-6 div.sk-parallel-item::before {content: \"\";position: absolute;border-left: 1px solid gray;box-sizing: border-box;top: 0;bottom: 0;left: 50%;z-index: -1;}#sk-container-id-6 div.sk-parallel-item {display: flex;flex-direction: column;z-index: 1;position: relative;background-color: white;}#sk-container-id-6 div.sk-parallel-item:first-child::after {align-self: flex-end;width: 50%;}#sk-container-id-6 div.sk-parallel-item:last-child::after {align-self: flex-start;width: 50%;}#sk-container-id-6 div.sk-parallel-item:only-child::after {width: 0;}#sk-container-id-6 div.sk-dashed-wrapped {border: 1px dashed gray;margin: 0 0.4em 0.5em 0.4em;box-sizing: border-box;padding-bottom: 0.4em;background-color: white;}#sk-container-id-6 div.sk-label label {font-family: monospace;font-weight: bold;display: inline-block;line-height: 1.2em;}#sk-container-id-6 div.sk-label-container {text-align: center;}#sk-container-id-6 div.sk-container {/* jupyter's `normalize.less` sets `[hidden] { display: none; }` but bootstrap.min.css set `[hidden] { display: none !important; }` so we also need the `!important` here to be able to override the default hidden behavior on the sphinx rendered scikit-learn.org. See: https://github.com/scikit-learn/scikit-learn/issues/21755 */display: inline-block !important;position: relative;}#sk-container-id-6 div.sk-text-repr-fallback {display: none;}</style><div id=\"sk-container-id-6\" class=\"sk-top-container\"><div class=\"sk-text-repr-fallback\"><pre>GridSearchCV(cv=5, estimator=SVC(),\n",
       "             param_grid=[{&#x27;C&#x27;: [10.0, 25.0, 50.0], &#x27;coef0&#x27;: [0.25, 0.4, 0.5],\n",
       "                          &#x27;degree&#x27;: [3], &#x27;kernel&#x27;: [&#x27;poly&#x27;]}],\n",
       "             verbose=3)</pre><b>In a Jupyter environment, please rerun this cell to show the HTML representation or trust the notebook. <br />On GitHub, the HTML representation is unable to render, please try loading this page with nbviewer.org.</b></div><div class=\"sk-container\" hidden><div class=\"sk-item sk-dashed-wrapped\"><div class=\"sk-label-container\"><div class=\"sk-label sk-toggleable\"><input class=\"sk-toggleable__control sk-hidden--visually\" id=\"sk-estimator-id-16\" type=\"checkbox\" ><label for=\"sk-estimator-id-16\" class=\"sk-toggleable__label sk-toggleable__label-arrow\">GridSearchCV</label><div class=\"sk-toggleable__content\"><pre>GridSearchCV(cv=5, estimator=SVC(),\n",
       "             param_grid=[{&#x27;C&#x27;: [10.0, 25.0, 50.0], &#x27;coef0&#x27;: [0.25, 0.4, 0.5],\n",
       "                          &#x27;degree&#x27;: [3], &#x27;kernel&#x27;: [&#x27;poly&#x27;]}],\n",
       "             verbose=3)</pre></div></div></div><div class=\"sk-parallel\"><div class=\"sk-parallel-item\"><div class=\"sk-item\"><div class=\"sk-label-container\"><div class=\"sk-label sk-toggleable\"><input class=\"sk-toggleable__control sk-hidden--visually\" id=\"sk-estimator-id-17\" type=\"checkbox\" ><label for=\"sk-estimator-id-17\" class=\"sk-toggleable__label sk-toggleable__label-arrow\">estimator: SVC</label><div class=\"sk-toggleable__content\"><pre>SVC()</pre></div></div></div><div class=\"sk-serial\"><div class=\"sk-item\"><div class=\"sk-estimator sk-toggleable\"><input class=\"sk-toggleable__control sk-hidden--visually\" id=\"sk-estimator-id-18\" type=\"checkbox\" ><label for=\"sk-estimator-id-18\" class=\"sk-toggleable__label sk-toggleable__label-arrow\">SVC</label><div class=\"sk-toggleable__content\"><pre>SVC()</pre></div></div></div></div></div></div></div></div></div></div>"
      ],
      "text/plain": [
       "GridSearchCV(cv=5, estimator=SVC(),\n",
       "             param_grid=[{'C': [10.0, 25.0, 50.0], 'coef0': [0.25, 0.4, 0.5],\n",
       "                          'degree': [3], 'kernel': ['poly']}],\n",
       "             verbose=3)"
      ]
     },
     "execution_count": 22,
     "metadata": {},
     "output_type": "execute_result"
    }
   ],
   "source": [
    "from sklearn.model_selection import GridSearchCV\n",
    "param_distributions_poly_grid = [{\n",
    "    'C': [10.0, 25.0, 50.0],\n",
    "    'coef0': [0.25, 0.4, 0.5],\n",
    "    'degree': [3],\n",
    "    'kernel': ['poly']\n",
    "}]\n",
    "\n",
    "grid_search_poly = GridSearchCV(svm_classifier, param_distributions_poly_grid, cv=5, verbose=3)\n",
    "grid_search_poly.fit(X_opt_scaled, y_opt)"
   ]
  },
  {
   "cell_type": "code",
   "execution_count": 23,
   "metadata": {},
   "outputs": [
    {
     "data": {
      "text/html": [
       "<div>\n",
       "<style scoped>\n",
       "    .dataframe tbody tr th:only-of-type {\n",
       "        vertical-align: middle;\n",
       "    }\n",
       "\n",
       "    .dataframe tbody tr th {\n",
       "        vertical-align: top;\n",
       "    }\n",
       "\n",
       "    .dataframe thead th {\n",
       "        text-align: right;\n",
       "    }\n",
       "</style>\n",
       "<table border=\"1\" class=\"dataframe\">\n",
       "  <thead>\n",
       "    <tr style=\"text-align: right;\">\n",
       "      <th></th>\n",
       "      <th>Score</th>\n",
       "      <th>C</th>\n",
       "      <th>coef0</th>\n",
       "      <th>degree</th>\n",
       "      <th>kernel</th>\n",
       "    </tr>\n",
       "  </thead>\n",
       "  <tbody>\n",
       "    <tr>\n",
       "      <th>0</th>\n",
       "      <td>0.965867</td>\n",
       "      <td>10.0</td>\n",
       "      <td>0.25</td>\n",
       "      <td>3</td>\n",
       "      <td>poly</td>\n",
       "    </tr>\n",
       "    <tr>\n",
       "      <th>6</th>\n",
       "      <td>0.965867</td>\n",
       "      <td>50.0</td>\n",
       "      <td>0.25</td>\n",
       "      <td>3</td>\n",
       "      <td>poly</td>\n",
       "    </tr>\n",
       "    <tr>\n",
       "      <th>3</th>\n",
       "      <td>0.965800</td>\n",
       "      <td>25.0</td>\n",
       "      <td>0.25</td>\n",
       "      <td>3</td>\n",
       "      <td>poly</td>\n",
       "    </tr>\n",
       "    <tr>\n",
       "      <th>1</th>\n",
       "      <td>0.963400</td>\n",
       "      <td>10.0</td>\n",
       "      <td>0.40</td>\n",
       "      <td>3</td>\n",
       "      <td>poly</td>\n",
       "    </tr>\n",
       "    <tr>\n",
       "      <th>7</th>\n",
       "      <td>0.963333</td>\n",
       "      <td>50.0</td>\n",
       "      <td>0.40</td>\n",
       "      <td>3</td>\n",
       "      <td>poly</td>\n",
       "    </tr>\n",
       "    <tr>\n",
       "      <th>4</th>\n",
       "      <td>0.963267</td>\n",
       "      <td>25.0</td>\n",
       "      <td>0.40</td>\n",
       "      <td>3</td>\n",
       "      <td>poly</td>\n",
       "    </tr>\n",
       "    <tr>\n",
       "      <th>2</th>\n",
       "      <td>0.961200</td>\n",
       "      <td>10.0</td>\n",
       "      <td>0.50</td>\n",
       "      <td>3</td>\n",
       "      <td>poly</td>\n",
       "    </tr>\n",
       "    <tr>\n",
       "      <th>5</th>\n",
       "      <td>0.961067</td>\n",
       "      <td>25.0</td>\n",
       "      <td>0.50</td>\n",
       "      <td>3</td>\n",
       "      <td>poly</td>\n",
       "    </tr>\n",
       "    <tr>\n",
       "      <th>8</th>\n",
       "      <td>0.961067</td>\n",
       "      <td>50.0</td>\n",
       "      <td>0.50</td>\n",
       "      <td>3</td>\n",
       "      <td>poly</td>\n",
       "    </tr>\n",
       "  </tbody>\n",
       "</table>\n",
       "</div>"
      ],
      "text/plain": [
       "      Score     C  coef0  degree kernel\n",
       "0  0.965867  10.0   0.25       3   poly\n",
       "6  0.965867  50.0   0.25       3   poly\n",
       "3  0.965800  25.0   0.25       3   poly\n",
       "1  0.963400  10.0   0.40       3   poly\n",
       "7  0.963333  50.0   0.40       3   poly\n",
       "4  0.963267  25.0   0.40       3   poly\n",
       "2  0.961200  10.0   0.50       3   poly\n",
       "5  0.961067  25.0   0.50       3   poly\n",
       "8  0.961067  50.0   0.50       3   poly"
      ]
     },
     "execution_count": 23,
     "metadata": {},
     "output_type": "execute_result"
    }
   ],
   "source": [
    "grid_search_poly_results = grid_search_poly.cv_results_\n",
    "results_grid_poly = [\n",
    "    {'Score': mean_score, **params} \n",
    "    for mean_score, params in zip(grid_search_poly_results[\"mean_test_score\"], grid_search_poly_results[\"params\"])\n",
    "]\n",
    "grid_search_poly_results_df = pd.DataFrame(results_grid_poly)\n",
    "grid_search_poly_results_df_sorted = grid_search_poly_results_df.sort_values(by='Score', ascending=False)\n",
    "grid_search_poly_results_df_sorted.to_csv('output/grid_svm_poly_sorted.csv', index=False)\n",
    "grid_search_poly_results_df_sorted"
   ]
  },
  {
   "cell_type": "code",
   "execution_count": 26,
   "metadata": {},
   "outputs": [
    {
     "name": "stdout",
     "output_type": "stream",
     "text": [
      "Fitting 5 folds for each of 9 candidates, totalling 45 fits\n",
      "[CV 1/5] END ....C=10, gamma=0.0001, kernel=rbf;, score=0.937 total time=  13.3s\n",
      "[CV 2/5] END ....C=10, gamma=0.0001, kernel=rbf;, score=0.943 total time=  13.9s\n",
      "[CV 3/5] END ....C=10, gamma=0.0001, kernel=rbf;, score=0.927 total time=  13.5s\n",
      "[CV 4/5] END ....C=10, gamma=0.0001, kernel=rbf;, score=0.938 total time=  13.8s\n",
      "[CV 5/5] END ....C=10, gamma=0.0001, kernel=rbf;, score=0.924 total time=  13.2s\n",
      "[CV 1/5] END .....C=10, gamma=0.001, kernel=rbf;, score=0.952 total time=  16.4s\n",
      "[CV 2/5] END .....C=10, gamma=0.001, kernel=rbf;, score=0.955 total time=  17.2s\n",
      "[CV 3/5] END .....C=10, gamma=0.001, kernel=rbf;, score=0.945 total time=  16.6s\n",
      "[CV 4/5] END .....C=10, gamma=0.001, kernel=rbf;, score=0.954 total time=  16.7s\n",
      "[CV 5/5] END .....C=10, gamma=0.001, kernel=rbf;, score=0.945 total time=  16.4s\n",
      "[CV 1/5] END ......C=10, gamma=0.01, kernel=rbf;, score=0.804 total time= 1.1min\n",
      "[CV 2/5] END ......C=10, gamma=0.01, kernel=rbf;, score=0.803 total time= 1.1min\n",
      "[CV 3/5] END ......C=10, gamma=0.01, kernel=rbf;, score=0.789 total time= 1.1min\n",
      "[CV 4/5] END ......C=10, gamma=0.01, kernel=rbf;, score=0.815 total time= 1.1min\n",
      "[CV 5/5] END ......C=10, gamma=0.01, kernel=rbf;, score=0.740 total time= 1.1min\n",
      "[CV 1/5] END ....C=25, gamma=0.0001, kernel=rbf;, score=0.940 total time=  12.1s\n",
      "[CV 2/5] END ....C=25, gamma=0.0001, kernel=rbf;, score=0.947 total time=  12.2s\n",
      "[CV 3/5] END ....C=25, gamma=0.0001, kernel=rbf;, score=0.931 total time=  12.0s\n",
      "[CV 4/5] END ....C=25, gamma=0.0001, kernel=rbf;, score=0.944 total time=  12.2s\n",
      "[CV 5/5] END ....C=25, gamma=0.0001, kernel=rbf;, score=0.925 total time=  12.2s\n",
      "[CV 1/5] END .....C=25, gamma=0.001, kernel=rbf;, score=0.950 total time=  16.6s\n",
      "[CV 2/5] END .....C=25, gamma=0.001, kernel=rbf;, score=0.953 total time=  16.8s\n",
      "[CV 3/5] END .....C=25, gamma=0.001, kernel=rbf;, score=0.945 total time=  17.1s\n",
      "[CV 4/5] END .....C=25, gamma=0.001, kernel=rbf;, score=0.953 total time=  17.1s\n",
      "[CV 5/5] END .....C=25, gamma=0.001, kernel=rbf;, score=0.942 total time=  16.1s\n",
      "[CV 1/5] END ......C=25, gamma=0.01, kernel=rbf;, score=0.804 total time= 1.2min\n",
      "[CV 2/5] END ......C=25, gamma=0.01, kernel=rbf;, score=0.803 total time= 1.1min\n",
      "[CV 3/5] END ......C=25, gamma=0.01, kernel=rbf;, score=0.789 total time= 1.2min\n",
      "[CV 4/5] END ......C=25, gamma=0.01, kernel=rbf;, score=0.815 total time= 1.2min\n",
      "[CV 5/5] END ......C=25, gamma=0.01, kernel=rbf;, score=0.740 total time= 1.1min\n",
      "[CV 1/5] END ....C=50, gamma=0.0001, kernel=rbf;, score=0.939 total time=  11.1s\n",
      "[CV 2/5] END ....C=50, gamma=0.0001, kernel=rbf;, score=0.947 total time=  10.8s\n",
      "[CV 3/5] END ....C=50, gamma=0.0001, kernel=rbf;, score=0.933 total time=  11.5s\n",
      "[CV 4/5] END ....C=50, gamma=0.0001, kernel=rbf;, score=0.946 total time=  11.2s\n",
      "[CV 5/5] END ....C=50, gamma=0.0001, kernel=rbf;, score=0.922 total time=  10.4s\n",
      "[CV 1/5] END .....C=50, gamma=0.001, kernel=rbf;, score=0.950 total time=  17.8s\n",
      "[CV 2/5] END .....C=50, gamma=0.001, kernel=rbf;, score=0.954 total time=  16.7s\n",
      "[CV 3/5] END .....C=50, gamma=0.001, kernel=rbf;, score=0.945 total time=  16.7s\n",
      "[CV 4/5] END .....C=50, gamma=0.001, kernel=rbf;, score=0.953 total time=  17.7s\n",
      "[CV 5/5] END .....C=50, gamma=0.001, kernel=rbf;, score=0.942 total time=  15.8s\n",
      "[CV 1/5] END ......C=50, gamma=0.01, kernel=rbf;, score=0.804 total time= 1.1min\n",
      "[CV 2/5] END ......C=50, gamma=0.01, kernel=rbf;, score=0.803 total time= 1.1min\n",
      "[CV 3/5] END ......C=50, gamma=0.01, kernel=rbf;, score=0.789 total time= 1.1min\n",
      "[CV 4/5] END ......C=50, gamma=0.01, kernel=rbf;, score=0.815 total time= 1.1min\n",
      "[CV 5/5] END ......C=50, gamma=0.01, kernel=rbf;, score=0.740 total time= 1.1min\n"
     ]
    },
    {
     "data": {
      "text/html": [
       "<style>#sk-container-id-8 {color: black;}#sk-container-id-8 pre{padding: 0;}#sk-container-id-8 div.sk-toggleable {background-color: white;}#sk-container-id-8 label.sk-toggleable__label {cursor: pointer;display: block;width: 100%;margin-bottom: 0;padding: 0.3em;box-sizing: border-box;text-align: center;}#sk-container-id-8 label.sk-toggleable__label-arrow:before {content: \"▸\";float: left;margin-right: 0.25em;color: #696969;}#sk-container-id-8 label.sk-toggleable__label-arrow:hover:before {color: black;}#sk-container-id-8 div.sk-estimator:hover label.sk-toggleable__label-arrow:before {color: black;}#sk-container-id-8 div.sk-toggleable__content {max-height: 0;max-width: 0;overflow: hidden;text-align: left;background-color: #f0f8ff;}#sk-container-id-8 div.sk-toggleable__content pre {margin: 0.2em;color: black;border-radius: 0.25em;background-color: #f0f8ff;}#sk-container-id-8 input.sk-toggleable__control:checked~div.sk-toggleable__content {max-height: 200px;max-width: 100%;overflow: auto;}#sk-container-id-8 input.sk-toggleable__control:checked~label.sk-toggleable__label-arrow:before {content: \"▾\";}#sk-container-id-8 div.sk-estimator input.sk-toggleable__control:checked~label.sk-toggleable__label {background-color: #d4ebff;}#sk-container-id-8 div.sk-label input.sk-toggleable__control:checked~label.sk-toggleable__label {background-color: #d4ebff;}#sk-container-id-8 input.sk-hidden--visually {border: 0;clip: rect(1px 1px 1px 1px);clip: rect(1px, 1px, 1px, 1px);height: 1px;margin: -1px;overflow: hidden;padding: 0;position: absolute;width: 1px;}#sk-container-id-8 div.sk-estimator {font-family: monospace;background-color: #f0f8ff;border: 1px dotted black;border-radius: 0.25em;box-sizing: border-box;margin-bottom: 0.5em;}#sk-container-id-8 div.sk-estimator:hover {background-color: #d4ebff;}#sk-container-id-8 div.sk-parallel-item::after {content: \"\";width: 100%;border-bottom: 1px solid gray;flex-grow: 1;}#sk-container-id-8 div.sk-label:hover label.sk-toggleable__label {background-color: #d4ebff;}#sk-container-id-8 div.sk-serial::before {content: \"\";position: absolute;border-left: 1px solid gray;box-sizing: border-box;top: 0;bottom: 0;left: 50%;z-index: 0;}#sk-container-id-8 div.sk-serial {display: flex;flex-direction: column;align-items: center;background-color: white;padding-right: 0.2em;padding-left: 0.2em;position: relative;}#sk-container-id-8 div.sk-item {position: relative;z-index: 1;}#sk-container-id-8 div.sk-parallel {display: flex;align-items: stretch;justify-content: center;background-color: white;position: relative;}#sk-container-id-8 div.sk-item::before, #sk-container-id-8 div.sk-parallel-item::before {content: \"\";position: absolute;border-left: 1px solid gray;box-sizing: border-box;top: 0;bottom: 0;left: 50%;z-index: -1;}#sk-container-id-8 div.sk-parallel-item {display: flex;flex-direction: column;z-index: 1;position: relative;background-color: white;}#sk-container-id-8 div.sk-parallel-item:first-child::after {align-self: flex-end;width: 50%;}#sk-container-id-8 div.sk-parallel-item:last-child::after {align-self: flex-start;width: 50%;}#sk-container-id-8 div.sk-parallel-item:only-child::after {width: 0;}#sk-container-id-8 div.sk-dashed-wrapped {border: 1px dashed gray;margin: 0 0.4em 0.5em 0.4em;box-sizing: border-box;padding-bottom: 0.4em;background-color: white;}#sk-container-id-8 div.sk-label label {font-family: monospace;font-weight: bold;display: inline-block;line-height: 1.2em;}#sk-container-id-8 div.sk-label-container {text-align: center;}#sk-container-id-8 div.sk-container {/* jupyter's `normalize.less` sets `[hidden] { display: none; }` but bootstrap.min.css set `[hidden] { display: none !important; }` so we also need the `!important` here to be able to override the default hidden behavior on the sphinx rendered scikit-learn.org. See: https://github.com/scikit-learn/scikit-learn/issues/21755 */display: inline-block !important;position: relative;}#sk-container-id-8 div.sk-text-repr-fallback {display: none;}</style><div id=\"sk-container-id-8\" class=\"sk-top-container\"><div class=\"sk-text-repr-fallback\"><pre>GridSearchCV(cv=5, estimator=SVC(),\n",
       "             param_grid=[{&#x27;C&#x27;: [10, 25, 50], &#x27;gamma&#x27;: [0.0001, 0.001, 0.01],\n",
       "                          &#x27;kernel&#x27;: [&#x27;rbf&#x27;]}],\n",
       "             verbose=3)</pre><b>In a Jupyter environment, please rerun this cell to show the HTML representation or trust the notebook. <br />On GitHub, the HTML representation is unable to render, please try loading this page with nbviewer.org.</b></div><div class=\"sk-container\" hidden><div class=\"sk-item sk-dashed-wrapped\"><div class=\"sk-label-container\"><div class=\"sk-label sk-toggleable\"><input class=\"sk-toggleable__control sk-hidden--visually\" id=\"sk-estimator-id-22\" type=\"checkbox\" ><label for=\"sk-estimator-id-22\" class=\"sk-toggleable__label sk-toggleable__label-arrow\">GridSearchCV</label><div class=\"sk-toggleable__content\"><pre>GridSearchCV(cv=5, estimator=SVC(),\n",
       "             param_grid=[{&#x27;C&#x27;: [10, 25, 50], &#x27;gamma&#x27;: [0.0001, 0.001, 0.01],\n",
       "                          &#x27;kernel&#x27;: [&#x27;rbf&#x27;]}],\n",
       "             verbose=3)</pre></div></div></div><div class=\"sk-parallel\"><div class=\"sk-parallel-item\"><div class=\"sk-item\"><div class=\"sk-label-container\"><div class=\"sk-label sk-toggleable\"><input class=\"sk-toggleable__control sk-hidden--visually\" id=\"sk-estimator-id-23\" type=\"checkbox\" ><label for=\"sk-estimator-id-23\" class=\"sk-toggleable__label sk-toggleable__label-arrow\">estimator: SVC</label><div class=\"sk-toggleable__content\"><pre>SVC()</pre></div></div></div><div class=\"sk-serial\"><div class=\"sk-item\"><div class=\"sk-estimator sk-toggleable\"><input class=\"sk-toggleable__control sk-hidden--visually\" id=\"sk-estimator-id-24\" type=\"checkbox\" ><label for=\"sk-estimator-id-24\" class=\"sk-toggleable__label sk-toggleable__label-arrow\">SVC</label><div class=\"sk-toggleable__content\"><pre>SVC()</pre></div></div></div></div></div></div></div></div></div></div>"
      ],
      "text/plain": [
       "GridSearchCV(cv=5, estimator=SVC(),\n",
       "             param_grid=[{'C': [10, 25, 50], 'gamma': [0.0001, 0.001, 0.01],\n",
       "                          'kernel': ['rbf']}],\n",
       "             verbose=3)"
      ]
     },
     "execution_count": 26,
     "metadata": {},
     "output_type": "execute_result"
    }
   ],
   "source": [
    "param_distributions_rbf_grid = [{\n",
    "    'kernel': ['rbf'],\n",
    "    'C': [10, 25, 50],   \n",
    "    'gamma': [0.0001, 0.001, 0.01]\n",
    "}]\n",
    "\n",
    "grid_search_rbf = GridSearchCV(svm_classifier, param_distributions_rbf_grid, cv=5, verbose=3)\n",
    "grid_search_rbf.fit(X_opt_scaled, y_opt)"
   ]
  },
  {
   "cell_type": "code",
   "execution_count": 27,
   "metadata": {},
   "outputs": [
    {
     "data": {
      "text/html": [
       "<div>\n",
       "<style scoped>\n",
       "    .dataframe tbody tr th:only-of-type {\n",
       "        vertical-align: middle;\n",
       "    }\n",
       "\n",
       "    .dataframe tbody tr th {\n",
       "        vertical-align: top;\n",
       "    }\n",
       "\n",
       "    .dataframe thead th {\n",
       "        text-align: right;\n",
       "    }\n",
       "</style>\n",
       "<table border=\"1\" class=\"dataframe\">\n",
       "  <thead>\n",
       "    <tr style=\"text-align: right;\">\n",
       "      <th></th>\n",
       "      <th>Score</th>\n",
       "      <th>C</th>\n",
       "      <th>gamma</th>\n",
       "      <th>kernel</th>\n",
       "    </tr>\n",
       "  </thead>\n",
       "  <tbody>\n",
       "    <tr>\n",
       "      <th>1</th>\n",
       "      <td>0.950000</td>\n",
       "      <td>10</td>\n",
       "      <td>0.0010</td>\n",
       "      <td>rbf</td>\n",
       "    </tr>\n",
       "    <tr>\n",
       "      <th>4</th>\n",
       "      <td>0.948667</td>\n",
       "      <td>25</td>\n",
       "      <td>0.0010</td>\n",
       "      <td>rbf</td>\n",
       "    </tr>\n",
       "    <tr>\n",
       "      <th>7</th>\n",
       "      <td>0.948600</td>\n",
       "      <td>50</td>\n",
       "      <td>0.0010</td>\n",
       "      <td>rbf</td>\n",
       "    </tr>\n",
       "    <tr>\n",
       "      <th>3</th>\n",
       "      <td>0.937400</td>\n",
       "      <td>25</td>\n",
       "      <td>0.0001</td>\n",
       "      <td>rbf</td>\n",
       "    </tr>\n",
       "    <tr>\n",
       "      <th>6</th>\n",
       "      <td>0.937400</td>\n",
       "      <td>50</td>\n",
       "      <td>0.0001</td>\n",
       "      <td>rbf</td>\n",
       "    </tr>\n",
       "    <tr>\n",
       "      <th>0</th>\n",
       "      <td>0.934000</td>\n",
       "      <td>10</td>\n",
       "      <td>0.0001</td>\n",
       "      <td>rbf</td>\n",
       "    </tr>\n",
       "    <tr>\n",
       "      <th>2</th>\n",
       "      <td>0.790200</td>\n",
       "      <td>10</td>\n",
       "      <td>0.0100</td>\n",
       "      <td>rbf</td>\n",
       "    </tr>\n",
       "    <tr>\n",
       "      <th>5</th>\n",
       "      <td>0.790200</td>\n",
       "      <td>25</td>\n",
       "      <td>0.0100</td>\n",
       "      <td>rbf</td>\n",
       "    </tr>\n",
       "    <tr>\n",
       "      <th>8</th>\n",
       "      <td>0.790200</td>\n",
       "      <td>50</td>\n",
       "      <td>0.0100</td>\n",
       "      <td>rbf</td>\n",
       "    </tr>\n",
       "  </tbody>\n",
       "</table>\n",
       "</div>"
      ],
      "text/plain": [
       "      Score   C   gamma kernel\n",
       "1  0.950000  10  0.0010    rbf\n",
       "4  0.948667  25  0.0010    rbf\n",
       "7  0.948600  50  0.0010    rbf\n",
       "3  0.937400  25  0.0001    rbf\n",
       "6  0.937400  50  0.0001    rbf\n",
       "0  0.934000  10  0.0001    rbf\n",
       "2  0.790200  10  0.0100    rbf\n",
       "5  0.790200  25  0.0100    rbf\n",
       "8  0.790200  50  0.0100    rbf"
      ]
     },
     "execution_count": 27,
     "metadata": {},
     "output_type": "execute_result"
    }
   ],
   "source": [
    "grid_search_rbf_results = grid_search_rbf.cv_results_\n",
    "results_grid_rbf = [\n",
    "    {'Score': mean_score, **params} \n",
    "    for mean_score, params in zip(grid_search_rbf_results[\"mean_test_score\"], grid_search_rbf_results[\"params\"])\n",
    "]\n",
    "grid_search_rbf_results_df = pd.DataFrame(results_grid_rbf)\n",
    "grid_search_rbf_results_df_sorted = grid_search_rbf_results_df.sort_values(by='Score', ascending=False)\n",
    "grid_search_rbf_results_df_sorted.to_csv('output/grid_svm_rbf_sorted.csv', index=False)\n",
    "grid_search_rbf_results_df_sorted"
   ]
  },
  {
   "cell_type": "code",
   "execution_count": 60,
   "metadata": {},
   "outputs": [
    {
     "name": "stdout",
     "output_type": "stream",
     "text": [
      "Fitting 5 folds for each of 4 candidates, totalling 20 fits\n",
      "[CV 1/5] END ..............C=0.1, kernel=linear;, score=0.915 total time=   6.3s\n",
      "[CV 2/5] END ..............C=0.1, kernel=linear;, score=0.924 total time=   6.7s\n",
      "[CV 3/5] END ..............C=0.1, kernel=linear;, score=0.911 total time=   6.6s\n",
      "[CV 4/5] END ..............C=0.1, kernel=linear;, score=0.925 total time=   6.4s\n",
      "[CV 5/5] END ..............C=0.1, kernel=linear;, score=0.899 total time=   6.2s\n",
      "[CV 1/5] END ............C=0.001, kernel=linear;, score=0.932 total time=  10.9s\n",
      "[CV 2/5] END ............C=0.001, kernel=linear;, score=0.935 total time=  10.9s\n",
      "[CV 3/5] END ............C=0.001, kernel=linear;, score=0.922 total time=  10.9s\n",
      "[CV 4/5] END ............C=0.001, kernel=linear;, score=0.932 total time=  11.3s\n",
      "[CV 5/5] END ............C=0.001, kernel=linear;, score=0.915 total time=  11.3s\n",
      "[CV 1/5] END ................C=1, kernel=linear;, score=0.908 total time=   7.1s\n",
      "[CV 2/5] END ................C=1, kernel=linear;, score=0.918 total time=   7.4s\n",
      "[CV 3/5] END ................C=1, kernel=linear;, score=0.903 total time=   7.3s\n",
      "[CV 4/5] END ................C=1, kernel=linear;, score=0.917 total time=   7.9s\n",
      "[CV 5/5] END ................C=1, kernel=linear;, score=0.888 total time=   7.5s\n",
      "[CV 1/5] END ...............C=10, kernel=linear;, score=0.908 total time=   6.8s\n",
      "[CV 2/5] END ...............C=10, kernel=linear;, score=0.918 total time=   7.1s\n",
      "[CV 3/5] END ...............C=10, kernel=linear;, score=0.903 total time=   6.9s\n",
      "[CV 4/5] END ...............C=10, kernel=linear;, score=0.917 total time=   7.0s\n",
      "[CV 5/5] END ...............C=10, kernel=linear;, score=0.888 total time=   6.8s\n"
     ]
    },
    {
     "data": {
      "text/html": [
       "<style>#sk-container-id-12 {color: black;}#sk-container-id-12 pre{padding: 0;}#sk-container-id-12 div.sk-toggleable {background-color: white;}#sk-container-id-12 label.sk-toggleable__label {cursor: pointer;display: block;width: 100%;margin-bottom: 0;padding: 0.3em;box-sizing: border-box;text-align: center;}#sk-container-id-12 label.sk-toggleable__label-arrow:before {content: \"▸\";float: left;margin-right: 0.25em;color: #696969;}#sk-container-id-12 label.sk-toggleable__label-arrow:hover:before {color: black;}#sk-container-id-12 div.sk-estimator:hover label.sk-toggleable__label-arrow:before {color: black;}#sk-container-id-12 div.sk-toggleable__content {max-height: 0;max-width: 0;overflow: hidden;text-align: left;background-color: #f0f8ff;}#sk-container-id-12 div.sk-toggleable__content pre {margin: 0.2em;color: black;border-radius: 0.25em;background-color: #f0f8ff;}#sk-container-id-12 input.sk-toggleable__control:checked~div.sk-toggleable__content {max-height: 200px;max-width: 100%;overflow: auto;}#sk-container-id-12 input.sk-toggleable__control:checked~label.sk-toggleable__label-arrow:before {content: \"▾\";}#sk-container-id-12 div.sk-estimator input.sk-toggleable__control:checked~label.sk-toggleable__label {background-color: #d4ebff;}#sk-container-id-12 div.sk-label input.sk-toggleable__control:checked~label.sk-toggleable__label {background-color: #d4ebff;}#sk-container-id-12 input.sk-hidden--visually {border: 0;clip: rect(1px 1px 1px 1px);clip: rect(1px, 1px, 1px, 1px);height: 1px;margin: -1px;overflow: hidden;padding: 0;position: absolute;width: 1px;}#sk-container-id-12 div.sk-estimator {font-family: monospace;background-color: #f0f8ff;border: 1px dotted black;border-radius: 0.25em;box-sizing: border-box;margin-bottom: 0.5em;}#sk-container-id-12 div.sk-estimator:hover {background-color: #d4ebff;}#sk-container-id-12 div.sk-parallel-item::after {content: \"\";width: 100%;border-bottom: 1px solid gray;flex-grow: 1;}#sk-container-id-12 div.sk-label:hover label.sk-toggleable__label {background-color: #d4ebff;}#sk-container-id-12 div.sk-serial::before {content: \"\";position: absolute;border-left: 1px solid gray;box-sizing: border-box;top: 0;bottom: 0;left: 50%;z-index: 0;}#sk-container-id-12 div.sk-serial {display: flex;flex-direction: column;align-items: center;background-color: white;padding-right: 0.2em;padding-left: 0.2em;position: relative;}#sk-container-id-12 div.sk-item {position: relative;z-index: 1;}#sk-container-id-12 div.sk-parallel {display: flex;align-items: stretch;justify-content: center;background-color: white;position: relative;}#sk-container-id-12 div.sk-item::before, #sk-container-id-12 div.sk-parallel-item::before {content: \"\";position: absolute;border-left: 1px solid gray;box-sizing: border-box;top: 0;bottom: 0;left: 50%;z-index: -1;}#sk-container-id-12 div.sk-parallel-item {display: flex;flex-direction: column;z-index: 1;position: relative;background-color: white;}#sk-container-id-12 div.sk-parallel-item:first-child::after {align-self: flex-end;width: 50%;}#sk-container-id-12 div.sk-parallel-item:last-child::after {align-self: flex-start;width: 50%;}#sk-container-id-12 div.sk-parallel-item:only-child::after {width: 0;}#sk-container-id-12 div.sk-dashed-wrapped {border: 1px dashed gray;margin: 0 0.4em 0.5em 0.4em;box-sizing: border-box;padding-bottom: 0.4em;background-color: white;}#sk-container-id-12 div.sk-label label {font-family: monospace;font-weight: bold;display: inline-block;line-height: 1.2em;}#sk-container-id-12 div.sk-label-container {text-align: center;}#sk-container-id-12 div.sk-container {/* jupyter's `normalize.less` sets `[hidden] { display: none; }` but bootstrap.min.css set `[hidden] { display: none !important; }` so we also need the `!important` here to be able to override the default hidden behavior on the sphinx rendered scikit-learn.org. See: https://github.com/scikit-learn/scikit-learn/issues/21755 */display: inline-block !important;position: relative;}#sk-container-id-12 div.sk-text-repr-fallback {display: none;}</style><div id=\"sk-container-id-12\" class=\"sk-top-container\"><div class=\"sk-text-repr-fallback\"><pre>GridSearchCV(cv=5, estimator=SVC(),\n",
       "             param_grid=[{&#x27;C&#x27;: [0.1, 0.001, 1, 10], &#x27;kernel&#x27;: [&#x27;linear&#x27;]}],\n",
       "             verbose=3)</pre><b>In a Jupyter environment, please rerun this cell to show the HTML representation or trust the notebook. <br />On GitHub, the HTML representation is unable to render, please try loading this page with nbviewer.org.</b></div><div class=\"sk-container\" hidden><div class=\"sk-item sk-dashed-wrapped\"><div class=\"sk-label-container\"><div class=\"sk-label sk-toggleable\"><input class=\"sk-toggleable__control sk-hidden--visually\" id=\"sk-estimator-id-34\" type=\"checkbox\" ><label for=\"sk-estimator-id-34\" class=\"sk-toggleable__label sk-toggleable__label-arrow\">GridSearchCV</label><div class=\"sk-toggleable__content\"><pre>GridSearchCV(cv=5, estimator=SVC(),\n",
       "             param_grid=[{&#x27;C&#x27;: [0.1, 0.001, 1, 10], &#x27;kernel&#x27;: [&#x27;linear&#x27;]}],\n",
       "             verbose=3)</pre></div></div></div><div class=\"sk-parallel\"><div class=\"sk-parallel-item\"><div class=\"sk-item\"><div class=\"sk-label-container\"><div class=\"sk-label sk-toggleable\"><input class=\"sk-toggleable__control sk-hidden--visually\" id=\"sk-estimator-id-35\" type=\"checkbox\" ><label for=\"sk-estimator-id-35\" class=\"sk-toggleable__label sk-toggleable__label-arrow\">estimator: SVC</label><div class=\"sk-toggleable__content\"><pre>SVC()</pre></div></div></div><div class=\"sk-serial\"><div class=\"sk-item\"><div class=\"sk-estimator sk-toggleable\"><input class=\"sk-toggleable__control sk-hidden--visually\" id=\"sk-estimator-id-36\" type=\"checkbox\" ><label for=\"sk-estimator-id-36\" class=\"sk-toggleable__label sk-toggleable__label-arrow\">SVC</label><div class=\"sk-toggleable__content\"><pre>SVC()</pre></div></div></div></div></div></div></div></div></div></div>"
      ],
      "text/plain": [
       "GridSearchCV(cv=5, estimator=SVC(),\n",
       "             param_grid=[{'C': [0.1, 0.001, 1, 10], 'kernel': ['linear']}],\n",
       "             verbose=3)"
      ]
     },
     "execution_count": 60,
     "metadata": {},
     "output_type": "execute_result"
    }
   ],
   "source": [
    "param_distributions_linear_grid = [{\n",
    "    'kernel': ['linear'],\n",
    "    'C': [0.1, 0.001, 1, 10]\n",
    "}]\n",
    "\n",
    "grid_search_linear = GridSearchCV(svm_classifier, param_distributions_linear_grid, cv=5, verbose=3)\n",
    "grid_search_linear.fit(X_opt_scaled, y_opt)"
   ]
  },
  {
   "cell_type": "code",
   "execution_count": 61,
   "metadata": {},
   "outputs": [
    {
     "data": {
      "text/html": [
       "<div>\n",
       "<style scoped>\n",
       "    .dataframe tbody tr th:only-of-type {\n",
       "        vertical-align: middle;\n",
       "    }\n",
       "\n",
       "    .dataframe tbody tr th {\n",
       "        vertical-align: top;\n",
       "    }\n",
       "\n",
       "    .dataframe thead th {\n",
       "        text-align: right;\n",
       "    }\n",
       "</style>\n",
       "<table border=\"1\" class=\"dataframe\">\n",
       "  <thead>\n",
       "    <tr style=\"text-align: right;\">\n",
       "      <th></th>\n",
       "      <th>Score</th>\n",
       "      <th>C</th>\n",
       "      <th>kernel</th>\n",
       "    </tr>\n",
       "  </thead>\n",
       "  <tbody>\n",
       "    <tr>\n",
       "      <th>1</th>\n",
       "      <td>0.927400</td>\n",
       "      <td>0.001</td>\n",
       "      <td>linear</td>\n",
       "    </tr>\n",
       "    <tr>\n",
       "      <th>0</th>\n",
       "      <td>0.914733</td>\n",
       "      <td>0.100</td>\n",
       "      <td>linear</td>\n",
       "    </tr>\n",
       "    <tr>\n",
       "      <th>2</th>\n",
       "      <td>0.906933</td>\n",
       "      <td>1.000</td>\n",
       "      <td>linear</td>\n",
       "    </tr>\n",
       "    <tr>\n",
       "      <th>3</th>\n",
       "      <td>0.906933</td>\n",
       "      <td>10.000</td>\n",
       "      <td>linear</td>\n",
       "    </tr>\n",
       "  </tbody>\n",
       "</table>\n",
       "</div>"
      ],
      "text/plain": [
       "      Score       C  kernel\n",
       "1  0.927400   0.001  linear\n",
       "0  0.914733   0.100  linear\n",
       "2  0.906933   1.000  linear\n",
       "3  0.906933  10.000  linear"
      ]
     },
     "execution_count": 61,
     "metadata": {},
     "output_type": "execute_result"
    }
   ],
   "source": [
    "grid_search_linear_results = grid_search_linear.cv_results_\n",
    "results_grid_linear = [\n",
    "    {'Score': mean_score, **params} \n",
    "    for mean_score, params in zip(grid_search_linear_results[\"mean_test_score\"], grid_search_linear_results[\"params\"])\n",
    "]\n",
    "grid_search_linear_results_df = pd.DataFrame(results_grid_linear)\n",
    "grid_search_linear_results_df_sorted = grid_search_linear_results_df.sort_values(by='Score', ascending=False)\n",
    "grid_search_linear_results_df_sorted.to_csv('output/grid_svm_linear_sorted.csv', index=False)\n",
    "grid_search_linear_results_df_sorted"
   ]
  },
  {
   "cell_type": "markdown",
   "metadata": {},
   "source": [
    "## Find best hyperparameters with Grid Search"
   ]
  },
  {
   "cell_type": "markdown",
   "metadata": {},
   "source": [
    "### KNN"
   ]
  },
  {
   "cell_type": "code",
   "execution_count": 8,
   "metadata": {},
   "outputs": [
    {
     "name": "stdout",
     "output_type": "stream",
     "text": [
      "Fitting 5 folds for each of 8 candidates, totalling 40 fits\n",
      "[CV 1/5] END ....n_neighbors=3, weights=uniform;, score=0.918 total time=   0.8s\n",
      "[CV 2/5] END ....n_neighbors=3, weights=uniform;, score=0.915 total time=   0.5s\n",
      "[CV 3/5] END ....n_neighbors=3, weights=uniform;, score=0.909 total time=   0.5s\n",
      "[CV 4/5] END ....n_neighbors=3, weights=uniform;, score=0.915 total time=   0.5s\n",
      "[CV 5/5] END ....n_neighbors=3, weights=uniform;, score=0.906 total time=   0.5s\n",
      "[CV 1/5] END ...n_neighbors=3, weights=distance;, score=0.921 total time=   0.5s\n",
      "[CV 2/5] END ...n_neighbors=3, weights=distance;, score=0.923 total time=   0.5s\n",
      "[CV 3/5] END ...n_neighbors=3, weights=distance;, score=0.915 total time=   0.5s\n",
      "[CV 4/5] END ...n_neighbors=3, weights=distance;, score=0.919 total time=   0.5s\n",
      "[CV 5/5] END ...n_neighbors=3, weights=distance;, score=0.911 total time=   0.5s\n",
      "[CV 1/5] END ....n_neighbors=4, weights=uniform;, score=0.912 total time=   0.5s\n",
      "[CV 2/5] END ....n_neighbors=4, weights=uniform;, score=0.918 total time=   0.5s\n",
      "[CV 3/5] END ....n_neighbors=4, weights=uniform;, score=0.908 total time=   0.5s\n",
      "[CV 4/5] END ....n_neighbors=4, weights=uniform;, score=0.912 total time=   0.5s\n",
      "[CV 5/5] END ....n_neighbors=4, weights=uniform;, score=0.902 total time=   0.5s\n",
      "[CV 1/5] END ...n_neighbors=4, weights=distance;, score=0.918 total time=   0.5s\n",
      "[CV 2/5] END ...n_neighbors=4, weights=distance;, score=0.924 total time=   0.5s\n",
      "[CV 3/5] END ...n_neighbors=4, weights=distance;, score=0.916 total time=   0.5s\n",
      "[CV 4/5] END ...n_neighbors=4, weights=distance;, score=0.922 total time=   0.5s\n",
      "[CV 5/5] END ...n_neighbors=4, weights=distance;, score=0.914 total time=   0.5s\n",
      "[CV 1/5] END ....n_neighbors=5, weights=uniform;, score=0.914 total time=   0.5s\n",
      "[CV 2/5] END ....n_neighbors=5, weights=uniform;, score=0.918 total time=   0.5s\n",
      "[CV 3/5] END ....n_neighbors=5, weights=uniform;, score=0.911 total time=   0.5s\n",
      "[CV 4/5] END ....n_neighbors=5, weights=uniform;, score=0.916 total time=   0.5s\n",
      "[CV 5/5] END ....n_neighbors=5, weights=uniform;, score=0.906 total time=   0.5s\n",
      "[CV 1/5] END ...n_neighbors=5, weights=distance;, score=0.916 total time=   0.5s\n",
      "[CV 2/5] END ...n_neighbors=5, weights=distance;, score=0.923 total time=   0.5s\n",
      "[CV 3/5] END ...n_neighbors=5, weights=distance;, score=0.911 total time=   0.5s\n",
      "[CV 4/5] END ...n_neighbors=5, weights=distance;, score=0.920 total time=   0.5s\n",
      "[CV 5/5] END ...n_neighbors=5, weights=distance;, score=0.908 total time=   0.5s\n",
      "[CV 1/5] END ....n_neighbors=6, weights=uniform;, score=0.908 total time=   0.5s\n",
      "[CV 2/5] END ....n_neighbors=6, weights=uniform;, score=0.916 total time=   0.5s\n",
      "[CV 3/5] END ....n_neighbors=6, weights=uniform;, score=0.909 total time=   0.5s\n",
      "[CV 4/5] END ....n_neighbors=6, weights=uniform;, score=0.913 total time=   0.5s\n",
      "[CV 5/5] END ....n_neighbors=6, weights=uniform;, score=0.906 total time=   0.5s\n",
      "[CV 1/5] END ...n_neighbors=6, weights=distance;, score=0.918 total time=   0.5s\n",
      "[CV 2/5] END ...n_neighbors=6, weights=distance;, score=0.923 total time=   0.5s\n",
      "[CV 3/5] END ...n_neighbors=6, weights=distance;, score=0.917 total time=   0.5s\n",
      "[CV 4/5] END ...n_neighbors=6, weights=distance;, score=0.918 total time=   0.5s\n",
      "[CV 5/5] END ...n_neighbors=6, weights=distance;, score=0.912 total time=   0.5s\n"
     ]
    },
    {
     "data": {
      "text/html": [
       "<style>#sk-container-id-1 {color: black;}#sk-container-id-1 pre{padding: 0;}#sk-container-id-1 div.sk-toggleable {background-color: white;}#sk-container-id-1 label.sk-toggleable__label {cursor: pointer;display: block;width: 100%;margin-bottom: 0;padding: 0.3em;box-sizing: border-box;text-align: center;}#sk-container-id-1 label.sk-toggleable__label-arrow:before {content: \"▸\";float: left;margin-right: 0.25em;color: #696969;}#sk-container-id-1 label.sk-toggleable__label-arrow:hover:before {color: black;}#sk-container-id-1 div.sk-estimator:hover label.sk-toggleable__label-arrow:before {color: black;}#sk-container-id-1 div.sk-toggleable__content {max-height: 0;max-width: 0;overflow: hidden;text-align: left;background-color: #f0f8ff;}#sk-container-id-1 div.sk-toggleable__content pre {margin: 0.2em;color: black;border-radius: 0.25em;background-color: #f0f8ff;}#sk-container-id-1 input.sk-toggleable__control:checked~div.sk-toggleable__content {max-height: 200px;max-width: 100%;overflow: auto;}#sk-container-id-1 input.sk-toggleable__control:checked~label.sk-toggleable__label-arrow:before {content: \"▾\";}#sk-container-id-1 div.sk-estimator input.sk-toggleable__control:checked~label.sk-toggleable__label {background-color: #d4ebff;}#sk-container-id-1 div.sk-label input.sk-toggleable__control:checked~label.sk-toggleable__label {background-color: #d4ebff;}#sk-container-id-1 input.sk-hidden--visually {border: 0;clip: rect(1px 1px 1px 1px);clip: rect(1px, 1px, 1px, 1px);height: 1px;margin: -1px;overflow: hidden;padding: 0;position: absolute;width: 1px;}#sk-container-id-1 div.sk-estimator {font-family: monospace;background-color: #f0f8ff;border: 1px dotted black;border-radius: 0.25em;box-sizing: border-box;margin-bottom: 0.5em;}#sk-container-id-1 div.sk-estimator:hover {background-color: #d4ebff;}#sk-container-id-1 div.sk-parallel-item::after {content: \"\";width: 100%;border-bottom: 1px solid gray;flex-grow: 1;}#sk-container-id-1 div.sk-label:hover label.sk-toggleable__label {background-color: #d4ebff;}#sk-container-id-1 div.sk-serial::before {content: \"\";position: absolute;border-left: 1px solid gray;box-sizing: border-box;top: 0;bottom: 0;left: 50%;z-index: 0;}#sk-container-id-1 div.sk-serial {display: flex;flex-direction: column;align-items: center;background-color: white;padding-right: 0.2em;padding-left: 0.2em;position: relative;}#sk-container-id-1 div.sk-item {position: relative;z-index: 1;}#sk-container-id-1 div.sk-parallel {display: flex;align-items: stretch;justify-content: center;background-color: white;position: relative;}#sk-container-id-1 div.sk-item::before, #sk-container-id-1 div.sk-parallel-item::before {content: \"\";position: absolute;border-left: 1px solid gray;box-sizing: border-box;top: 0;bottom: 0;left: 50%;z-index: -1;}#sk-container-id-1 div.sk-parallel-item {display: flex;flex-direction: column;z-index: 1;position: relative;background-color: white;}#sk-container-id-1 div.sk-parallel-item:first-child::after {align-self: flex-end;width: 50%;}#sk-container-id-1 div.sk-parallel-item:last-child::after {align-self: flex-start;width: 50%;}#sk-container-id-1 div.sk-parallel-item:only-child::after {width: 0;}#sk-container-id-1 div.sk-dashed-wrapped {border: 1px dashed gray;margin: 0 0.4em 0.5em 0.4em;box-sizing: border-box;padding-bottom: 0.4em;background-color: white;}#sk-container-id-1 div.sk-label label {font-family: monospace;font-weight: bold;display: inline-block;line-height: 1.2em;}#sk-container-id-1 div.sk-label-container {text-align: center;}#sk-container-id-1 div.sk-container {/* jupyter's `normalize.less` sets `[hidden] { display: none; }` but bootstrap.min.css set `[hidden] { display: none !important; }` so we also need the `!important` here to be able to override the default hidden behavior on the sphinx rendered scikit-learn.org. See: https://github.com/scikit-learn/scikit-learn/issues/21755 */display: inline-block !important;position: relative;}#sk-container-id-1 div.sk-text-repr-fallback {display: none;}</style><div id=\"sk-container-id-1\" class=\"sk-top-container\"><div class=\"sk-text-repr-fallback\"><pre>GridSearchCV(cv=5, estimator=KNeighborsClassifier(),\n",
       "             param_grid=[{&#x27;n_neighbors&#x27;: [3, 4, 5, 6],\n",
       "                          &#x27;weights&#x27;: [&#x27;uniform&#x27;, &#x27;distance&#x27;]}],\n",
       "             verbose=3)</pre><b>In a Jupyter environment, please rerun this cell to show the HTML representation or trust the notebook. <br />On GitHub, the HTML representation is unable to render, please try loading this page with nbviewer.org.</b></div><div class=\"sk-container\" hidden><div class=\"sk-item sk-dashed-wrapped\"><div class=\"sk-label-container\"><div class=\"sk-label sk-toggleable\"><input class=\"sk-toggleable__control sk-hidden--visually\" id=\"sk-estimator-id-1\" type=\"checkbox\" ><label for=\"sk-estimator-id-1\" class=\"sk-toggleable__label sk-toggleable__label-arrow\">GridSearchCV</label><div class=\"sk-toggleable__content\"><pre>GridSearchCV(cv=5, estimator=KNeighborsClassifier(),\n",
       "             param_grid=[{&#x27;n_neighbors&#x27;: [3, 4, 5, 6],\n",
       "                          &#x27;weights&#x27;: [&#x27;uniform&#x27;, &#x27;distance&#x27;]}],\n",
       "             verbose=3)</pre></div></div></div><div class=\"sk-parallel\"><div class=\"sk-parallel-item\"><div class=\"sk-item\"><div class=\"sk-label-container\"><div class=\"sk-label sk-toggleable\"><input class=\"sk-toggleable__control sk-hidden--visually\" id=\"sk-estimator-id-2\" type=\"checkbox\" ><label for=\"sk-estimator-id-2\" class=\"sk-toggleable__label sk-toggleable__label-arrow\">estimator: KNeighborsClassifier</label><div class=\"sk-toggleable__content\"><pre>KNeighborsClassifier()</pre></div></div></div><div class=\"sk-serial\"><div class=\"sk-item\"><div class=\"sk-estimator sk-toggleable\"><input class=\"sk-toggleable__control sk-hidden--visually\" id=\"sk-estimator-id-3\" type=\"checkbox\" ><label for=\"sk-estimator-id-3\" class=\"sk-toggleable__label sk-toggleable__label-arrow\">KNeighborsClassifier</label><div class=\"sk-toggleable__content\"><pre>KNeighborsClassifier()</pre></div></div></div></div></div></div></div></div></div></div>"
      ],
      "text/plain": [
       "GridSearchCV(cv=5, estimator=KNeighborsClassifier(),\n",
       "             param_grid=[{'n_neighbors': [3, 4, 5, 6],\n",
       "                          'weights': ['uniform', 'distance']}],\n",
       "             verbose=3)"
      ]
     },
     "execution_count": 8,
     "metadata": {},
     "output_type": "execute_result"
    }
   ],
   "source": [
    "from sklearn.neighbors import KNeighborsClassifier\n",
    "from sklearn.model_selection import GridSearchCV\n",
    "\n",
    "param_grid_knn_classifier = [{'weights': [\"uniform\", \"distance\"], \n",
    "                            'n_neighbors': [3, 4, 5, 6]}]\n",
    "\n",
    "knn_classifier_grid = KNeighborsClassifier()\n",
    "grid_search_knn = GridSearchCV(knn_classifier_grid, param_grid_knn_classifier, cv=5, verbose=3)\n",
    "grid_search_knn.fit(X_opt_scaled, y_opt)"
   ]
  },
  {
   "cell_type": "code",
   "execution_count": 11,
   "metadata": {},
   "outputs": [
    {
     "data": {
      "text/html": [
       "<div>\n",
       "<style scoped>\n",
       "    .dataframe tbody tr th:only-of-type {\n",
       "        vertical-align: middle;\n",
       "    }\n",
       "\n",
       "    .dataframe tbody tr th {\n",
       "        vertical-align: top;\n",
       "    }\n",
       "\n",
       "    .dataframe thead th {\n",
       "        text-align: right;\n",
       "    }\n",
       "</style>\n",
       "<table border=\"1\" class=\"dataframe\">\n",
       "  <thead>\n",
       "    <tr style=\"text-align: right;\">\n",
       "      <th></th>\n",
       "      <th>Score</th>\n",
       "      <th>n_neighbors</th>\n",
       "      <th>weights</th>\n",
       "    </tr>\n",
       "  </thead>\n",
       "  <tbody>\n",
       "    <tr>\n",
       "      <th>3</th>\n",
       "      <td>0.918800</td>\n",
       "      <td>4</td>\n",
       "      <td>distance</td>\n",
       "    </tr>\n",
       "    <tr>\n",
       "      <th>1</th>\n",
       "      <td>0.917800</td>\n",
       "      <td>3</td>\n",
       "      <td>distance</td>\n",
       "    </tr>\n",
       "    <tr>\n",
       "      <th>7</th>\n",
       "      <td>0.917600</td>\n",
       "      <td>6</td>\n",
       "      <td>distance</td>\n",
       "    </tr>\n",
       "    <tr>\n",
       "      <th>5</th>\n",
       "      <td>0.915800</td>\n",
       "      <td>5</td>\n",
       "      <td>distance</td>\n",
       "    </tr>\n",
       "    <tr>\n",
       "      <th>4</th>\n",
       "      <td>0.913000</td>\n",
       "      <td>5</td>\n",
       "      <td>uniform</td>\n",
       "    </tr>\n",
       "    <tr>\n",
       "      <th>0</th>\n",
       "      <td>0.912667</td>\n",
       "      <td>3</td>\n",
       "      <td>uniform</td>\n",
       "    </tr>\n",
       "    <tr>\n",
       "      <th>6</th>\n",
       "      <td>0.910467</td>\n",
       "      <td>6</td>\n",
       "      <td>uniform</td>\n",
       "    </tr>\n",
       "    <tr>\n",
       "      <th>2</th>\n",
       "      <td>0.910400</td>\n",
       "      <td>4</td>\n",
       "      <td>uniform</td>\n",
       "    </tr>\n",
       "  </tbody>\n",
       "</table>\n",
       "</div>"
      ],
      "text/plain": [
       "      Score  n_neighbors   weights\n",
       "3  0.918800            4  distance\n",
       "1  0.917800            3  distance\n",
       "7  0.917600            6  distance\n",
       "5  0.915800            5  distance\n",
       "4  0.913000            5   uniform\n",
       "0  0.912667            3   uniform\n",
       "6  0.910467            6   uniform\n",
       "2  0.910400            4   uniform"
      ]
     },
     "execution_count": 11,
     "metadata": {},
     "output_type": "execute_result"
    }
   ],
   "source": [
    "import pandas as pd\n",
    "grid_search_knn_results = grid_search_knn.cv_results_\n",
    "results_grid_knn = [\n",
    "    {'Score': mean_score, **params} \n",
    "    for mean_score, params in zip(grid_search_knn_results[\"mean_test_score\"], grid_search_knn_results[\"params\"])\n",
    "]\n",
    "grid_search_knn_results_df = pd.DataFrame(results_grid_knn)\n",
    "grid_search_knn_results_df_sorted = grid_search_knn_results_df.sort_values(by='Score', ascending=False)\n",
    "grid_search_knn_results_df_sorted.to_csv('output/grid_svm_knn_scaled_sorted.csv', index=False)\n",
    "grid_search_knn_results_df_sorted"
   ]
  },
  {
   "cell_type": "markdown",
   "metadata": {},
   "source": [
    "### SGD"
   ]
  },
  {
   "cell_type": "code",
   "execution_count": 12,
   "metadata": {},
   "outputs": [
    {
     "name": "stdout",
     "output_type": "stream",
     "text": [
      "Fitting 3 folds for each of 16 candidates, totalling 48 fits\n"
     ]
    },
    {
     "name": "stderr",
     "output_type": "stream",
     "text": [
      "C:\\Users\\bademari\\AppData\\Local\\Packages\\PythonSoftwareFoundation.Python.3.10_qbz5n2kfra8p0\\LocalCache\\local-packages\\Python310\\site-packages\\sklearn\\linear_model\\_stochastic_gradient.py:713: ConvergenceWarning: Maximum number of iteration reached before convergence. Consider increasing max_iter to improve the fit.\n",
      "  warnings.warn(\n"
     ]
    },
    {
     "name": "stdout",
     "output_type": "stream",
     "text": [
      "[CV 1/3] END alpha=0.0001, loss=hinge, max_iter=1000, penalty=l2;, score=0.907 total time= 1.0min\n"
     ]
    },
    {
     "name": "stderr",
     "output_type": "stream",
     "text": [
      "C:\\Users\\bademari\\AppData\\Local\\Packages\\PythonSoftwareFoundation.Python.3.10_qbz5n2kfra8p0\\LocalCache\\local-packages\\Python310\\site-packages\\sklearn\\linear_model\\_stochastic_gradient.py:713: ConvergenceWarning: Maximum number of iteration reached before convergence. Consider increasing max_iter to improve the fit.\n",
      "  warnings.warn(\n"
     ]
    },
    {
     "name": "stdout",
     "output_type": "stream",
     "text": [
      "[CV 2/3] END alpha=0.0001, loss=hinge, max_iter=1000, penalty=l2;, score=0.901 total time=  45.3s\n"
     ]
    },
    {
     "name": "stderr",
     "output_type": "stream",
     "text": [
      "C:\\Users\\bademari\\AppData\\Local\\Packages\\PythonSoftwareFoundation.Python.3.10_qbz5n2kfra8p0\\LocalCache\\local-packages\\Python310\\site-packages\\sklearn\\linear_model\\_stochastic_gradient.py:713: ConvergenceWarning: Maximum number of iteration reached before convergence. Consider increasing max_iter to improve the fit.\n",
      "  warnings.warn(\n"
     ]
    },
    {
     "name": "stdout",
     "output_type": "stream",
     "text": [
      "[CV 3/3] END alpha=0.0001, loss=hinge, max_iter=1000, penalty=l2;, score=0.890 total time=  35.9s\n"
     ]
    },
    {
     "name": "stderr",
     "output_type": "stream",
     "text": [
      "C:\\Users\\bademari\\AppData\\Local\\Packages\\PythonSoftwareFoundation.Python.3.10_qbz5n2kfra8p0\\LocalCache\\local-packages\\Python310\\site-packages\\sklearn\\linear_model\\_stochastic_gradient.py:713: ConvergenceWarning: Maximum number of iteration reached before convergence. Consider increasing max_iter to improve the fit.\n",
      "  warnings.warn(\n"
     ]
    },
    {
     "name": "stdout",
     "output_type": "stream",
     "text": [
      "[CV 1/3] END alpha=0.0001, loss=hinge, max_iter=1000, penalty=elasticnet;, score=0.907 total time= 1.6min\n"
     ]
    },
    {
     "name": "stderr",
     "output_type": "stream",
     "text": [
      "C:\\Users\\bademari\\AppData\\Local\\Packages\\PythonSoftwareFoundation.Python.3.10_qbz5n2kfra8p0\\LocalCache\\local-packages\\Python310\\site-packages\\sklearn\\linear_model\\_stochastic_gradient.py:713: ConvergenceWarning: Maximum number of iteration reached before convergence. Consider increasing max_iter to improve the fit.\n",
      "  warnings.warn(\n"
     ]
    },
    {
     "name": "stdout",
     "output_type": "stream",
     "text": [
      "[CV 2/3] END alpha=0.0001, loss=hinge, max_iter=1000, penalty=elasticnet;, score=0.901 total time= 1.6min\n"
     ]
    },
    {
     "name": "stderr",
     "output_type": "stream",
     "text": [
      "C:\\Users\\bademari\\AppData\\Local\\Packages\\PythonSoftwareFoundation.Python.3.10_qbz5n2kfra8p0\\LocalCache\\local-packages\\Python310\\site-packages\\sklearn\\linear_model\\_stochastic_gradient.py:713: ConvergenceWarning: Maximum number of iteration reached before convergence. Consider increasing max_iter to improve the fit.\n",
      "  warnings.warn(\n"
     ]
    },
    {
     "name": "stdout",
     "output_type": "stream",
     "text": [
      "[CV 3/3] END alpha=0.0001, loss=hinge, max_iter=1000, penalty=elasticnet;, score=0.890 total time= 1.5min\n",
      "[CV 1/3] END alpha=0.0001, loss=hinge, max_iter=2000, penalty=l2;, score=0.907 total time=  46.1s\n",
      "[CV 2/3] END alpha=0.0001, loss=hinge, max_iter=2000, penalty=l2;, score=0.900 total time=  43.4s\n",
      "[CV 3/3] END alpha=0.0001, loss=hinge, max_iter=2000, penalty=l2;, score=0.889 total time=  46.2s\n",
      "[CV 1/3] END alpha=0.0001, loss=hinge, max_iter=2000, penalty=elasticnet;, score=0.909 total time= 1.7min\n",
      "[CV 2/3] END alpha=0.0001, loss=hinge, max_iter=2000, penalty=elasticnet;, score=0.898 total time= 1.6min\n",
      "[CV 3/3] END alpha=0.0001, loss=hinge, max_iter=2000, penalty=elasticnet;, score=0.890 total time= 1.6min\n"
     ]
    },
    {
     "name": "stderr",
     "output_type": "stream",
     "text": [
      "C:\\Users\\bademari\\AppData\\Local\\Packages\\PythonSoftwareFoundation.Python.3.10_qbz5n2kfra8p0\\LocalCache\\local-packages\\Python310\\site-packages\\sklearn\\linear_model\\_stochastic_gradient.py:713: ConvergenceWarning: Maximum number of iteration reached before convergence. Consider increasing max_iter to improve the fit.\n",
      "  warnings.warn(\n"
     ]
    },
    {
     "name": "stdout",
     "output_type": "stream",
     "text": [
      "[CV 1/3] END alpha=0.0001, loss=log_loss, max_iter=1000, penalty=l2;, score=0.904 total time= 1.6min\n"
     ]
    },
    {
     "name": "stderr",
     "output_type": "stream",
     "text": [
      "C:\\Users\\bademari\\AppData\\Local\\Packages\\PythonSoftwareFoundation.Python.3.10_qbz5n2kfra8p0\\LocalCache\\local-packages\\Python310\\site-packages\\sklearn\\linear_model\\_stochastic_gradient.py:713: ConvergenceWarning: Maximum number of iteration reached before convergence. Consider increasing max_iter to improve the fit.\n",
      "  warnings.warn(\n"
     ]
    },
    {
     "name": "stdout",
     "output_type": "stream",
     "text": [
      "[CV 2/3] END alpha=0.0001, loss=log_loss, max_iter=1000, penalty=l2;, score=0.902 total time= 1.2min\n"
     ]
    },
    {
     "name": "stderr",
     "output_type": "stream",
     "text": [
      "C:\\Users\\bademari\\AppData\\Local\\Packages\\PythonSoftwareFoundation.Python.3.10_qbz5n2kfra8p0\\LocalCache\\local-packages\\Python310\\site-packages\\sklearn\\linear_model\\_stochastic_gradient.py:713: ConvergenceWarning: Maximum number of iteration reached before convergence. Consider increasing max_iter to improve the fit.\n",
      "  warnings.warn(\n"
     ]
    },
    {
     "name": "stdout",
     "output_type": "stream",
     "text": [
      "[CV 3/3] END alpha=0.0001, loss=log_loss, max_iter=1000, penalty=l2;, score=0.889 total time= 1.2min\n"
     ]
    },
    {
     "name": "stderr",
     "output_type": "stream",
     "text": [
      "C:\\Users\\bademari\\AppData\\Local\\Packages\\PythonSoftwareFoundation.Python.3.10_qbz5n2kfra8p0\\LocalCache\\local-packages\\Python310\\site-packages\\sklearn\\linear_model\\_stochastic_gradient.py:713: ConvergenceWarning: Maximum number of iteration reached before convergence. Consider increasing max_iter to improve the fit.\n",
      "  warnings.warn(\n"
     ]
    },
    {
     "name": "stdout",
     "output_type": "stream",
     "text": [
      "[CV 1/3] END alpha=0.0001, loss=log_loss, max_iter=1000, penalty=elasticnet;, score=0.908 total time= 2.3min\n"
     ]
    },
    {
     "name": "stderr",
     "output_type": "stream",
     "text": [
      "C:\\Users\\bademari\\AppData\\Local\\Packages\\PythonSoftwareFoundation.Python.3.10_qbz5n2kfra8p0\\LocalCache\\local-packages\\Python310\\site-packages\\sklearn\\linear_model\\_stochastic_gradient.py:713: ConvergenceWarning: Maximum number of iteration reached before convergence. Consider increasing max_iter to improve the fit.\n",
      "  warnings.warn(\n"
     ]
    },
    {
     "name": "stdout",
     "output_type": "stream",
     "text": [
      "[CV 2/3] END alpha=0.0001, loss=log_loss, max_iter=1000, penalty=elasticnet;, score=0.900 total time= 2.2min\n",
      "[CV 3/3] END alpha=0.0001, loss=log_loss, max_iter=1000, penalty=elasticnet;, score=0.888 total time= 2.2min\n",
      "[CV 1/3] END alpha=0.0001, loss=log_loss, max_iter=2000, penalty=l2;, score=0.904 total time= 1.4min\n",
      "[CV 2/3] END alpha=0.0001, loss=log_loss, max_iter=2000, penalty=l2;, score=0.900 total time= 1.3min\n",
      "[CV 3/3] END alpha=0.0001, loss=log_loss, max_iter=2000, penalty=l2;, score=0.889 total time= 1.5min\n",
      "[CV 1/3] END alpha=0.0001, loss=log_loss, max_iter=2000, penalty=elasticnet;, score=0.906 total time= 2.2min\n",
      "[CV 2/3] END alpha=0.0001, loss=log_loss, max_iter=2000, penalty=elasticnet;, score=0.901 total time= 2.3min\n",
      "[CV 3/3] END alpha=0.0001, loss=log_loss, max_iter=2000, penalty=elasticnet;, score=0.888 total time= 2.4min\n",
      "[CV 1/3] END alpha=0.001, loss=hinge, max_iter=1000, penalty=l2;, score=0.904 total time=  15.1s\n",
      "[CV 2/3] END alpha=0.001, loss=hinge, max_iter=1000, penalty=l2;, score=0.895 total time=  17.7s\n",
      "[CV 3/3] END alpha=0.001, loss=hinge, max_iter=1000, penalty=l2;, score=0.889 total time=  15.5s\n",
      "[CV 1/3] END alpha=0.001, loss=hinge, max_iter=1000, penalty=elasticnet;, score=0.905 total time=  33.2s\n",
      "[CV 2/3] END alpha=0.001, loss=hinge, max_iter=1000, penalty=elasticnet;, score=0.895 total time=  30.5s\n",
      "[CV 3/3] END alpha=0.001, loss=hinge, max_iter=1000, penalty=elasticnet;, score=0.888 total time=  29.4s\n",
      "[CV 1/3] END alpha=0.001, loss=hinge, max_iter=2000, penalty=l2;, score=0.905 total time=  17.0s\n",
      "[CV 2/3] END alpha=0.001, loss=hinge, max_iter=2000, penalty=l2;, score=0.896 total time=  15.8s\n",
      "[CV 3/3] END alpha=0.001, loss=hinge, max_iter=2000, penalty=l2;, score=0.888 total time=  14.3s\n",
      "[CV 1/3] END alpha=0.001, loss=hinge, max_iter=2000, penalty=elasticnet;, score=0.904 total time=  31.6s\n",
      "[CV 2/3] END alpha=0.001, loss=hinge, max_iter=2000, penalty=elasticnet;, score=0.896 total time=  33.7s\n",
      "[CV 3/3] END alpha=0.001, loss=hinge, max_iter=2000, penalty=elasticnet;, score=0.889 total time=  31.6s\n",
      "[CV 1/3] END alpha=0.001, loss=log_loss, max_iter=1000, penalty=l2;, score=0.905 total time=  34.1s\n",
      "[CV 2/3] END alpha=0.001, loss=log_loss, max_iter=1000, penalty=l2;, score=0.894 total time=  32.6s\n",
      "[CV 3/3] END alpha=0.001, loss=log_loss, max_iter=1000, penalty=l2;, score=0.888 total time=  27.3s\n",
      "[CV 1/3] END alpha=0.001, loss=log_loss, max_iter=1000, penalty=elasticnet;, score=0.906 total time=  57.0s\n",
      "[CV 2/3] END alpha=0.001, loss=log_loss, max_iter=1000, penalty=elasticnet;, score=0.895 total time=  53.5s\n",
      "[CV 3/3] END alpha=0.001, loss=log_loss, max_iter=1000, penalty=elasticnet;, score=0.889 total time=  47.9s\n",
      "[CV 1/3] END alpha=0.001, loss=log_loss, max_iter=2000, penalty=l2;, score=0.905 total time=  29.6s\n",
      "[CV 2/3] END alpha=0.001, loss=log_loss, max_iter=2000, penalty=l2;, score=0.894 total time=  30.7s\n",
      "[CV 3/3] END alpha=0.001, loss=log_loss, max_iter=2000, penalty=l2;, score=0.887 total time=  29.9s\n",
      "[CV 1/3] END alpha=0.001, loss=log_loss, max_iter=2000, penalty=elasticnet;, score=0.906 total time=  53.7s\n",
      "[CV 2/3] END alpha=0.001, loss=log_loss, max_iter=2000, penalty=elasticnet;, score=0.896 total time=  56.9s\n",
      "[CV 3/3] END alpha=0.001, loss=log_loss, max_iter=2000, penalty=elasticnet;, score=0.887 total time=  47.0s\n"
     ]
    },
    {
     "data": {
      "text/html": [
       "<style>#sk-container-id-2 {color: black;}#sk-container-id-2 pre{padding: 0;}#sk-container-id-2 div.sk-toggleable {background-color: white;}#sk-container-id-2 label.sk-toggleable__label {cursor: pointer;display: block;width: 100%;margin-bottom: 0;padding: 0.3em;box-sizing: border-box;text-align: center;}#sk-container-id-2 label.sk-toggleable__label-arrow:before {content: \"▸\";float: left;margin-right: 0.25em;color: #696969;}#sk-container-id-2 label.sk-toggleable__label-arrow:hover:before {color: black;}#sk-container-id-2 div.sk-estimator:hover label.sk-toggleable__label-arrow:before {color: black;}#sk-container-id-2 div.sk-toggleable__content {max-height: 0;max-width: 0;overflow: hidden;text-align: left;background-color: #f0f8ff;}#sk-container-id-2 div.sk-toggleable__content pre {margin: 0.2em;color: black;border-radius: 0.25em;background-color: #f0f8ff;}#sk-container-id-2 input.sk-toggleable__control:checked~div.sk-toggleable__content {max-height: 200px;max-width: 100%;overflow: auto;}#sk-container-id-2 input.sk-toggleable__control:checked~label.sk-toggleable__label-arrow:before {content: \"▾\";}#sk-container-id-2 div.sk-estimator input.sk-toggleable__control:checked~label.sk-toggleable__label {background-color: #d4ebff;}#sk-container-id-2 div.sk-label input.sk-toggleable__control:checked~label.sk-toggleable__label {background-color: #d4ebff;}#sk-container-id-2 input.sk-hidden--visually {border: 0;clip: rect(1px 1px 1px 1px);clip: rect(1px, 1px, 1px, 1px);height: 1px;margin: -1px;overflow: hidden;padding: 0;position: absolute;width: 1px;}#sk-container-id-2 div.sk-estimator {font-family: monospace;background-color: #f0f8ff;border: 1px dotted black;border-radius: 0.25em;box-sizing: border-box;margin-bottom: 0.5em;}#sk-container-id-2 div.sk-estimator:hover {background-color: #d4ebff;}#sk-container-id-2 div.sk-parallel-item::after {content: \"\";width: 100%;border-bottom: 1px solid gray;flex-grow: 1;}#sk-container-id-2 div.sk-label:hover label.sk-toggleable__label {background-color: #d4ebff;}#sk-container-id-2 div.sk-serial::before {content: \"\";position: absolute;border-left: 1px solid gray;box-sizing: border-box;top: 0;bottom: 0;left: 50%;z-index: 0;}#sk-container-id-2 div.sk-serial {display: flex;flex-direction: column;align-items: center;background-color: white;padding-right: 0.2em;padding-left: 0.2em;position: relative;}#sk-container-id-2 div.sk-item {position: relative;z-index: 1;}#sk-container-id-2 div.sk-parallel {display: flex;align-items: stretch;justify-content: center;background-color: white;position: relative;}#sk-container-id-2 div.sk-item::before, #sk-container-id-2 div.sk-parallel-item::before {content: \"\";position: absolute;border-left: 1px solid gray;box-sizing: border-box;top: 0;bottom: 0;left: 50%;z-index: -1;}#sk-container-id-2 div.sk-parallel-item {display: flex;flex-direction: column;z-index: 1;position: relative;background-color: white;}#sk-container-id-2 div.sk-parallel-item:first-child::after {align-self: flex-end;width: 50%;}#sk-container-id-2 div.sk-parallel-item:last-child::after {align-self: flex-start;width: 50%;}#sk-container-id-2 div.sk-parallel-item:only-child::after {width: 0;}#sk-container-id-2 div.sk-dashed-wrapped {border: 1px dashed gray;margin: 0 0.4em 0.5em 0.4em;box-sizing: border-box;padding-bottom: 0.4em;background-color: white;}#sk-container-id-2 div.sk-label label {font-family: monospace;font-weight: bold;display: inline-block;line-height: 1.2em;}#sk-container-id-2 div.sk-label-container {text-align: center;}#sk-container-id-2 div.sk-container {/* jupyter's `normalize.less` sets `[hidden] { display: none; }` but bootstrap.min.css set `[hidden] { display: none !important; }` so we also need the `!important` here to be able to override the default hidden behavior on the sphinx rendered scikit-learn.org. See: https://github.com/scikit-learn/scikit-learn/issues/21755 */display: inline-block !important;position: relative;}#sk-container-id-2 div.sk-text-repr-fallback {display: none;}</style><div id=\"sk-container-id-2\" class=\"sk-top-container\"><div class=\"sk-text-repr-fallback\"><pre>GridSearchCV(cv=3, estimator=SGDClassifier(),\n",
       "             param_grid={&#x27;alpha&#x27;: [0.0001, 0.001],\n",
       "                         &#x27;loss&#x27;: [&#x27;hinge&#x27;, &#x27;log_loss&#x27;],\n",
       "                         &#x27;max_iter&#x27;: [1000, 2000],\n",
       "                         &#x27;penalty&#x27;: [&#x27;l2&#x27;, &#x27;elasticnet&#x27;]},\n",
       "             verbose=3)</pre><b>In a Jupyter environment, please rerun this cell to show the HTML representation or trust the notebook. <br />On GitHub, the HTML representation is unable to render, please try loading this page with nbviewer.org.</b></div><div class=\"sk-container\" hidden><div class=\"sk-item sk-dashed-wrapped\"><div class=\"sk-label-container\"><div class=\"sk-label sk-toggleable\"><input class=\"sk-toggleable__control sk-hidden--visually\" id=\"sk-estimator-id-4\" type=\"checkbox\" ><label for=\"sk-estimator-id-4\" class=\"sk-toggleable__label sk-toggleable__label-arrow\">GridSearchCV</label><div class=\"sk-toggleable__content\"><pre>GridSearchCV(cv=3, estimator=SGDClassifier(),\n",
       "             param_grid={&#x27;alpha&#x27;: [0.0001, 0.001],\n",
       "                         &#x27;loss&#x27;: [&#x27;hinge&#x27;, &#x27;log_loss&#x27;],\n",
       "                         &#x27;max_iter&#x27;: [1000, 2000],\n",
       "                         &#x27;penalty&#x27;: [&#x27;l2&#x27;, &#x27;elasticnet&#x27;]},\n",
       "             verbose=3)</pre></div></div></div><div class=\"sk-parallel\"><div class=\"sk-parallel-item\"><div class=\"sk-item\"><div class=\"sk-label-container\"><div class=\"sk-label sk-toggleable\"><input class=\"sk-toggleable__control sk-hidden--visually\" id=\"sk-estimator-id-5\" type=\"checkbox\" ><label for=\"sk-estimator-id-5\" class=\"sk-toggleable__label sk-toggleable__label-arrow\">estimator: SGDClassifier</label><div class=\"sk-toggleable__content\"><pre>SGDClassifier()</pre></div></div></div><div class=\"sk-serial\"><div class=\"sk-item\"><div class=\"sk-estimator sk-toggleable\"><input class=\"sk-toggleable__control sk-hidden--visually\" id=\"sk-estimator-id-6\" type=\"checkbox\" ><label for=\"sk-estimator-id-6\" class=\"sk-toggleable__label sk-toggleable__label-arrow\">SGDClassifier</label><div class=\"sk-toggleable__content\"><pre>SGDClassifier()</pre></div></div></div></div></div></div></div></div></div></div>"
      ],
      "text/plain": [
       "GridSearchCV(cv=3, estimator=SGDClassifier(),\n",
       "             param_grid={'alpha': [0.0001, 0.001],\n",
       "                         'loss': ['hinge', 'log_loss'],\n",
       "                         'max_iter': [1000, 2000],\n",
       "                         'penalty': ['l2', 'elasticnet']},\n",
       "             verbose=3)"
      ]
     },
     "execution_count": 12,
     "metadata": {},
     "output_type": "execute_result"
    }
   ],
   "source": [
    "from sklearn.linear_model import SGDClassifier\n",
    "\n",
    "\n",
    "param_grid_sgd_classifier =  {\n",
    "    'loss': ['hinge', 'log_loss'],\n",
    "    'penalty': ['l2', 'elasticnet'],  \n",
    "    'alpha': [1e-4, 1e-3],  \n",
    "    'max_iter': [1000, 2000]\n",
    "}\n",
    "\n",
    "\n",
    "sgd_classifier_grid = SGDClassifier()\n",
    "grid_search_sgd = GridSearchCV(sgd_classifier_grid, param_grid_sgd_classifier, cv=3, verbose=3)\n",
    "grid_search_sgd.fit(X_opt_scaled, y_opt)"
   ]
  },
  {
   "cell_type": "code",
   "execution_count": 13,
   "metadata": {},
   "outputs": [
    {
     "data": {
      "text/html": [
       "<div>\n",
       "<style scoped>\n",
       "    .dataframe tbody tr th:only-of-type {\n",
       "        vertical-align: middle;\n",
       "    }\n",
       "\n",
       "    .dataframe tbody tr th {\n",
       "        vertical-align: top;\n",
       "    }\n",
       "\n",
       "    .dataframe thead th {\n",
       "        text-align: right;\n",
       "    }\n",
       "</style>\n",
       "<table border=\"1\" class=\"dataframe\">\n",
       "  <thead>\n",
       "    <tr style=\"text-align: right;\">\n",
       "      <th></th>\n",
       "      <th>Score</th>\n",
       "      <th>alpha</th>\n",
       "      <th>loss</th>\n",
       "      <th>max_iter</th>\n",
       "      <th>penalty</th>\n",
       "    </tr>\n",
       "  </thead>\n",
       "  <tbody>\n",
       "    <tr>\n",
       "      <th>3</th>\n",
       "      <td>0.899333</td>\n",
       "      <td>0.0001</td>\n",
       "      <td>hinge</td>\n",
       "      <td>2000</td>\n",
       "      <td>elasticnet</td>\n",
       "    </tr>\n",
       "    <tr>\n",
       "      <th>0</th>\n",
       "      <td>0.899133</td>\n",
       "      <td>0.0001</td>\n",
       "      <td>hinge</td>\n",
       "      <td>1000</td>\n",
       "      <td>l2</td>\n",
       "    </tr>\n",
       "    <tr>\n",
       "      <th>1</th>\n",
       "      <td>0.899067</td>\n",
       "      <td>0.0001</td>\n",
       "      <td>hinge</td>\n",
       "      <td>1000</td>\n",
       "      <td>elasticnet</td>\n",
       "    </tr>\n",
       "    <tr>\n",
       "      <th>5</th>\n",
       "      <td>0.898600</td>\n",
       "      <td>0.0001</td>\n",
       "      <td>log_loss</td>\n",
       "      <td>1000</td>\n",
       "      <td>elasticnet</td>\n",
       "    </tr>\n",
       "    <tr>\n",
       "      <th>2</th>\n",
       "      <td>0.898533</td>\n",
       "      <td>0.0001</td>\n",
       "      <td>hinge</td>\n",
       "      <td>2000</td>\n",
       "      <td>l2</td>\n",
       "    </tr>\n",
       "    <tr>\n",
       "      <th>4</th>\n",
       "      <td>0.898467</td>\n",
       "      <td>0.0001</td>\n",
       "      <td>log_loss</td>\n",
       "      <td>1000</td>\n",
       "      <td>l2</td>\n",
       "    </tr>\n",
       "    <tr>\n",
       "      <th>7</th>\n",
       "      <td>0.898200</td>\n",
       "      <td>0.0001</td>\n",
       "      <td>log_loss</td>\n",
       "      <td>2000</td>\n",
       "      <td>elasticnet</td>\n",
       "    </tr>\n",
       "    <tr>\n",
       "      <th>6</th>\n",
       "      <td>0.897667</td>\n",
       "      <td>0.0001</td>\n",
       "      <td>log_loss</td>\n",
       "      <td>2000</td>\n",
       "      <td>l2</td>\n",
       "    </tr>\n",
       "    <tr>\n",
       "      <th>15</th>\n",
       "      <td>0.896667</td>\n",
       "      <td>0.0010</td>\n",
       "      <td>log_loss</td>\n",
       "      <td>2000</td>\n",
       "      <td>elasticnet</td>\n",
       "    </tr>\n",
       "    <tr>\n",
       "      <th>13</th>\n",
       "      <td>0.896467</td>\n",
       "      <td>0.0010</td>\n",
       "      <td>log_loss</td>\n",
       "      <td>1000</td>\n",
       "      <td>elasticnet</td>\n",
       "    </tr>\n",
       "    <tr>\n",
       "      <th>11</th>\n",
       "      <td>0.896267</td>\n",
       "      <td>0.0010</td>\n",
       "      <td>hinge</td>\n",
       "      <td>2000</td>\n",
       "      <td>elasticnet</td>\n",
       "    </tr>\n",
       "    <tr>\n",
       "      <th>9</th>\n",
       "      <td>0.896200</td>\n",
       "      <td>0.0010</td>\n",
       "      <td>hinge</td>\n",
       "      <td>1000</td>\n",
       "      <td>elasticnet</td>\n",
       "    </tr>\n",
       "    <tr>\n",
       "      <th>10</th>\n",
       "      <td>0.896200</td>\n",
       "      <td>0.0010</td>\n",
       "      <td>hinge</td>\n",
       "      <td>2000</td>\n",
       "      <td>l2</td>\n",
       "    </tr>\n",
       "    <tr>\n",
       "      <th>8</th>\n",
       "      <td>0.896000</td>\n",
       "      <td>0.0010</td>\n",
       "      <td>hinge</td>\n",
       "      <td>1000</td>\n",
       "      <td>l2</td>\n",
       "    </tr>\n",
       "    <tr>\n",
       "      <th>14</th>\n",
       "      <td>0.895333</td>\n",
       "      <td>0.0010</td>\n",
       "      <td>log_loss</td>\n",
       "      <td>2000</td>\n",
       "      <td>l2</td>\n",
       "    </tr>\n",
       "    <tr>\n",
       "      <th>12</th>\n",
       "      <td>0.895267</td>\n",
       "      <td>0.0010</td>\n",
       "      <td>log_loss</td>\n",
       "      <td>1000</td>\n",
       "      <td>l2</td>\n",
       "    </tr>\n",
       "  </tbody>\n",
       "</table>\n",
       "</div>"
      ],
      "text/plain": [
       "       Score   alpha      loss  max_iter     penalty\n",
       "3   0.899333  0.0001     hinge      2000  elasticnet\n",
       "0   0.899133  0.0001     hinge      1000          l2\n",
       "1   0.899067  0.0001     hinge      1000  elasticnet\n",
       "5   0.898600  0.0001  log_loss      1000  elasticnet\n",
       "2   0.898533  0.0001     hinge      2000          l2\n",
       "4   0.898467  0.0001  log_loss      1000          l2\n",
       "7   0.898200  0.0001  log_loss      2000  elasticnet\n",
       "6   0.897667  0.0001  log_loss      2000          l2\n",
       "15  0.896667  0.0010  log_loss      2000  elasticnet\n",
       "13  0.896467  0.0010  log_loss      1000  elasticnet\n",
       "11  0.896267  0.0010     hinge      2000  elasticnet\n",
       "9   0.896200  0.0010     hinge      1000  elasticnet\n",
       "10  0.896200  0.0010     hinge      2000          l2\n",
       "8   0.896000  0.0010     hinge      1000          l2\n",
       "14  0.895333  0.0010  log_loss      2000          l2\n",
       "12  0.895267  0.0010  log_loss      1000          l2"
      ]
     },
     "execution_count": 13,
     "metadata": {},
     "output_type": "execute_result"
    }
   ],
   "source": [
    "grid_search_sgd_results = grid_search_sgd.cv_results_\n",
    "results_grid_sgd = [\n",
    "    {'Score': mean_score, **params} \n",
    "    for mean_score, params in zip(grid_search_sgd_results[\"mean_test_score\"], grid_search_sgd_results[\"params\"])\n",
    "]\n",
    "grid_search_sgd_results_df = pd.DataFrame(results_grid_sgd)\n",
    "grid_search_sgd_results_df_sorted = grid_search_sgd_results_df.sort_values(by='Score', ascending=False)\n",
    "grid_search_sgd_results_df_sorted.to_csv('output/grid_svm_sgd_scaled_sorted.csv', index=False)\n",
    "grid_search_sgd_results_df_sorted"
   ]
  },
  {
   "cell_type": "markdown",
   "metadata": {},
   "source": [
    "### Random Forest"
   ]
  },
  {
   "cell_type": "code",
   "execution_count": 14,
   "metadata": {},
   "outputs": [
    {
     "name": "stdout",
     "output_type": "stream",
     "text": [
      "Fitting 3 folds for each of 12 candidates, totalling 36 fits\n",
      "[CV 1/3] END min_samples_leaf=10, min_samples_split=50, n_estimators=300;, score=0.926 total time=  15.6s\n",
      "[CV 2/3] END min_samples_leaf=10, min_samples_split=50, n_estimators=300;, score=0.923 total time=  16.2s\n",
      "[CV 3/3] END min_samples_leaf=10, min_samples_split=50, n_estimators=300;, score=0.913 total time=  16.6s\n",
      "[CV 1/3] END min_samples_leaf=10, min_samples_split=50, n_estimators=1000;, score=0.927 total time=  58.0s\n",
      "[CV 2/3] END min_samples_leaf=10, min_samples_split=50, n_estimators=1000;, score=0.922 total time=  56.2s\n",
      "[CV 3/3] END min_samples_leaf=10, min_samples_split=50, n_estimators=1000;, score=0.913 total time= 1.0min\n",
      "[CV 1/3] END min_samples_leaf=10, min_samples_split=75, n_estimators=300;, score=0.921 total time=  19.0s\n",
      "[CV 2/3] END min_samples_leaf=10, min_samples_split=75, n_estimators=300;, score=0.920 total time=  19.4s\n",
      "[CV 3/3] END min_samples_leaf=10, min_samples_split=75, n_estimators=300;, score=0.908 total time=  17.0s\n",
      "[CV 1/3] END min_samples_leaf=10, min_samples_split=75, n_estimators=1000;, score=0.920 total time=  52.0s\n",
      "[CV 2/3] END min_samples_leaf=10, min_samples_split=75, n_estimators=1000;, score=0.917 total time=  47.1s\n",
      "[CV 3/3] END min_samples_leaf=10, min_samples_split=75, n_estimators=1000;, score=0.908 total time=  53.3s\n",
      "[CV 1/3] END min_samples_leaf=15, min_samples_split=50, n_estimators=300;, score=0.924 total time=  15.7s\n",
      "[CV 2/3] END min_samples_leaf=15, min_samples_split=50, n_estimators=300;, score=0.921 total time=  16.4s\n",
      "[CV 3/3] END min_samples_leaf=15, min_samples_split=50, n_estimators=300;, score=0.910 total time=  16.0s\n",
      "[CV 1/3] END min_samples_leaf=15, min_samples_split=50, n_estimators=1000;, score=0.923 total time=  50.0s\n",
      "[CV 2/3] END min_samples_leaf=15, min_samples_split=50, n_estimators=1000;, score=0.922 total time=  50.9s\n",
      "[CV 3/3] END min_samples_leaf=15, min_samples_split=50, n_estimators=1000;, score=0.909 total time= 1.0min\n",
      "[CV 1/3] END min_samples_leaf=15, min_samples_split=75, n_estimators=300;, score=0.917 total time=  18.1s\n",
      "[CV 2/3] END min_samples_leaf=15, min_samples_split=75, n_estimators=300;, score=0.915 total time=  16.2s\n",
      "[CV 3/3] END min_samples_leaf=15, min_samples_split=75, n_estimators=300;, score=0.905 total time=  13.7s\n",
      "[CV 1/3] END min_samples_leaf=15, min_samples_split=75, n_estimators=1000;, score=0.918 total time=  55.3s\n",
      "[CV 2/3] END min_samples_leaf=15, min_samples_split=75, n_estimators=1000;, score=0.914 total time=  53.8s\n",
      "[CV 3/3] END min_samples_leaf=15, min_samples_split=75, n_estimators=1000;, score=0.905 total time=  50.2s\n",
      "[CV 1/3] END min_samples_leaf=20, min_samples_split=50, n_estimators=300;, score=0.921 total time=  14.6s\n",
      "[CV 2/3] END min_samples_leaf=20, min_samples_split=50, n_estimators=300;, score=0.919 total time=  14.2s\n",
      "[CV 3/3] END min_samples_leaf=20, min_samples_split=50, n_estimators=300;, score=0.909 total time=  14.9s\n",
      "[CV 1/3] END min_samples_leaf=20, min_samples_split=50, n_estimators=1000;, score=0.921 total time=  48.1s\n",
      "[CV 2/3] END min_samples_leaf=20, min_samples_split=50, n_estimators=1000;, score=0.917 total time=  48.2s\n",
      "[CV 3/3] END min_samples_leaf=20, min_samples_split=50, n_estimators=1000;, score=0.909 total time=  47.8s\n",
      "[CV 1/3] END min_samples_leaf=20, min_samples_split=75, n_estimators=300;, score=0.915 total time=  13.7s\n",
      "[CV 2/3] END min_samples_leaf=20, min_samples_split=75, n_estimators=300;, score=0.913 total time=36.8min\n",
      "[CV 3/3] END min_samples_leaf=20, min_samples_split=75, n_estimators=300;, score=0.901 total time=  17.8s\n",
      "[CV 1/3] END min_samples_leaf=20, min_samples_split=75, n_estimators=1000;, score=0.917 total time=  44.1s\n",
      "[CV 2/3] END min_samples_leaf=20, min_samples_split=75, n_estimators=1000;, score=0.914 total time=  43.0s\n",
      "[CV 3/3] END min_samples_leaf=20, min_samples_split=75, n_estimators=1000;, score=0.901 total time=  43.7s\n"
     ]
    },
    {
     "data": {
      "text/html": [
       "<style>#sk-container-id-3 {color: black;}#sk-container-id-3 pre{padding: 0;}#sk-container-id-3 div.sk-toggleable {background-color: white;}#sk-container-id-3 label.sk-toggleable__label {cursor: pointer;display: block;width: 100%;margin-bottom: 0;padding: 0.3em;box-sizing: border-box;text-align: center;}#sk-container-id-3 label.sk-toggleable__label-arrow:before {content: \"▸\";float: left;margin-right: 0.25em;color: #696969;}#sk-container-id-3 label.sk-toggleable__label-arrow:hover:before {color: black;}#sk-container-id-3 div.sk-estimator:hover label.sk-toggleable__label-arrow:before {color: black;}#sk-container-id-3 div.sk-toggleable__content {max-height: 0;max-width: 0;overflow: hidden;text-align: left;background-color: #f0f8ff;}#sk-container-id-3 div.sk-toggleable__content pre {margin: 0.2em;color: black;border-radius: 0.25em;background-color: #f0f8ff;}#sk-container-id-3 input.sk-toggleable__control:checked~div.sk-toggleable__content {max-height: 200px;max-width: 100%;overflow: auto;}#sk-container-id-3 input.sk-toggleable__control:checked~label.sk-toggleable__label-arrow:before {content: \"▾\";}#sk-container-id-3 div.sk-estimator input.sk-toggleable__control:checked~label.sk-toggleable__label {background-color: #d4ebff;}#sk-container-id-3 div.sk-label input.sk-toggleable__control:checked~label.sk-toggleable__label {background-color: #d4ebff;}#sk-container-id-3 input.sk-hidden--visually {border: 0;clip: rect(1px 1px 1px 1px);clip: rect(1px, 1px, 1px, 1px);height: 1px;margin: -1px;overflow: hidden;padding: 0;position: absolute;width: 1px;}#sk-container-id-3 div.sk-estimator {font-family: monospace;background-color: #f0f8ff;border: 1px dotted black;border-radius: 0.25em;box-sizing: border-box;margin-bottom: 0.5em;}#sk-container-id-3 div.sk-estimator:hover {background-color: #d4ebff;}#sk-container-id-3 div.sk-parallel-item::after {content: \"\";width: 100%;border-bottom: 1px solid gray;flex-grow: 1;}#sk-container-id-3 div.sk-label:hover label.sk-toggleable__label {background-color: #d4ebff;}#sk-container-id-3 div.sk-serial::before {content: \"\";position: absolute;border-left: 1px solid gray;box-sizing: border-box;top: 0;bottom: 0;left: 50%;z-index: 0;}#sk-container-id-3 div.sk-serial {display: flex;flex-direction: column;align-items: center;background-color: white;padding-right: 0.2em;padding-left: 0.2em;position: relative;}#sk-container-id-3 div.sk-item {position: relative;z-index: 1;}#sk-container-id-3 div.sk-parallel {display: flex;align-items: stretch;justify-content: center;background-color: white;position: relative;}#sk-container-id-3 div.sk-item::before, #sk-container-id-3 div.sk-parallel-item::before {content: \"\";position: absolute;border-left: 1px solid gray;box-sizing: border-box;top: 0;bottom: 0;left: 50%;z-index: -1;}#sk-container-id-3 div.sk-parallel-item {display: flex;flex-direction: column;z-index: 1;position: relative;background-color: white;}#sk-container-id-3 div.sk-parallel-item:first-child::after {align-self: flex-end;width: 50%;}#sk-container-id-3 div.sk-parallel-item:last-child::after {align-self: flex-start;width: 50%;}#sk-container-id-3 div.sk-parallel-item:only-child::after {width: 0;}#sk-container-id-3 div.sk-dashed-wrapped {border: 1px dashed gray;margin: 0 0.4em 0.5em 0.4em;box-sizing: border-box;padding-bottom: 0.4em;background-color: white;}#sk-container-id-3 div.sk-label label {font-family: monospace;font-weight: bold;display: inline-block;line-height: 1.2em;}#sk-container-id-3 div.sk-label-container {text-align: center;}#sk-container-id-3 div.sk-container {/* jupyter's `normalize.less` sets `[hidden] { display: none; }` but bootstrap.min.css set `[hidden] { display: none !important; }` so we also need the `!important` here to be able to override the default hidden behavior on the sphinx rendered scikit-learn.org. See: https://github.com/scikit-learn/scikit-learn/issues/21755 */display: inline-block !important;position: relative;}#sk-container-id-3 div.sk-text-repr-fallback {display: none;}</style><div id=\"sk-container-id-3\" class=\"sk-top-container\"><div class=\"sk-text-repr-fallback\"><pre>GridSearchCV(cv=3, estimator=RandomForestClassifier(),\n",
       "             param_grid={&#x27;min_samples_leaf&#x27;: [10, 15, 20],\n",
       "                         &#x27;min_samples_split&#x27;: [50, 75],\n",
       "                         &#x27;n_estimators&#x27;: [300, 1000]},\n",
       "             verbose=3)</pre><b>In a Jupyter environment, please rerun this cell to show the HTML representation or trust the notebook. <br />On GitHub, the HTML representation is unable to render, please try loading this page with nbviewer.org.</b></div><div class=\"sk-container\" hidden><div class=\"sk-item sk-dashed-wrapped\"><div class=\"sk-label-container\"><div class=\"sk-label sk-toggleable\"><input class=\"sk-toggleable__control sk-hidden--visually\" id=\"sk-estimator-id-7\" type=\"checkbox\" ><label for=\"sk-estimator-id-7\" class=\"sk-toggleable__label sk-toggleable__label-arrow\">GridSearchCV</label><div class=\"sk-toggleable__content\"><pre>GridSearchCV(cv=3, estimator=RandomForestClassifier(),\n",
       "             param_grid={&#x27;min_samples_leaf&#x27;: [10, 15, 20],\n",
       "                         &#x27;min_samples_split&#x27;: [50, 75],\n",
       "                         &#x27;n_estimators&#x27;: [300, 1000]},\n",
       "             verbose=3)</pre></div></div></div><div class=\"sk-parallel\"><div class=\"sk-parallel-item\"><div class=\"sk-item\"><div class=\"sk-label-container\"><div class=\"sk-label sk-toggleable\"><input class=\"sk-toggleable__control sk-hidden--visually\" id=\"sk-estimator-id-8\" type=\"checkbox\" ><label for=\"sk-estimator-id-8\" class=\"sk-toggleable__label sk-toggleable__label-arrow\">estimator: RandomForestClassifier</label><div class=\"sk-toggleable__content\"><pre>RandomForestClassifier()</pre></div></div></div><div class=\"sk-serial\"><div class=\"sk-item\"><div class=\"sk-estimator sk-toggleable\"><input class=\"sk-toggleable__control sk-hidden--visually\" id=\"sk-estimator-id-9\" type=\"checkbox\" ><label for=\"sk-estimator-id-9\" class=\"sk-toggleable__label sk-toggleable__label-arrow\">RandomForestClassifier</label><div class=\"sk-toggleable__content\"><pre>RandomForestClassifier()</pre></div></div></div></div></div></div></div></div></div></div>"
      ],
      "text/plain": [
       "GridSearchCV(cv=3, estimator=RandomForestClassifier(),\n",
       "             param_grid={'min_samples_leaf': [10, 15, 20],\n",
       "                         'min_samples_split': [50, 75],\n",
       "                         'n_estimators': [300, 1000]},\n",
       "             verbose=3)"
      ]
     },
     "execution_count": 14,
     "metadata": {},
     "output_type": "execute_result"
    }
   ],
   "source": [
    "from sklearn.ensemble import RandomForestClassifier\n",
    "param_grid_forest_classifier =  {\n",
    "    'n_estimators': [300, 1000],\n",
    "    'min_samples_leaf': [10, 15, 20],\n",
    "    'min_samples_split': [50, 75]\n",
    "    }\n",
    "\n",
    "forest_classifier_grid = RandomForestClassifier()\n",
    "grid_search_forest = GridSearchCV(forest_classifier_grid, param_grid_forest_classifier, cv=3, verbose=3)\n",
    "grid_search_forest.fit(X_opt_scaled, y_opt)"
   ]
  },
  {
   "cell_type": "code",
   "execution_count": 15,
   "metadata": {},
   "outputs": [
    {
     "data": {
      "text/html": [
       "<div>\n",
       "<style scoped>\n",
       "    .dataframe tbody tr th:only-of-type {\n",
       "        vertical-align: middle;\n",
       "    }\n",
       "\n",
       "    .dataframe tbody tr th {\n",
       "        vertical-align: top;\n",
       "    }\n",
       "\n",
       "    .dataframe thead th {\n",
       "        text-align: right;\n",
       "    }\n",
       "</style>\n",
       "<table border=\"1\" class=\"dataframe\">\n",
       "  <thead>\n",
       "    <tr style=\"text-align: right;\">\n",
       "      <th></th>\n",
       "      <th>Score</th>\n",
       "      <th>min_samples_leaf</th>\n",
       "      <th>min_samples_split</th>\n",
       "      <th>n_estimators</th>\n",
       "    </tr>\n",
       "  </thead>\n",
       "  <tbody>\n",
       "    <tr>\n",
       "      <th>1</th>\n",
       "      <td>0.921000</td>\n",
       "      <td>10</td>\n",
       "      <td>50</td>\n",
       "      <td>1000</td>\n",
       "    </tr>\n",
       "    <tr>\n",
       "      <th>0</th>\n",
       "      <td>0.920467</td>\n",
       "      <td>10</td>\n",
       "      <td>50</td>\n",
       "      <td>300</td>\n",
       "    </tr>\n",
       "    <tr>\n",
       "      <th>4</th>\n",
       "      <td>0.918333</td>\n",
       "      <td>15</td>\n",
       "      <td>50</td>\n",
       "      <td>300</td>\n",
       "    </tr>\n",
       "    <tr>\n",
       "      <th>5</th>\n",
       "      <td>0.917933</td>\n",
       "      <td>15</td>\n",
       "      <td>50</td>\n",
       "      <td>1000</td>\n",
       "    </tr>\n",
       "    <tr>\n",
       "      <th>2</th>\n",
       "      <td>0.916400</td>\n",
       "      <td>10</td>\n",
       "      <td>75</td>\n",
       "      <td>300</td>\n",
       "    </tr>\n",
       "    <tr>\n",
       "      <th>8</th>\n",
       "      <td>0.916000</td>\n",
       "      <td>20</td>\n",
       "      <td>50</td>\n",
       "      <td>300</td>\n",
       "    </tr>\n",
       "    <tr>\n",
       "      <th>9</th>\n",
       "      <td>0.915533</td>\n",
       "      <td>20</td>\n",
       "      <td>50</td>\n",
       "      <td>1000</td>\n",
       "    </tr>\n",
       "    <tr>\n",
       "      <th>3</th>\n",
       "      <td>0.915000</td>\n",
       "      <td>10</td>\n",
       "      <td>75</td>\n",
       "      <td>1000</td>\n",
       "    </tr>\n",
       "    <tr>\n",
       "      <th>7</th>\n",
       "      <td>0.912400</td>\n",
       "      <td>15</td>\n",
       "      <td>75</td>\n",
       "      <td>1000</td>\n",
       "    </tr>\n",
       "    <tr>\n",
       "      <th>6</th>\n",
       "      <td>0.912267</td>\n",
       "      <td>15</td>\n",
       "      <td>75</td>\n",
       "      <td>300</td>\n",
       "    </tr>\n",
       "    <tr>\n",
       "      <th>11</th>\n",
       "      <td>0.910600</td>\n",
       "      <td>20</td>\n",
       "      <td>75</td>\n",
       "      <td>1000</td>\n",
       "    </tr>\n",
       "    <tr>\n",
       "      <th>10</th>\n",
       "      <td>0.909733</td>\n",
       "      <td>20</td>\n",
       "      <td>75</td>\n",
       "      <td>300</td>\n",
       "    </tr>\n",
       "  </tbody>\n",
       "</table>\n",
       "</div>"
      ],
      "text/plain": [
       "       Score  min_samples_leaf  min_samples_split  n_estimators\n",
       "1   0.921000                10                 50          1000\n",
       "0   0.920467                10                 50           300\n",
       "4   0.918333                15                 50           300\n",
       "5   0.917933                15                 50          1000\n",
       "2   0.916400                10                 75           300\n",
       "8   0.916000                20                 50           300\n",
       "9   0.915533                20                 50          1000\n",
       "3   0.915000                10                 75          1000\n",
       "7   0.912400                15                 75          1000\n",
       "6   0.912267                15                 75           300\n",
       "11  0.910600                20                 75          1000\n",
       "10  0.909733                20                 75           300"
      ]
     },
     "execution_count": 15,
     "metadata": {},
     "output_type": "execute_result"
    }
   ],
   "source": [
    "grid_search_forest_results = grid_search_forest.cv_results_\n",
    "results_grid_forest = [\n",
    "    {'Score': mean_score, **params} \n",
    "    for mean_score, params in zip(grid_search_forest_results[\"mean_test_score\"], grid_search_forest_results[\"params\"])\n",
    "]\n",
    "grid_search_forest_results_df = pd.DataFrame(results_grid_forest)\n",
    "grid_search_forest_results_df_sorted = grid_search_forest_results_df.sort_values(by='Score', ascending=False)\n",
    "grid_search_forest_results_df_sorted.to_csv('output/grid_svm_forest_scaled_sorted.csv', index=False)\n",
    "grid_search_forest_results_df_sorted"
   ]
  },
  {
   "cell_type": "markdown",
   "metadata": {},
   "source": [
    "## Train all Models with the best Hyperparameters found "
   ]
  },
  {
   "cell_type": "markdown",
   "metadata": {},
   "source": [
    "### SVC"
   ]
  },
  {
   "cell_type": "code",
   "execution_count": 17,
   "metadata": {},
   "outputs": [],
   "source": [
    "import time\n",
    "from sklearn.svm import SVC\n",
    "best_svc_classifier = SVC(C=10, coef0=0.25, degree=3, kernel='poly')\n",
    "\n",
    "start_time_svc = time.time()\n",
    "best_svc_classifier.fit(X_train_scaled, y_train)\n",
    "end_time_svc = time.time()\n",
    "computational_time_svc = end_time_svc - start_time_svc"
   ]
  },
  {
   "cell_type": "markdown",
   "metadata": {},
   "source": [
    "### KNN"
   ]
  },
  {
   "cell_type": "code",
   "execution_count": 18,
   "metadata": {},
   "outputs": [],
   "source": [
    "from sklearn.neighbors import KNeighborsClassifier\n",
    "best_knn_classifier = KNeighborsClassifier(weights='distance', n_neighbors=4)\n",
    "\n",
    "start_time_knn = time.time()\n",
    "best_knn_classifier.fit(X_train_scaled, y_train)\n",
    "end_time_knn = time.time()\n",
    "computational_time_knn = end_time_knn - start_time_knn"
   ]
  },
  {
   "cell_type": "markdown",
   "metadata": {},
   "source": [
    "### SGD"
   ]
  },
  {
   "cell_type": "code",
   "execution_count": 19,
   "metadata": {},
   "outputs": [],
   "source": [
    "from sklearn.linear_model import SGDClassifier\n",
    "\n",
    "best_sgd_classifier = SGDClassifier(alpha= 0.0001, loss= 'hinge', max_iter =  2000, penalty = 'elasticnet', random_state=42)\n",
    "\n",
    "start_time_sgd = time.time()\n",
    "best_sgd_classifier.fit(X_train_scaled, y_train)\n",
    "end_time_sgd = time.time()\n",
    "computational_time_sgd = end_time_sgd - start_time_sgd"
   ]
  },
  {
   "cell_type": "markdown",
   "metadata": {},
   "source": [
    "### Random Forest"
   ]
  },
  {
   "cell_type": "code",
   "execution_count": 20,
   "metadata": {},
   "outputs": [],
   "source": [
    "from sklearn.ensemble import RandomForestClassifier\n",
    "best_forest_classifier = RandomForestClassifier(min_samples_leaf = 10, min_samples_split = 50, n_estimators = 1000, random_state=42)\n",
    "\n",
    "start_time_forest = time.time()\n",
    "best_forest_classifier.fit(X_train_scaled, y_train)\n",
    "end_time_forest = time.time()\n",
    "computational_time_forest = end_time_forest - start_time_forest"
   ]
  },
  {
   "cell_type": "markdown",
   "metadata": {},
   "source": [
    "## Evaluate all Models on the Test Set + Metrics"
   ]
  },
  {
   "cell_type": "code",
   "execution_count": 21,
   "metadata": {},
   "outputs": [],
   "source": [
    "from sklearn.metrics import accuracy_score, precision_score, recall_score, f1_score"
   ]
  },
  {
   "cell_type": "markdown",
   "metadata": {},
   "source": [
    "### SVC"
   ]
  },
  {
   "cell_type": "code",
   "execution_count": 22,
   "metadata": {},
   "outputs": [],
   "source": [
    "y_svc_pred = best_svc_classifier.predict(X_test_scaled)\n",
    "\n",
    "svc_accuracy = accuracy_score(y_test, y_svc_pred)\n",
    "svc_precision = precision_score(y_test, y_svc_pred, average='weighted')\n",
    "svc_recall = recall_score(y_test, y_svc_pred, average='weighted')\n",
    "svc_f1 = f1_score(y_test, y_svc_pred, average='weighted')"
   ]
  },
  {
   "cell_type": "code",
   "execution_count": 23,
   "metadata": {},
   "outputs": [
    {
     "data": {
      "text/plain": [
       "0.9802142857142857"
      ]
     },
     "execution_count": 23,
     "metadata": {},
     "output_type": "execute_result"
    }
   ],
   "source": [
    "svc_accuracy"
   ]
  },
  {
   "cell_type": "markdown",
   "metadata": {},
   "source": [
    "### KNN"
   ]
  },
  {
   "cell_type": "code",
   "execution_count": 24,
   "metadata": {},
   "outputs": [],
   "source": [
    "y_knn_pred = best_knn_classifier.predict(X_test_scaled)\n",
    "\n",
    "knn_accuracy = accuracy_score(y_test, y_knn_pred)\n",
    "knn_precision = precision_score(y_test, y_knn_pred, average='weighted')\n",
    "knn_recall = recall_score(y_test, y_knn_pred, average='weighted')\n",
    "knn_f1 = f1_score(y_test, y_knn_pred, average='weighted')"
   ]
  },
  {
   "cell_type": "code",
   "execution_count": 25,
   "metadata": {},
   "outputs": [
    {
     "data": {
      "text/plain": [
       "0.9500714285714286"
      ]
     },
     "execution_count": 25,
     "metadata": {},
     "output_type": "execute_result"
    }
   ],
   "source": [
    "knn_accuracy"
   ]
  },
  {
   "cell_type": "markdown",
   "metadata": {},
   "source": [
    "### SGD"
   ]
  },
  {
   "cell_type": "code",
   "execution_count": 26,
   "metadata": {},
   "outputs": [],
   "source": [
    "y_sgd_pred = best_sgd_classifier.predict(X_test_scaled)\n",
    "\n",
    "sgd_accuracy = accuracy_score(y_test, y_sgd_pred)\n",
    "sgd_precision = precision_score(y_test, y_sgd_pred, average='weighted')\n",
    "sgd_recall = recall_score(y_test, y_sgd_pred, average='weighted')\n",
    "sgd_f1 = f1_score(y_test, y_sgd_pred, average='weighted')"
   ]
  },
  {
   "cell_type": "code",
   "execution_count": 27,
   "metadata": {},
   "outputs": [
    {
     "data": {
      "text/plain": [
       "0.9052142857142857"
      ]
     },
     "execution_count": 27,
     "metadata": {},
     "output_type": "execute_result"
    }
   ],
   "source": [
    "sgd_accuracy"
   ]
  },
  {
   "cell_type": "markdown",
   "metadata": {},
   "source": [
    "### Random Forest"
   ]
  },
  {
   "cell_type": "code",
   "execution_count": 28,
   "metadata": {},
   "outputs": [],
   "source": [
    "y_forest_pred = best_forest_classifier.predict(X_test_scaled)\n",
    "\n",
    "forest_accuracy = accuracy_score(y_test, y_forest_pred)\n",
    "forest_precision = precision_score(y_test, y_forest_pred, average='weighted')\n",
    "forest_recall = recall_score(y_test, y_forest_pred, average='weighted')\n",
    "forest_f1 = f1_score(y_test, y_forest_pred, average='weighted')"
   ]
  },
  {
   "cell_type": "code",
   "execution_count": 29,
   "metadata": {},
   "outputs": [
    {
     "data": {
      "text/plain": [
       "0.8375"
      ]
     },
     "execution_count": 29,
     "metadata": {},
     "output_type": "execute_result"
    }
   ],
   "source": [
    "forest_accuracy"
   ]
  },
  {
   "cell_type": "markdown",
   "metadata": {},
   "source": [
    "## Compare the Model Performances"
   ]
  },
  {
   "cell_type": "code",
   "execution_count": 30,
   "metadata": {},
   "outputs": [],
   "source": [
    "import matplotlib.pyplot as plt"
   ]
  },
  {
   "cell_type": "markdown",
   "metadata": {},
   "source": [
    "### Accuracy"
   ]
  },
  {
   "cell_type": "code",
   "execution_count": 39,
   "metadata": {},
   "outputs": [
    {
     "data": {
      "image/png": "[encoded data removed]",
      "text/plain": [
       "<Figure size 800x500 with 1 Axes>"
      ]
     },
     "metadata": {},
     "output_type": "display_data"
    }
   ],
   "source": [
    "models = ['SVC', 'KNN', 'SGD', 'Random Forest']\n",
    "accuracies = [svc_accuracy, knn_accuracy, sgd_accuracy, forest_accuracy] \n",
    "\n",
    "\n",
    "plt.figure(figsize=(8, 5))\n",
    "plt.bar(models, accuracies)\n",
    "plt.xlabel('Models')\n",
    "plt.ylabel('Accuracy')\n",
    "plt.title('Compare the Accuracy of the Models')\n",
    "\n",
    "\n",
    "for i, v in enumerate(accuracies):\n",
    "    plt.text(i, v + 0.01, f\"{v:.3f}\", ha='center')\n",
    "\n",
    "plt.show()"
   ]
  },
  {
   "cell_type": "markdown",
   "metadata": {},
   "source": [
    "### Precision"
   ]
  },
  {
   "cell_type": "code",
   "execution_count": 32,
   "metadata": {},
   "outputs": [
    {
     "data": {
      "image/png": "[encoded data removed]",
      "text/plain": [
       "<Figure size 800x500 with 1 Axes>"
      ]
     },
     "metadata": {},
     "output_type": "display_data"
    }
   ],
   "source": [
    "models = ['SVC', 'KNN', 'SGD', 'Random Forest']\n",
    "precisions = [svc_precision, knn_precision, sgd_precision, forest_precision] \n",
    "\n",
    "\n",
    "plt.figure(figsize=(8, 5))\n",
    "plt.bar(models, precisions)\n",
    "plt.xlabel('Models')\n",
    "plt.ylabel('Precision')\n",
    "plt.title('Compare the Precision of the Models')\n",
    "\n",
    "\n",
    "for i, v in enumerate(precisions):\n",
    "    plt.text(i, v + 0.01, f\"{v:.2f}\", ha='center')\n",
    "\n",
    "plt.show()"
   ]
  },
  {
   "cell_type": "markdown",
   "metadata": {},
   "source": [
    "### Recall"
   ]
  },
  {
   "cell_type": "code",
   "execution_count": 33,
   "metadata": {},
   "outputs": [
    {
     "data": {
      "image/png": "[encoded data removed]",
      "text/plain": [
       "<Figure size 800x500 with 1 Axes>"
      ]
     },
     "metadata": {},
     "output_type": "display_data"
    }
   ],
   "source": [
    "models = ['SVC', 'KNN', 'SGD', 'Random Forest']\n",
    "recalls = [svc_recall, knn_recall, sgd_recall, forest_recall] \n",
    "\n",
    "\n",
    "plt.figure(figsize=(8, 5))\n",
    "plt.bar(models, recalls)\n",
    "plt.xlabel('Models')\n",
    "plt.ylabel('Recall')\n",
    "plt.title('Compare the Recall of the Models')\n",
    "\n",
    "\n",
    "for i, v in enumerate(recalls):\n",
    "    plt.text(i, v + 0.01, f\"{v:.2f}\", ha='center')\n",
    "\n",
    "plt.show()"
   ]
  },
  {
   "cell_type": "markdown",
   "metadata": {},
   "source": [
    "### F-1 Score"
   ]
  },
  {
   "cell_type": "code",
   "execution_count": 34,
   "metadata": {},
   "outputs": [
    {
     "data": {
      "image/png": "[encoded data removed]",
      "text/plain": [
       "<Figure size 800x500 with 1 Axes>"
      ]
     },
     "metadata": {},
     "output_type": "display_data"
    }
   ],
   "source": [
    "models = ['SVC', 'KNN', 'SGD', 'Random Forest']\n",
    "f_1 = [svc_f1, knn_f1, sgd_f1, forest_f1] \n",
    "\n",
    "\n",
    "plt.figure(figsize=(8, 5))\n",
    "plt.bar(models, f_1)\n",
    "plt.xlabel('Models')\n",
    "plt.ylabel('F-1 Score')\n",
    "plt.title('Compare the F-1 Scores of the Models')\n",
    "\n",
    "\n",
    "for i, v in enumerate(f_1):\n",
    "    plt.text(i, v + 0.01, f\"{v:.2f}\", ha='center')\n",
    "\n",
    "plt.show()"
   ]
  },
  {
   "cell_type": "markdown",
   "metadata": {},
   "source": [
    "### Compuatational Time"
   ]
  },
  {
   "cell_type": "code",
   "execution_count": 41,
   "metadata": {},
   "outputs": [
    {
     "data": {
      "image/png": "[encoded data removed]",
      "text/plain": [
       "<Figure size 800x500 with 1 Axes>"
      ]
     },
     "metadata": {},
     "output_type": "display_data"
    }
   ],
   "source": [
    "models = ['SVC', 'KNN', 'SGD', 'Random Forest']\n",
    "computational_times = [computational_time_svc, computational_time_knn, computational_time_sgd, computational_time_forest] \n",
    "\n",
    "\n",
    "plt.figure(figsize=(8, 5))\n",
    "plt.bar(models, computational_times)\n",
    "plt.xlabel('Models')\n",
    "plt.ylabel('Computational Time in seconds')\n",
    "plt.title('Compare the Computational Time of the Models')\n",
    "\n",
    "\n",
    "for i, v in enumerate(computational_times):\n",
    "    plt.text(i, v + 4, f\"{v:.1f}\", ha='center')\n",
    "\n",
    "plt.show()"
   ]
  },
  {
   "cell_type": "markdown",
   "metadata": {},
   "source": [
    "### Precision, Recall and F-Score in one chart"
   ]
  },
  {
   "cell_type": "code",
   "execution_count": 43,
   "metadata": {},
   "outputs": [
    {
     "data": {
      "image/png": "[encoded data removed]",
      "text/plain": [
       "<Figure size 1000x600 with 1 Axes>"
      ]
     },
     "metadata": {},
     "output_type": "display_data"
    }
   ],
   "source": [
    "x = np.arange(len(models))\n",
    "width = 0.2\n",
    "spacing = 0.05\n",
    "\n",
    "plt.figure(figsize=(10, 6))\n",
    "plt.bar(x - width - spacing, precisions, width, label='Precision')\n",
    "plt.bar(x, recalls, width, label='Recall', color='salmon')\n",
    "plt.bar(x + width + spacing, f_1, width, label='F1-Score', color='lightgreen')\n",
    "\n",
    "plt.xlabel('Models')\n",
    "plt.ylabel('Scores')\n",
    "plt.title('Compare Precision, Recall und F1-Score of the Models')\n",
    "plt.xticks(x, models)\n",
    "\n",
    "plt.legend(loc='center left', bbox_to_anchor=(1, 0.5))\n",
    "for i in range(len(models)):\n",
    "    plt.text(x[i] - width- spacing, precisions[i] + 0.01, f\"{precisions[i]:.3f}\", ha='center')\n",
    "    plt.text(x[i], recalls[i] + 0.01, f\"{recalls[i]:.3f}\", ha='center')\n",
    "    plt.text(x[i] + width + spacing, f_1[i] + 0.01, f\"{f_1[i]:.3f}\", ha='center')\n",
    "\n",
    "plt.show()"
   ]
  },
  {
   "cell_type": "code",
   "execution_count": null,
   "metadata": {},
   "outputs": [],
   "source": []
  }
 ],
 "metadata": {
  "kernelspec": {
   "display_name": "Python 3",
   "language": "python",
   "name": "python3"
  },
  "language_info": {
   "codemirror_mode": {
    "name": "ipython",
    "version": 3
   },
   "file_extension": ".py",
   "mimetype": "text/x-python",
   "name": "python",
   "nbconvert_exporter": "python",
   "pygments_lexer": "ipython3",
   "version": "3.10.11"
  }
 },
 "nbformat": 4,
 "nbformat_minor": 2
}

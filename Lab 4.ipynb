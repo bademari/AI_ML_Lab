{
 "cells": [
  {
   "cell_type": "markdown",
   "metadata": {},
   "source": [
    "# Train K-Nearest Neighbor (KNN) Classifier"
   ]
  },
  {
   "cell_type": "markdown",
   "metadata": {},
   "source": [
    "## Fetch MNIST Dataset "
   ]
  },
  {
   "cell_type": "code",
   "execution_count": 1,
   "metadata": {},
   "outputs": [],
   "source": [
    "import sklearn\n",
    "from sklearn.datasets import fetch_openml\n",
    "import numpy as np"
   ]
  },
  {
   "cell_type": "code",
   "execution_count": 2,
   "metadata": {},
   "outputs": [
    {
     "name": "stderr",
     "output_type": "stream",
     "text": [
      "C:\\Users\\bademari\\AppData\\Local\\Packages\\PythonSoftwareFoundation.Python.3.10_qbz5n2kfra8p0\\LocalCache\\local-packages\\Python310\\site-packages\\sklearn\\datasets\\_openml.py:1022: FutureWarning: The default value of `parser` will change from `'liac-arff'` to `'auto'` in 1.4. You can set `parser='auto'` to silence this warning. Therefore, an `ImportError` will be raised from 1.4 if the dataset is dense and pandas is not installed. Note that the pandas parser may return different data types. See the Notes Section in fetch_openml's API doc for details.\n",
      "  warn(\n"
     ]
    }
   ],
   "source": [
    "mnist = fetch_openml('mnist_784', version=1, as_frame=False)"
   ]
  },
  {
   "cell_type": "markdown",
   "metadata": {},
   "source": [
    "## Split Data in Train and Test"
   ]
  },
  {
   "cell_type": "code",
   "execution_count": 3,
   "metadata": {},
   "outputs": [
    {
     "data": {
      "text/plain": [
       "dict_keys(['data', 'target', 'frame', 'categories', 'feature_names', 'target_names', 'DESCR', 'details', 'url'])"
      ]
     },
     "execution_count": 3,
     "metadata": {},
     "output_type": "execute_result"
    }
   ],
   "source": [
    "mnist.keys()"
   ]
  },
  {
   "cell_type": "code",
   "execution_count": 4,
   "metadata": {},
   "outputs": [
    {
     "data": {
      "text/plain": [
       "(70000,)"
      ]
     },
     "execution_count": 4,
     "metadata": {},
     "output_type": "execute_result"
    }
   ],
   "source": [
    "#X= data, y= target\n",
    "X, y = mnist[\"data\"], mnist[\"target\"]\n",
    "y = y.astype(np.uint8)\n",
    "y.shape"
   ]
  },
  {
   "cell_type": "code",
   "execution_count": 5,
   "metadata": {},
   "outputs": [],
   "source": [
    "#training set = 60000, test set = 10000 (total 70000)\n",
    "X_train, X_test, y_train, y_test = X[:60000], X[60000:], y[:60000], y[60000:]"
   ]
  },
  {
   "cell_type": "markdown",
   "metadata": {},
   "source": [
    "## Train KNN"
   ]
  },
  {
   "cell_type": "code",
   "execution_count": 6,
   "metadata": {},
   "outputs": [
    {
     "data": {
      "text/html": [
       "<style>#sk-container-id-1 {color: black;}#sk-container-id-1 pre{padding: 0;}#sk-container-id-1 div.sk-toggleable {background-color: white;}#sk-container-id-1 label.sk-toggleable__label {cursor: pointer;display: block;width: 100%;margin-bottom: 0;padding: 0.3em;box-sizing: border-box;text-align: center;}#sk-container-id-1 label.sk-toggleable__label-arrow:before {content: \"▸\";float: left;margin-right: 0.25em;color: #696969;}#sk-container-id-1 label.sk-toggleable__label-arrow:hover:before {color: black;}#sk-container-id-1 div.sk-estimator:hover label.sk-toggleable__label-arrow:before {color: black;}#sk-container-id-1 div.sk-toggleable__content {max-height: 0;max-width: 0;overflow: hidden;text-align: left;background-color: #f0f8ff;}#sk-container-id-1 div.sk-toggleable__content pre {margin: 0.2em;color: black;border-radius: 0.25em;background-color: #f0f8ff;}#sk-container-id-1 input.sk-toggleable__control:checked~div.sk-toggleable__content {max-height: 200px;max-width: 100%;overflow: auto;}#sk-container-id-1 input.sk-toggleable__control:checked~label.sk-toggleable__label-arrow:before {content: \"▾\";}#sk-container-id-1 div.sk-estimator input.sk-toggleable__control:checked~label.sk-toggleable__label {background-color: #d4ebff;}#sk-container-id-1 div.sk-label input.sk-toggleable__control:checked~label.sk-toggleable__label {background-color: #d4ebff;}#sk-container-id-1 input.sk-hidden--visually {border: 0;clip: rect(1px 1px 1px 1px);clip: rect(1px, 1px, 1px, 1px);height: 1px;margin: -1px;overflow: hidden;padding: 0;position: absolute;width: 1px;}#sk-container-id-1 div.sk-estimator {font-family: monospace;background-color: #f0f8ff;border: 1px dotted black;border-radius: 0.25em;box-sizing: border-box;margin-bottom: 0.5em;}#sk-container-id-1 div.sk-estimator:hover {background-color: #d4ebff;}#sk-container-id-1 div.sk-parallel-item::after {content: \"\";width: 100%;border-bottom: 1px solid gray;flex-grow: 1;}#sk-container-id-1 div.sk-label:hover label.sk-toggleable__label {background-color: #d4ebff;}#sk-container-id-1 div.sk-serial::before {content: \"\";position: absolute;border-left: 1px solid gray;box-sizing: border-box;top: 0;bottom: 0;left: 50%;z-index: 0;}#sk-container-id-1 div.sk-serial {display: flex;flex-direction: column;align-items: center;background-color: white;padding-right: 0.2em;padding-left: 0.2em;position: relative;}#sk-container-id-1 div.sk-item {position: relative;z-index: 1;}#sk-container-id-1 div.sk-parallel {display: flex;align-items: stretch;justify-content: center;background-color: white;position: relative;}#sk-container-id-1 div.sk-item::before, #sk-container-id-1 div.sk-parallel-item::before {content: \"\";position: absolute;border-left: 1px solid gray;box-sizing: border-box;top: 0;bottom: 0;left: 50%;z-index: -1;}#sk-container-id-1 div.sk-parallel-item {display: flex;flex-direction: column;z-index: 1;position: relative;background-color: white;}#sk-container-id-1 div.sk-parallel-item:first-child::after {align-self: flex-end;width: 50%;}#sk-container-id-1 div.sk-parallel-item:last-child::after {align-self: flex-start;width: 50%;}#sk-container-id-1 div.sk-parallel-item:only-child::after {width: 0;}#sk-container-id-1 div.sk-dashed-wrapped {border: 1px dashed gray;margin: 0 0.4em 0.5em 0.4em;box-sizing: border-box;padding-bottom: 0.4em;background-color: white;}#sk-container-id-1 div.sk-label label {font-family: monospace;font-weight: bold;display: inline-block;line-height: 1.2em;}#sk-container-id-1 div.sk-label-container {text-align: center;}#sk-container-id-1 div.sk-container {/* jupyter's `normalize.less` sets `[hidden] { display: none; }` but bootstrap.min.css set `[hidden] { display: none !important; }` so we also need the `!important` here to be able to override the default hidden behavior on the sphinx rendered scikit-learn.org. See: https://github.com/scikit-learn/scikit-learn/issues/21755 */display: inline-block !important;position: relative;}#sk-container-id-1 div.sk-text-repr-fallback {display: none;}</style><div id=\"sk-container-id-1\" class=\"sk-top-container\"><div class=\"sk-text-repr-fallback\"><pre>KNeighborsClassifier(n_neighbors=7, weights=&#x27;distance&#x27;)</pre><b>In a Jupyter environment, please rerun this cell to show the HTML representation or trust the notebook. <br />On GitHub, the HTML representation is unable to render, please try loading this page with nbviewer.org.</b></div><div class=\"sk-container\" hidden><div class=\"sk-item\"><div class=\"sk-estimator sk-toggleable\"><input class=\"sk-toggleable__control sk-hidden--visually\" id=\"sk-estimator-id-1\" type=\"checkbox\" checked><label for=\"sk-estimator-id-1\" class=\"sk-toggleable__label sk-toggleable__label-arrow\">KNeighborsClassifier</label><div class=\"sk-toggleable__content\"><pre>KNeighborsClassifier(n_neighbors=7, weights=&#x27;distance&#x27;)</pre></div></div></div></div></div>"
      ],
      "text/plain": [
       "KNeighborsClassifier(n_neighbors=7, weights='distance')"
      ]
     },
     "execution_count": 6,
     "metadata": {},
     "output_type": "execute_result"
    }
   ],
   "source": [
    "from sklearn.neighbors import KNeighborsClassifier\n",
    "knn_classifier = KNeighborsClassifier(weights='distance', n_neighbors=7)\n",
    "knn_classifier.fit(X_train, y_train)"
   ]
  },
  {
   "cell_type": "code",
   "execution_count": 7,
   "metadata": {},
   "outputs": [],
   "source": [
    "y_knn_pred = knn_classifier.predict(X_test)"
   ]
  },
  {
   "cell_type": "code",
   "execution_count": 8,
   "metadata": {},
   "outputs": [
    {
     "data": {
      "text/plain": [
       "0.97"
      ]
     },
     "execution_count": 8,
     "metadata": {},
     "output_type": "execute_result"
    }
   ],
   "source": [
    "from sklearn.metrics import accuracy_score\n",
    "accuracy_score_knn = accuracy_score(y_test, y_knn_pred)\n",
    "accuracy_score_knn"
   ]
  },
  {
   "cell_type": "markdown",
   "metadata": {},
   "source": [
    "# Fine-tune Hyperparameters with Grid Search"
   ]
  },
  {
   "cell_type": "code",
   "execution_count": 9,
   "metadata": {},
   "outputs": [],
   "source": [
    "from sklearn.model_selection import GridSearchCV\n",
    "## GridSearchCV for KNN runs long, so I commented it out\n",
    "\n",
    "# param_grid_knn_classifier = [{'weights': [\"uniform\", \"distance\"], \n",
    "#                             'n_neighbors': [3, 4, 5, 6]}]\n",
    "\n",
    "# knn_classifier_grid = KNeighborsClassifier()\n",
    "# grid_search_knn = GridSearchCV(knn_classifier_grid, param_grid_knn_classifier, cv=5, verbose=3)\n",
    "# grid_search_knn.fit(X_train, y_train)"
   ]
  },
  {
   "cell_type": "code",
   "execution_count": 10,
   "metadata": {},
   "outputs": [],
   "source": [
    "# grid_knn_best_params = grid_search_knn.best_params_\n",
    "# grid_knn_best_params\n",
    "# #output: {'n_neighbors': 4, 'weights': 'distance'}"
   ]
  },
  {
   "cell_type": "code",
   "execution_count": 11,
   "metadata": {},
   "outputs": [],
   "source": [
    "# grid_knn_best_score = grid_search_knn.best_score_\n",
    "# grid_knn_best_score\n",
    "# #output: 0.9716166666666666"
   ]
  },
  {
   "cell_type": "markdown",
   "metadata": {},
   "source": [
    "# Evaluate the best KNN model on the test set"
   ]
  },
  {
   "cell_type": "code",
   "execution_count": 12,
   "metadata": {},
   "outputs": [],
   "source": [
    "from sklearn.metrics import accuracy_score\n",
    "KNeighborsClassifier(weights='distance', n_neighbors=4)\n",
    "best_knn_model = knn_classifier.fit(X_train, y_train)\n",
    "\n",
    "y_knn_best_model_pred = best_knn_model.predict(X_test)"
   ]
  },
  {
   "cell_type": "code",
   "execution_count": 13,
   "metadata": {},
   "outputs": [
    {
     "data": {
      "text/plain": [
       "0.97"
      ]
     },
     "execution_count": 13,
     "metadata": {},
     "output_type": "execute_result"
    }
   ],
   "source": [
    "accuracy_score_knn_best_model = accuracy_score(y_test, y_knn_best_model_pred)\n",
    "accuracy_score_knn_best_model"
   ]
  },
  {
   "cell_type": "markdown",
   "metadata": {},
   "source": [
    "# Fine-tune, train and evaluate SGD and Random Forest Classifier"
   ]
  },
  {
   "cell_type": "markdown",
   "metadata": {},
   "source": [
    "## SGD"
   ]
  },
  {
   "cell_type": "markdown",
   "metadata": {},
   "source": [
    "### Fine-Tune the Hyperparameters"
   ]
  },
  {
   "cell_type": "code",
   "execution_count": 14,
   "metadata": {},
   "outputs": [],
   "source": [
    "from sklearn.linear_model import SGDClassifier\n",
    "\n",
    "##Commented out GridSearchCV for SGDClassifier because it runs long\n",
    "# param_grid_sgd_classifier =  {\n",
    "#     'loss': ['hinge', 'log_loss'],\n",
    "#     'penalty': ['l2', 'elasticnet'],  \n",
    "#     'alpha': [1e-4, 1e-3],  \n",
    "#     'max_iter': [1000, 2000]\n",
    "# }\n",
    "\n",
    "\n",
    "# sgd_classifier_grid = SGDClassifier()\n",
    "# grid_search_sgd = GridSearchCV(sgd_classifier_grid, param_grid_sgd_classifier, cv=3, verbose=3)\n",
    "# grid_search_sgd.fit(X_train, y_train)"
   ]
  },
  {
   "cell_type": "code",
   "execution_count": 15,
   "metadata": {},
   "outputs": [],
   "source": [
    "# grid_sgd_best_params = grid_search_sgd.best_params_\n",
    "# grid_sgd_best_params\n",
    "# #output: {'alpha': 0.0001, 'loss': 'hinge', 'max_iter': 2000, 'penalty': 'l2'}"
   ]
  },
  {
   "cell_type": "code",
   "execution_count": 16,
   "metadata": {},
   "outputs": [],
   "source": [
    "# grid_sgd_best_score = grid_search_sgd.best_score_\n",
    "# grid_sgd_best_score\n",
    "# #output: 0.8845000000000001"
   ]
  },
  {
   "cell_type": "code",
   "execution_count": 17,
   "metadata": {},
   "outputs": [],
   "source": [
    "# grid_search_sgd_results = grid_search_sgd.cv_results_\n",
    "# grid_search_sgd_results"
   ]
  },
  {
   "cell_type": "code",
   "execution_count": 18,
   "metadata": {},
   "outputs": [],
   "source": [
    "import pandas as pd\n",
    "\n",
    "# results_grid_sgd = [\n",
    "#     {'Score': mean_score, **params} \n",
    "#     for mean_score, params in zip(grid_search_sgd_results[\"mean_test_score\"], grid_search_sgd_results[\"params\"])\n",
    "# ]\n",
    "# grid_search_sgd_results_df = pd.DataFrame(results_grid_sgd)\n",
    "# grid_search_sgd_results_df_sorted = grid_search_sgd_results_df.sort_values(by='Score', ascending=False)\n",
    "# grid_search_sgd_results_df_sorted.to_csv('output/grid_sgd_sorted.csv', index=False)\n",
    "# grid_search_sgd_results_df_sorted"
   ]
  },
  {
   "cell_type": "markdown",
   "metadata": {},
   "source": [
    "## Random Forest Classifier"
   ]
  },
  {
   "cell_type": "markdown",
   "metadata": {},
   "source": [
    "### Fine-Tune the Hyperparameters"
   ]
  },
  {
   "cell_type": "code",
   "execution_count": 19,
   "metadata": {},
   "outputs": [
    {
     "name": "stdout",
     "output_type": "stream",
     "text": [
      "Fitting 3 folds for each of 12 candidates, totalling 36 fits\n",
      "[CV 1/3] END min_samples_leaf=10, min_samples_split=50, n_estimators=300;, score=0.948 total time= 1.2min\n",
      "[CV 2/3] END min_samples_leaf=10, min_samples_split=50, n_estimators=300;, score=0.945 total time= 1.2min\n",
      "[CV 3/3] END min_samples_leaf=10, min_samples_split=50, n_estimators=300;, score=0.950 total time= 1.2min\n",
      "[CV 1/3] END min_samples_leaf=10, min_samples_split=50, n_estimators=1000;, score=0.948 total time= 4.0min\n",
      "[CV 2/3] END min_samples_leaf=10, min_samples_split=50, n_estimators=1000;, score=0.946 total time= 4.0min\n",
      "[CV 3/3] END min_samples_leaf=10, min_samples_split=50, n_estimators=1000;, score=0.950 total time= 4.0min\n",
      "[CV 1/3] END min_samples_leaf=10, min_samples_split=75, n_estimators=300;, score=0.944 total time= 1.2min\n",
      "[CV 2/3] END min_samples_leaf=10, min_samples_split=75, n_estimators=300;, score=0.941 total time= 1.2min\n",
      "[CV 3/3] END min_samples_leaf=10, min_samples_split=75, n_estimators=300;, score=0.946 total time= 1.2min\n",
      "[CV 1/3] END min_samples_leaf=10, min_samples_split=75, n_estimators=1000;, score=0.944 total time= 3.9min\n",
      "[CV 2/3] END min_samples_leaf=10, min_samples_split=75, n_estimators=1000;, score=0.941 total time= 3.8min\n",
      "[CV 3/3] END min_samples_leaf=10, min_samples_split=75, n_estimators=1000;, score=0.947 total time= 3.8min\n",
      "[CV 1/3] END min_samples_leaf=15, min_samples_split=50, n_estimators=300;, score=0.946 total time= 1.2min\n",
      "[CV 2/3] END min_samples_leaf=15, min_samples_split=50, n_estimators=300;, score=0.944 total time= 1.1min\n",
      "[CV 3/3] END min_samples_leaf=15, min_samples_split=50, n_estimators=300;, score=0.948 total time= 1.1min\n",
      "[CV 1/3] END min_samples_leaf=15, min_samples_split=50, n_estimators=1000;, score=0.946 total time= 3.9min\n",
      "[CV 2/3] END min_samples_leaf=15, min_samples_split=50, n_estimators=1000;, score=0.944 total time= 3.9min\n",
      "[CV 3/3] END min_samples_leaf=15, min_samples_split=50, n_estimators=1000;, score=0.949 total time= 3.9min\n",
      "[CV 1/3] END min_samples_leaf=15, min_samples_split=75, n_estimators=300;, score=0.941 total time= 1.1min\n",
      "[CV 2/3] END min_samples_leaf=15, min_samples_split=75, n_estimators=300;, score=0.940 total time= 1.1min\n",
      "[CV 3/3] END min_samples_leaf=15, min_samples_split=75, n_estimators=300;, score=0.945 total time= 1.1min\n",
      "[CV 1/3] END min_samples_leaf=15, min_samples_split=75, n_estimators=1000;, score=0.942 total time= 3.8min\n",
      "[CV 2/3] END min_samples_leaf=15, min_samples_split=75, n_estimators=1000;, score=0.939 total time= 3.8min\n",
      "[CV 3/3] END min_samples_leaf=15, min_samples_split=75, n_estimators=1000;, score=0.945 total time= 3.8min\n",
      "[CV 1/3] END min_samples_leaf=20, min_samples_split=50, n_estimators=300;, score=0.944 total time= 1.2min\n",
      "[CV 2/3] END min_samples_leaf=20, min_samples_split=50, n_estimators=300;, score=0.941 total time= 1.1min\n",
      "[CV 3/3] END min_samples_leaf=20, min_samples_split=50, n_estimators=300;, score=0.947 total time= 1.1min\n",
      "[CV 1/3] END min_samples_leaf=20, min_samples_split=50, n_estimators=1000;, score=0.945 total time= 3.8min\n",
      "[CV 2/3] END min_samples_leaf=20, min_samples_split=50, n_estimators=1000;, score=0.942 total time= 3.7min\n",
      "[CV 3/3] END min_samples_leaf=20, min_samples_split=50, n_estimators=1000;, score=0.947 total time= 3.7min\n",
      "[CV 1/3] END min_samples_leaf=20, min_samples_split=75, n_estimators=300;, score=0.940 total time= 1.1min\n",
      "[CV 2/3] END min_samples_leaf=20, min_samples_split=75, n_estimators=300;, score=0.937 total time= 1.1min\n",
      "[CV 3/3] END min_samples_leaf=20, min_samples_split=75, n_estimators=300;, score=0.944 total time= 1.1min\n",
      "[CV 1/3] END min_samples_leaf=20, min_samples_split=75, n_estimators=1000;, score=0.941 total time= 7.2min\n",
      "[CV 2/3] END min_samples_leaf=20, min_samples_split=75, n_estimators=1000;, score=0.939 total time= 3.7min\n",
      "[CV 3/3] END min_samples_leaf=20, min_samples_split=75, n_estimators=1000;, score=0.944 total time= 3.6min\n"
     ]
    },
    {
     "data": {
      "text/html": [
       "<style>#sk-container-id-2 {color: black;}#sk-container-id-2 pre{padding: 0;}#sk-container-id-2 div.sk-toggleable {background-color: white;}#sk-container-id-2 label.sk-toggleable__label {cursor: pointer;display: block;width: 100%;margin-bottom: 0;padding: 0.3em;box-sizing: border-box;text-align: center;}#sk-container-id-2 label.sk-toggleable__label-arrow:before {content: \"▸\";float: left;margin-right: 0.25em;color: #696969;}#sk-container-id-2 label.sk-toggleable__label-arrow:hover:before {color: black;}#sk-container-id-2 div.sk-estimator:hover label.sk-toggleable__label-arrow:before {color: black;}#sk-container-id-2 div.sk-toggleable__content {max-height: 0;max-width: 0;overflow: hidden;text-align: left;background-color: #f0f8ff;}#sk-container-id-2 div.sk-toggleable__content pre {margin: 0.2em;color: black;border-radius: 0.25em;background-color: #f0f8ff;}#sk-container-id-2 input.sk-toggleable__control:checked~div.sk-toggleable__content {max-height: 200px;max-width: 100%;overflow: auto;}#sk-container-id-2 input.sk-toggleable__control:checked~label.sk-toggleable__label-arrow:before {content: \"▾\";}#sk-container-id-2 div.sk-estimator input.sk-toggleable__control:checked~label.sk-toggleable__label {background-color: #d4ebff;}#sk-container-id-2 div.sk-label input.sk-toggleable__control:checked~label.sk-toggleable__label {background-color: #d4ebff;}#sk-container-id-2 input.sk-hidden--visually {border: 0;clip: rect(1px 1px 1px 1px);clip: rect(1px, 1px, 1px, 1px);height: 1px;margin: -1px;overflow: hidden;padding: 0;position: absolute;width: 1px;}#sk-container-id-2 div.sk-estimator {font-family: monospace;background-color: #f0f8ff;border: 1px dotted black;border-radius: 0.25em;box-sizing: border-box;margin-bottom: 0.5em;}#sk-container-id-2 div.sk-estimator:hover {background-color: #d4ebff;}#sk-container-id-2 div.sk-parallel-item::after {content: \"\";width: 100%;border-bottom: 1px solid gray;flex-grow: 1;}#sk-container-id-2 div.sk-label:hover label.sk-toggleable__label {background-color: #d4ebff;}#sk-container-id-2 div.sk-serial::before {content: \"\";position: absolute;border-left: 1px solid gray;box-sizing: border-box;top: 0;bottom: 0;left: 50%;z-index: 0;}#sk-container-id-2 div.sk-serial {display: flex;flex-direction: column;align-items: center;background-color: white;padding-right: 0.2em;padding-left: 0.2em;position: relative;}#sk-container-id-2 div.sk-item {position: relative;z-index: 1;}#sk-container-id-2 div.sk-parallel {display: flex;align-items: stretch;justify-content: center;background-color: white;position: relative;}#sk-container-id-2 div.sk-item::before, #sk-container-id-2 div.sk-parallel-item::before {content: \"\";position: absolute;border-left: 1px solid gray;box-sizing: border-box;top: 0;bottom: 0;left: 50%;z-index: -1;}#sk-container-id-2 div.sk-parallel-item {display: flex;flex-direction: column;z-index: 1;position: relative;background-color: white;}#sk-container-id-2 div.sk-parallel-item:first-child::after {align-self: flex-end;width: 50%;}#sk-container-id-2 div.sk-parallel-item:last-child::after {align-self: flex-start;width: 50%;}#sk-container-id-2 div.sk-parallel-item:only-child::after {width: 0;}#sk-container-id-2 div.sk-dashed-wrapped {border: 1px dashed gray;margin: 0 0.4em 0.5em 0.4em;box-sizing: border-box;padding-bottom: 0.4em;background-color: white;}#sk-container-id-2 div.sk-label label {font-family: monospace;font-weight: bold;display: inline-block;line-height: 1.2em;}#sk-container-id-2 div.sk-label-container {text-align: center;}#sk-container-id-2 div.sk-container {/* jupyter's `normalize.less` sets `[hidden] { display: none; }` but bootstrap.min.css set `[hidden] { display: none !important; }` so we also need the `!important` here to be able to override the default hidden behavior on the sphinx rendered scikit-learn.org. See: https://github.com/scikit-learn/scikit-learn/issues/21755 */display: inline-block !important;position: relative;}#sk-container-id-2 div.sk-text-repr-fallback {display: none;}</style><div id=\"sk-container-id-2\" class=\"sk-top-container\"><div class=\"sk-text-repr-fallback\"><pre>GridSearchCV(cv=3, estimator=RandomForestClassifier(),\n",
       "             param_grid={&#x27;min_samples_leaf&#x27;: [10, 15, 20],\n",
       "                         &#x27;min_samples_split&#x27;: [50, 75],\n",
       "                         &#x27;n_estimators&#x27;: [300, 1000]},\n",
       "             verbose=3)</pre><b>In a Jupyter environment, please rerun this cell to show the HTML representation or trust the notebook. <br />On GitHub, the HTML representation is unable to render, please try loading this page with nbviewer.org.</b></div><div class=\"sk-container\" hidden><div class=\"sk-item sk-dashed-wrapped\"><div class=\"sk-label-container\"><div class=\"sk-label sk-toggleable\"><input class=\"sk-toggleable__control sk-hidden--visually\" id=\"sk-estimator-id-2\" type=\"checkbox\" ><label for=\"sk-estimator-id-2\" class=\"sk-toggleable__label sk-toggleable__label-arrow\">GridSearchCV</label><div class=\"sk-toggleable__content\"><pre>GridSearchCV(cv=3, estimator=RandomForestClassifier(),\n",
       "             param_grid={&#x27;min_samples_leaf&#x27;: [10, 15, 20],\n",
       "                         &#x27;min_samples_split&#x27;: [50, 75],\n",
       "                         &#x27;n_estimators&#x27;: [300, 1000]},\n",
       "             verbose=3)</pre></div></div></div><div class=\"sk-parallel\"><div class=\"sk-parallel-item\"><div class=\"sk-item\"><div class=\"sk-label-container\"><div class=\"sk-label sk-toggleable\"><input class=\"sk-toggleable__control sk-hidden--visually\" id=\"sk-estimator-id-3\" type=\"checkbox\" ><label for=\"sk-estimator-id-3\" class=\"sk-toggleable__label sk-toggleable__label-arrow\">estimator: RandomForestClassifier</label><div class=\"sk-toggleable__content\"><pre>RandomForestClassifier()</pre></div></div></div><div class=\"sk-serial\"><div class=\"sk-item\"><div class=\"sk-estimator sk-toggleable\"><input class=\"sk-toggleable__control sk-hidden--visually\" id=\"sk-estimator-id-4\" type=\"checkbox\" ><label for=\"sk-estimator-id-4\" class=\"sk-toggleable__label sk-toggleable__label-arrow\">RandomForestClassifier</label><div class=\"sk-toggleable__content\"><pre>RandomForestClassifier()</pre></div></div></div></div></div></div></div></div></div></div>"
      ],
      "text/plain": [
       "GridSearchCV(cv=3, estimator=RandomForestClassifier(),\n",
       "             param_grid={'min_samples_leaf': [10, 15, 20],\n",
       "                         'min_samples_split': [50, 75],\n",
       "                         'n_estimators': [300, 1000]},\n",
       "             verbose=3)"
      ]
     },
     "execution_count": 19,
     "metadata": {},
     "output_type": "execute_result"
    }
   ],
   "source": [
    "from sklearn.ensemble import RandomForestClassifier\n",
    "## Commented out GridSearchCV for RandomForestClassifier because it runs long\n",
    "# param_grid_forest_classifier =  {\n",
    "#     'n_estimators': [300, 1000],\n",
    "#     'min_samples_leaf': [10, 15, 20],\n",
    "#     'min_samples_split': [50, 75]\n",
    "#     }\n",
    "\n",
    "# forest_classifier_grid = RandomForestClassifier()\n",
    "# grid_search_forest = GridSearchCV(forest_classifier_grid, param_grid_forest_classifier, cv=3, verbose=3)\n",
    "# grid_search_forest.fit(X_train, y_train)"
   ]
  },
  {
   "cell_type": "code",
   "execution_count": 24,
   "metadata": {},
   "outputs": [
    {
     "data": {
      "text/plain": [
       "{'min_samples_leaf': 10, 'min_samples_split': 50, 'n_estimators': 1000}"
      ]
     },
     "execution_count": 24,
     "metadata": {},
     "output_type": "execute_result"
    }
   ],
   "source": [
    "# grid_forest_best_params = grid_search_forest.best_params_\n",
    "# grid_forest_best_params\n",
    "# #Output: {'min_samples_leaf': 10, 'min_samples_split': 50, 'n_estimators': 1000}"
   ]
  },
  {
   "cell_type": "code",
   "execution_count": 25,
   "metadata": {},
   "outputs": [
    {
     "data": {
      "text/plain": [
       "0.9478833333333334"
      ]
     },
     "execution_count": 25,
     "metadata": {},
     "output_type": "execute_result"
    }
   ],
   "source": [
    "# grid_forest_best_score = grid_search_forest.best_score_\n",
    "# grid_forest_best_score\n",
    "# #Output: 0.9478833333333334"
   ]
  },
  {
   "cell_type": "code",
   "execution_count": 26,
   "metadata": {},
   "outputs": [],
   "source": [
    "# grid_search_forest_results = grid_search_forest.cv_results_"
   ]
  },
  {
   "cell_type": "code",
   "execution_count": 28,
   "metadata": {},
   "outputs": [
    {
     "data": {
      "text/html": [
       "<div>\n",
       "<style scoped>\n",
       "    .dataframe tbody tr th:only-of-type {\n",
       "        vertical-align: middle;\n",
       "    }\n",
       "\n",
       "    .dataframe tbody tr th {\n",
       "        vertical-align: top;\n",
       "    }\n",
       "\n",
       "    .dataframe thead th {\n",
       "        text-align: right;\n",
       "    }\n",
       "</style>\n",
       "<table border=\"1\" class=\"dataframe\">\n",
       "  <thead>\n",
       "    <tr style=\"text-align: right;\">\n",
       "      <th></th>\n",
       "      <th>Score</th>\n",
       "      <th>min_samples_leaf</th>\n",
       "      <th>min_samples_split</th>\n",
       "      <th>n_estimators</th>\n",
       "    </tr>\n",
       "  </thead>\n",
       "  <tbody>\n",
       "    <tr>\n",
       "      <th>1</th>\n",
       "      <td>0.947883</td>\n",
       "      <td>10</td>\n",
       "      <td>50</td>\n",
       "      <td>1000</td>\n",
       "    </tr>\n",
       "    <tr>\n",
       "      <th>0</th>\n",
       "      <td>0.947433</td>\n",
       "      <td>10</td>\n",
       "      <td>50</td>\n",
       "      <td>300</td>\n",
       "    </tr>\n",
       "    <tr>\n",
       "      <th>5</th>\n",
       "      <td>0.946483</td>\n",
       "      <td>15</td>\n",
       "      <td>50</td>\n",
       "      <td>1000</td>\n",
       "    </tr>\n",
       "    <tr>\n",
       "      <th>4</th>\n",
       "      <td>0.945817</td>\n",
       "      <td>15</td>\n",
       "      <td>50</td>\n",
       "      <td>300</td>\n",
       "    </tr>\n",
       "    <tr>\n",
       "      <th>9</th>\n",
       "      <td>0.944383</td>\n",
       "      <td>20</td>\n",
       "      <td>50</td>\n",
       "      <td>1000</td>\n",
       "    </tr>\n",
       "    <tr>\n",
       "      <th>3</th>\n",
       "      <td>0.944000</td>\n",
       "      <td>10</td>\n",
       "      <td>75</td>\n",
       "      <td>1000</td>\n",
       "    </tr>\n",
       "    <tr>\n",
       "      <th>8</th>\n",
       "      <td>0.943933</td>\n",
       "      <td>20</td>\n",
       "      <td>50</td>\n",
       "      <td>300</td>\n",
       "    </tr>\n",
       "    <tr>\n",
       "      <th>2</th>\n",
       "      <td>0.943500</td>\n",
       "      <td>10</td>\n",
       "      <td>75</td>\n",
       "      <td>300</td>\n",
       "    </tr>\n",
       "    <tr>\n",
       "      <th>7</th>\n",
       "      <td>0.942300</td>\n",
       "      <td>15</td>\n",
       "      <td>75</td>\n",
       "      <td>1000</td>\n",
       "    </tr>\n",
       "    <tr>\n",
       "      <th>6</th>\n",
       "      <td>0.941933</td>\n",
       "      <td>15</td>\n",
       "      <td>75</td>\n",
       "      <td>300</td>\n",
       "    </tr>\n",
       "    <tr>\n",
       "      <th>11</th>\n",
       "      <td>0.941117</td>\n",
       "      <td>20</td>\n",
       "      <td>75</td>\n",
       "      <td>1000</td>\n",
       "    </tr>\n",
       "    <tr>\n",
       "      <th>10</th>\n",
       "      <td>0.940333</td>\n",
       "      <td>20</td>\n",
       "      <td>75</td>\n",
       "      <td>300</td>\n",
       "    </tr>\n",
       "  </tbody>\n",
       "</table>\n",
       "</div>"
      ],
      "text/plain": [
       "       Score  min_samples_leaf  min_samples_split  n_estimators\n",
       "1   0.947883                10                 50          1000\n",
       "0   0.947433                10                 50           300\n",
       "5   0.946483                15                 50          1000\n",
       "4   0.945817                15                 50           300\n",
       "9   0.944383                20                 50          1000\n",
       "3   0.944000                10                 75          1000\n",
       "8   0.943933                20                 50           300\n",
       "2   0.943500                10                 75           300\n",
       "7   0.942300                15                 75          1000\n",
       "6   0.941933                15                 75           300\n",
       "11  0.941117                20                 75          1000\n",
       "10  0.940333                20                 75           300"
      ]
     },
     "execution_count": 28,
     "metadata": {},
     "output_type": "execute_result"
    }
   ],
   "source": [
    "# results_grid_forest = [\n",
    "#     {'Score': mean_score, **params} \n",
    "#     for mean_score, params in zip(grid_search_forest_results[\"mean_test_score\"], grid_search_forest_results[\"params\"])\n",
    "# ]\n",
    "# grid_search_forest_results_df = pd.DataFrame(results_grid_forest)\n",
    "# grid_search_forest_results_df_sorted = grid_search_forest_results_df.sort_values(by='Score', ascending=False)\n",
    "# grid_search_forest_results_df_sorted.to_csv('output/grid_forest_class_sorted.csv', index=False)\n",
    "# grid_search_forest_results_df_sorted"
   ]
  },
  {
   "cell_type": "markdown",
   "metadata": {},
   "source": [
    "### "
   ]
  }
 ],
 "metadata": {
  "kernelspec": {
   "display_name": "Python 3",
   "language": "python",
   "name": "python3"
  },
  "language_info": {
   "codemirror_mode": {
    "name": "ipython",
    "version": 3
   },
   "file_extension": ".py",
   "mimetype": "text/x-python",
   "name": "python",
   "nbconvert_exporter": "python",
   "pygments_lexer": "ipython3",
   "version": "3.10.11"
  }
 },
 "nbformat": 4,
 "nbformat_minor": 2
}
